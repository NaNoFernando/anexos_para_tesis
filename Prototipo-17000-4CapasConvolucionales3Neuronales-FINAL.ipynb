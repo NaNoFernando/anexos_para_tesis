{
 "cells": [
  {
   "cell_type": "code",
   "execution_count": 1,
   "id": "4f92b91b",
   "metadata": {},
   "outputs": [],
   "source": [
    "from tensorflow.keras.models import Sequential\n",
    "from tensorflow.keras.layers import Dense\n",
    "from tensorflow.keras.layers import Convolution2D\n",
    "from tensorflow.keras.layers import MaxPooling2D\n",
    "from tensorflow.keras.layers import Flatten\n",
    "import cv2\n",
    "import numpy as np\n",
    "import glob\n",
    "import os\n",
    "from random import shuffle"
   ]
  },
  {
   "cell_type": "code",
   "execution_count": 2,
   "id": "965e3e14",
   "metadata": {},
   "outputs": [],
   "source": [
    "from tensorflow import keras"
   ]
  },
  {
   "cell_type": "code",
   "execution_count": 3,
   "id": "ee5fb2bf",
   "metadata": {},
   "outputs": [
    {
     "name": "stdout",
     "output_type": "stream",
     "text": [
      "\n"
     ]
    }
   ],
   "source": [
    "import tensorflow as tf\n",
    "print(tf.test.gpu_device_name())"
   ]
  },
  {
   "cell_type": "code",
   "execution_count": 4,
   "id": "5fb8f790",
   "metadata": {},
   "outputs": [],
   "source": [
    "X_train=[]\n",
    "X_test=[]\n",
    "Y_test=[]\n",
    "Y_train=[]\n",
    "dataTr=[]\n",
    "for filename in glob.glob(os.path.join('D:/UMSA/TESIS/Tesis de grado/data/entrenamiento/Melanoma_escalado','*.jpg')):\n",
    "    dataTr.append([1,cv2.imread(filename)])\n",
    "for filename in glob.glob(os.path.join('D:/UMSA/TESIS/Tesis de grado/data/entrenamiento/Carcinoma_escalado','*.jpg')):\n",
    "    dataTr.append([0,cv2.imread(filename)])"
   ]
  },
  {
   "cell_type": "code",
   "execution_count": 5,
   "id": "1d6e8afa",
   "metadata": {},
   "outputs": [],
   "source": [
    "dataTe=[]\n",
    "for filename in glob.glob(os.path.join('D:/UMSA/TESIS/Tesis de grado/data/prueba/melanoma_escalado','*.jpg')):\n",
    "    dataTe.append([1,cv2.imread(filename)])\n",
    "for filename in glob.glob(os.path.join('D:/UMSA/TESIS/Tesis de grado/data/prueba/carcinoma_escalado','*.jpg')):\n",
    "    dataTe.append([0,cv2.imread(filename)])"
   ]
  },
  {
   "cell_type": "code",
   "execution_count": 6,
   "id": "235b98a2",
   "metadata": {},
   "outputs": [],
   "source": [
    "def particion(datos):\n",
    "    imagenes=[]\n",
    "    etiquetas=[]\n",
    "    for i,j in datos:\n",
    "        imagenes.append(j)\n",
    "        etiquetas.append(i)\n",
    "    imagenes=np.array(imagenes)\n",
    "    etiquetas=np.array(etiquetas)\n",
    "    return (imagenes,etiquetas)"
   ]
  },
  {
   "cell_type": "code",
   "execution_count": 7,
   "id": "c1079c2c",
   "metadata": {},
   "outputs": [
    {
     "name": "stdout",
     "output_type": "stream",
     "text": [
      "en total tenemos: 12279 imagenes dentro de la carpeta train\n",
      "en total tenemos: 5261 imagenes dentro de la carpeta test\n"
     ]
    }
   ],
   "source": [
    "shuffle(dataTr)\n",
    "print(\"en total tenemos: \"+str(len(dataTr))+ \" imagenes dentro de la carpeta train\")\n",
    "shuffle(dataTe)\n",
    "print(\"en total tenemos: \"+str(len(dataTe))+ \" imagenes dentro de la carpeta test\")"
   ]
  },
  {
   "cell_type": "code",
   "execution_count": 8,
   "id": "ee439097",
   "metadata": {},
   "outputs": [
    {
     "name": "stdout",
     "output_type": "stream",
     "text": [
      "para entrenamiento tendremos: 12000 imagenes de la carpeta de train\n",
      "para prueba tendremos: 5000 imagenes de la carpeta de test\n"
     ]
    }
   ],
   "source": [
    "porcion1=dataTr[0:12000]\n",
    "porcion2=dataTe[0:5000]\n",
    "print(\"para entrenamiento tendremos: \"+str(len(porcion1))+ \" imagenes de la carpeta de train\")\n",
    "print(\"para prueba tendremos: \"+str(len(porcion2))+ \" imagenes de la carpeta de test\")"
   ]
  },
  {
   "cell_type": "code",
   "execution_count": 9,
   "id": "2cccc92c",
   "metadata": {},
   "outputs": [],
   "source": [
    "x_e,y_e=particion(porcion1)\n",
    "x_p,y_p=particion(porcion2)"
   ]
  },
  {
   "cell_type": "code",
   "execution_count": 10,
   "id": "b06adaff",
   "metadata": {},
   "outputs": [],
   "source": [
    "def validacion(x_e,y_e,x_p,y_p,modelo1,epocas):\n",
    "    entre=modelo1.fit(x_e,y_e,batch_size=32,epochs=epocas,validation_data=(x_p,y_p))\n",
    "    a=modelo1.evaluate(x_p,y_p)\n",
    "    return a[1]"
   ]
  },
  {
   "cell_type": "code",
   "execution_count": 11,
   "id": "fa8b8412",
   "metadata": {},
   "outputs": [],
   "source": [
    "def evaluacion(modelo1,porcentaje,nombre,v1,v2):\n",
    "    prediccion=0\n",
    "    epocas=1\n",
    "    while(True):\n",
    "        if prediccion < porcentaje:\n",
    "            prediccion=(validacion(x_e,y_e,x_p,y_p,modelo1,1))*100\n",
    "            epocas +=1\n",
    "            v1.append(epocas-1)\n",
    "            v2.append(prediccion)\n",
    "        else:\n",
    "            print(\"==> Para el metodo \"+nombre+\" se utilizo: \"+str(epocas-1)+\" epocas para llegar a mas del \"+str(porcentaje)+\"% de acertividad\")\n",
    "            break "
   ]
  },
  {
   "cell_type": "code",
   "execution_count": 12,
   "id": "d3a98edd",
   "metadata": {},
   "outputs": [
    {
     "name": "stdout",
     "output_type": "stream",
     "text": [
      "WARNING:tensorflow:From C:\\Users\\Desktop\\.conda\\envs\\tesis\\lib\\site-packages\\tensorflow_core\\python\\ops\\resource_variable_ops.py:1630: calling BaseResourceVariable.__init__ (from tensorflow.python.ops.resource_variable_ops) with constraint is deprecated and will be removed in a future version.\n",
      "Instructions for updating:\n",
      "If using Keras pass *_constraint arguments to layers.\n",
      "Model: \"sequential\"\n",
      "_________________________________________________________________\n",
      "Layer (type)                 Output Shape              Param #   \n",
      "=================================================================\n",
      "conv2d (Conv2D)              (None, 222, 222, 4)       112       \n",
      "_________________________________________________________________\n",
      "conv2d_1 (Conv2D)            (None, 220, 220, 8)       296       \n",
      "_________________________________________________________________\n",
      "max_pooling2d (MaxPooling2D) (None, 110, 110, 8)       0         \n",
      "_________________________________________________________________\n",
      "conv2d_2 (Conv2D)            (None, 108, 108, 16)      1168      \n",
      "_________________________________________________________________\n",
      "conv2d_3 (Conv2D)            (None, 106, 106, 32)      4640      \n",
      "_________________________________________________________________\n",
      "max_pooling2d_1 (MaxPooling2 (None, 53, 53, 32)        0         \n",
      "_________________________________________________________________\n",
      "flatten (Flatten)            (None, 89888)             0         \n",
      "_________________________________________________________________\n",
      "dense (Dense)                (None, 128)               11505792  \n",
      "_________________________________________________________________\n",
      "dense_1 (Dense)              (None, 100)               12900     \n",
      "_________________________________________________________________\n",
      "dense_2 (Dense)              (None, 100)               10100     \n",
      "_________________________________________________________________\n",
      "dense_3 (Dense)              (None, 1)                 101       \n",
      "=================================================================\n",
      "Total params: 11,535,109\n",
      "Trainable params: 11,535,109\n",
      "Non-trainable params: 0\n",
      "_________________________________________________________________\n"
     ]
    }
   ],
   "source": [
    "modelo=Sequential()\n",
    "modelo.add(Convolution2D(4,(3,3),input_shape=(224,224,3),activation='relu'))\n",
    "modelo.add(Convolution2D(8,(3,3),activation='relu'))\n",
    "modelo.add(MaxPooling2D(pool_size=((2,2))))\n",
    "modelo.add(Convolution2D(16,(3,3),activation='relu'))\n",
    "modelo.add(Convolution2D(32,(3,3),activation='relu'))\n",
    "modelo.add(MaxPooling2D(pool_size=((2,2))))\n",
    "modelo.add(Flatten())\n",
    "modelo.add(Dense(128,activation='relu'))\n",
    "modelo.add(Dense(100,activation='relu'))\n",
    "modelo.add(Dense(100,activation='relu'))\n",
    "modelo.add(Dense(1,activation='sigmoid'))\n",
    "modelo.summary()"
   ]
  },
  {
   "cell_type": "code",
   "execution_count": 13,
   "id": "1355d8a9",
   "metadata": {},
   "outputs": [
    {
     "name": "stdout",
     "output_type": "stream",
     "text": [
      "WARNING:tensorflow:From C:\\Users\\Desktop\\.conda\\envs\\tesis\\lib\\site-packages\\tensorflow_core\\python\\ops\\nn_impl.py:183: where (from tensorflow.python.ops.array_ops) is deprecated and will be removed in a future version.\n",
      "Instructions for updating:\n",
      "Use tf.where in 2.0, which has the same broadcast rule as np.where\n",
      "Train on 12000 samples, validate on 5000 samples\n",
      "12000/12000 [==============================] - 120s 10ms/sample - loss: 1.4601 - acc: 0.7318 - val_loss: 0.4707 - val_acc: 0.7738\n",
      "5000/5000 [==============================] - 9s 2ms/sample - loss: 0.4707 - acc: 0.7738\n",
      "Train on 12000 samples, validate on 5000 samples\n",
      "12000/12000 [==============================] - 122s 10ms/sample - loss: 0.3325 - acc: 0.8568 - val_loss: 0.3983 - val_acc: 0.8264\n",
      "5000/5000 [==============================] - 9s 2ms/sample - loss: 0.3983 - acc: 0.8264\n",
      "==> Para el metodo ADAM se utilizo: 2 epocas para llegar a mas del 80.6% de acertividad\n"
     ]
    }
   ],
   "source": [
    "modelo_adam = keras.optimizers.Adam(learning_rate=0.0008)\n",
    "modelo.compile(optimizer=modelo_adam,loss='binary_crossentropy',metrics=['accuracy'])\n",
    "v_eA=[]\n",
    "v_aA=[]\n",
    "evaluacion(modelo,80,\"ADAM\",v_eA,v_aA)"
   ]
  },
  {
   "cell_type": "code",
   "execution_count": 14,
   "id": "2a1b67f9",
   "metadata": {},
   "outputs": [
    {
     "name": "stdout",
     "output_type": "stream",
     "text": [
      "Train on 12000 samples, validate on 5000 samples\n",
      "12000/12000 [==============================] - 121s 10ms/sample - loss: 0.1769 - acc: 0.9349 - val_loss: 0.4874 - val_acc: 0.8470\n",
      "5000/5000 [==============================] - 9s 2ms/sample - loss: 0.4874 - acc: 0.8470\n",
      "Train on 12000 samples, validate on 5000 samples\n",
      "12000/12000 [==============================] - 121s 10ms/sample - loss: 0.1068 - acc: 0.9611 - val_loss: 0.4536 - val_acc: 0.8374\n",
      "5000/5000 [==============================] - 9s 2ms/sample - loss: 0.4536 - acc: 0.8374\n",
      "Train on 12000 samples, validate on 5000 samples\n",
      "12000/12000 [==============================] - 121s 10ms/sample - loss: 0.0703 - acc: 0.9746 - val_loss: 0.5214 - val_acc: 0.8558\n",
      "5000/5000 [==============================] - 9s 2ms/sample - loss: 0.5214 - acc: 0.8558\n",
      "==> Para el metodo ADAM se utilizo: 3 epocas para llegar a mas del 85% de acertividad\n"
     ]
    }
   ],
   "source": [
    "evaluacion(modelo,85,\"ADAM\",v_eA,v_aA)"
   ]
  },
  {
   "cell_type": "code",
   "execution_count": null,
   "id": "4797890e",
   "metadata": {},
   "outputs": [
    {
     "name": "stdout",
     "output_type": "stream",
     "text": [
      "Train on 12000 samples, validate on 5000 samples\n",
      "12000/12000 [==============================] - 121s 10ms/sample - loss: 0.0563 - acc: 0.9818 - val_loss: 0.5626 - val_acc: 0.8542\n",
      "5000/5000 [==============================] - 9s 2ms/sample - loss: 0.5626 - acc: 0.8542\n",
      "Train on 12000 samples, validate on 5000 samples\n",
      "12000/12000 [==============================] - 121s 10ms/sample - loss: 0.0526 - acc: 0.9815 - val_loss: 0.5465 - val_acc: 0.8502\n",
      "5000/5000 [==============================] - 9s 2ms/sample - loss: 0.5465 - acc: 0.8502\n",
      "Train on 12000 samples, validate on 5000 samples\n",
      "12000/12000 [==============================] - 121s 10ms/sample - loss: 0.0296 - acc: 0.9896 - val_loss: 0.6405 - val_acc: 0.8556\n",
      "5000/5000 [==============================] - 9s 2ms/sample - loss: 0.6405 - acc: 0.8556\n",
      "Train on 12000 samples, validate on 5000 samples\n",
      "12000/12000 [==============================] - 121s 10ms/sample - loss: 0.0350 - acc: 0.9884 - val_loss: 0.6455 - val_acc: 0.8618\n",
      "5000/5000 [==============================] - 9s 2ms/sample - loss: 0.6455 - acc: 0.8618\n",
      "Train on 12000 samples, validate on 5000 samples\n",
      "12000/12000 [==============================] - 121s 10ms/sample - loss: 0.0501 - acc: 0.9819 - val_loss: 0.5690 - val_acc: 0.8682\n",
      "5000/5000 [==============================] - 9s 2ms/sample - loss: 0.5690 - acc: 0.8682\n",
      "Train on 12000 samples, validate on 5000 samples\n",
      "12000/12000 [==============================] - 121s 10ms/sample - loss: 0.0379 - acc: 0.9877 - val_loss: 0.7348 - val_acc: 0.8634\n",
      "5000/5000 [==============================] - 9s 2ms/sample - loss: 0.7348 - acc: 0.8634\n",
      "Train on 12000 samples, validate on 5000 samples\n",
      "12000/12000 [==============================] - 121s 10ms/sample - loss: 0.0270 - acc: 0.9911 - val_loss: 0.6329 - val_acc: 0.8592\n",
      "5000/5000 [==============================] - 9s 2ms/sample - loss: 0.6329 - acc: 0.8592\n",
      "Train on 12000 samples, validate on 5000 samples\n",
      "12000/12000 [==============================] - 121s 10ms/sample - loss: 0.0445 - acc: 0.9839 - val_loss: 0.6860 - val_acc: 0.8560\n",
      "5000/5000 [==============================] - 9s 2ms/sample - loss: 0.6860 - acc: 0.8560\n",
      "Train on 12000 samples, validate on 5000 samples\n",
      "12000/12000 [==============================] - 122s 10ms/sample - loss: 0.0302 - acc: 0.9914 - val_loss: 0.7374 - val_acc: 0.8530\n",
      "5000/5000 [==============================] - 9s 2ms/sample - loss: 0.7374 - acc: 0.8530\n",
      "Train on 12000 samples, validate on 5000 samples\n",
      "12000/12000 [==============================] - 121s 10ms/sample - loss: 0.0364 - acc: 0.9869 - val_loss: 0.5753 - val_acc: 0.8554\n",
      "5000/5000 [==============================] - 9s 2ms/sample - loss: 0.5753 - acc: 0.8554\n",
      "Train on 12000 samples, validate on 5000 samples\n",
      "12000/12000 [==============================] - 121s 10ms/sample - loss: 0.0351 - acc: 0.9878 - val_loss: 0.6029 - val_acc: 0.8670\n",
      "5000/5000 [==============================] - 9s 2ms/sample - loss: 0.6029 - acc: 0.8670\n",
      "Train on 12000 samples, validate on 5000 samples\n",
      "12000/12000 [==============================] - 121s 10ms/sample - loss: 0.0110 - acc: 0.9969 - val_loss: 0.7531 - val_acc: 0.8480\n",
      "5000/5000 [==============================] - 9s 2ms/sample - loss: 0.7531 - acc: 0.8480\n",
      "Train on 12000 samples, validate on 5000 samples\n",
      "12000/12000 [==============================] - 121s 10ms/sample - loss: 0.0558 - acc: 0.9808 - val_loss: 0.4693 - val_acc: 0.8614\n",
      "5000/5000 [==============================] - 9s 2ms/sample - loss: 0.4693 - acc: 0.8614\n",
      "Train on 12000 samples, validate on 5000 samples\n",
      "12000/12000 [==============================] - 121s 10ms/sample - loss: 0.0295 - acc: 0.9904 - val_loss: 0.7883 - val_acc: 0.8654\n",
      "5000/5000 [==============================] - 9s 2ms/sample - loss: 0.7883 - acc: 0.8654\n",
      "Train on 12000 samples, validate on 5000 samples\n",
      "12000/12000 [==============================] - 121s 10ms/sample - loss: 0.0184 - acc: 0.9943 - val_loss: 0.8554 - val_acc: 0.8444\n",
      "5000/5000 [==============================] - 9s 2ms/sample - loss: 0.8554 - acc: 0.8444\n",
      "Train on 12000 samples, validate on 5000 samples\n",
      "12000/12000 [==============================] - 121s 10ms/sample - loss: 0.0252 - acc: 0.9919 - val_loss: 0.6383 - val_acc: 0.8470\n",
      "5000/5000 [==============================] - 9s 2ms/sample - loss: 0.6383 - acc: 0.8470\n",
      "Train on 12000 samples, validate on 5000 samples\n",
      "12000/12000 [==============================] - 121s 10ms/sample - loss: 0.0243 - acc: 0.9920 - val_loss: 0.7931 - val_acc: 0.8748\n",
      "5000/5000 [==============================] - 9s 2ms/sample - loss: 0.7931 - acc: 0.8748\n",
      "Train on 12000 samples, validate on 5000 samples\n",
      "12000/12000 [==============================] - 121s 10ms/sample - loss: 0.0082 - acc: 0.9974 - val_loss: 0.9049 - val_acc: 0.8216\n",
      "5000/5000 [==============================] - 9s 2ms/sample - loss: 0.9049 - acc: 0.8216\n",
      "Train on 12000 samples, validate on 5000 samples\n",
      "12000/12000 [==============================] - 121s 10ms/sample - loss: 0.0718 - acc: 0.9762 - val_loss: 0.6551 - val_acc: 0.8800\n",
      "5000/5000 [==============================] - 9s 2ms/sample - loss: 0.6551 - acc: 0.8800\n",
      "Train on 12000 samples, validate on 5000 samples\n",
      "12000/12000 [==============================] - 121s 10ms/sample - loss: 0.0090 - acc: 0.9972 - val_loss: 0.8227 - val_acc: 0.8452\n",
      "5000/5000 [==============================] - 9s 2ms/sample - loss: 0.8227 - acc: 0.8452\n",
      "Train on 12000 samples, validate on 5000 samples\n",
      "12000/12000 [==============================] - 121s 10ms/sample - loss: 0.0291 - acc: 0.9898 - val_loss: 0.7018 - val_acc: 0.8730\n",
      "5000/5000 [==============================] - 9s 2ms/sample - loss: 0.7018 - acc: 0.8730\n",
      "Train on 12000 samples, validate on 5000 samples\n",
      "12000/12000 [==============================] - 121s 10ms/sample - loss: 0.0065 - acc: 0.9984 - val_loss: 0.7114 - val_acc: 0.8496\n",
      "5000/5000 [==============================] - 9s 2ms/sample - loss: 0.7114 - acc: 0.8496\n",
      "Train on 12000 samples, validate on 5000 samples\n",
      "12000/12000 [==============================] - 125s 10ms/sample - loss: 0.0181 - acc: 0.9942 - val_loss: 0.9650 - val_acc: 0.8740\n",
      "5000/5000 [==============================] - 10s 2ms/sample - loss: 0.9650 - acc: 0.8740\n",
      "Train on 12000 samples, validate on 5000 samples\n",
      "12000/12000 [==============================] - 129s 11ms/sample - loss: 0.0250 - acc: 0.9915 - val_loss: 0.8940 - val_acc: 0.8572\n",
      "5000/5000 [==============================] - 10s 2ms/sample - loss: 0.8940 - acc: 0.8572\n",
      "Train on 12000 samples, validate on 5000 samples\n",
      "12000/12000 [==============================] - 129s 11ms/sample - loss: 0.0284 - acc: 0.9924 - val_loss: 0.6735 - val_acc: 0.8796\n",
      "5000/5000 [==============================] - 10s 2ms/sample - loss: 0.6735 - acc: 0.8796\n",
      "Train on 12000 samples, validate on 5000 samples\n",
      "12000/12000 [==============================] - 129s 11ms/sample - loss: 0.0233 - acc: 0.9937 - val_loss: 0.8693 - val_acc: 0.8530\n",
      "5000/5000 [==============================] - 10s 2ms/sample - loss: 0.8693 - acc: 0.8530\n",
      "Train on 12000 samples, validate on 5000 samples\n",
      "12000/12000 [==============================] - 129s 11ms/sample - loss: 0.0332 - acc: 0.9894 - val_loss: 0.7360 - val_acc: 0.8774\n",
      "5000/5000 [==============================] - 10s 2ms/sample - loss: 0.7360 - acc: 0.8774\n",
      "Train on 12000 samples, validate on 5000 samples\n",
      "12000/12000 [==============================] - 129s 11ms/sample - loss: 0.0108 - acc: 0.9968 - val_loss: 0.7907 - val_acc: 0.8796\n",
      "5000/5000 [==============================] - 10s 2ms/sample - loss: 0.7907 - acc: 0.8796\n",
      "Train on 12000 samples, validate on 5000 samples\n",
      "12000/12000 [==============================] - 129s 11ms/sample - loss: 0.0190 - acc: 0.9942 - val_loss: 0.7195 - val_acc: 0.8814\n",
      "5000/5000 [==============================] - 10s 2ms/sample - loss: 0.7195 - acc: 0.8814\n",
      "Train on 12000 samples, validate on 5000 samples\n",
      "12000/12000 [==============================] - 129s 11ms/sample - loss: 0.0189 - acc: 0.9940 - val_loss: 0.7194 - val_acc: 0.8796\n",
      "5000/5000 [==============================] - 10s 2ms/sample - loss: 0.7194 - acc: 0.8796\n",
      "Train on 12000 samples, validate on 5000 samples\n",
      "12000/12000 [==============================] - 129s 11ms/sample - loss: 0.0015 - acc: 0.9997 - val_loss: 1.0505 - val_acc: 0.8788\n"
     ]
    },
    {
     "name": "stdout",
     "output_type": "stream",
     "text": [
      "5000/5000 [==============================] - 10s 2ms/sample - loss: 1.0505 - acc: 0.8788\n",
      "Train on 12000 samples, validate on 5000 samples\n",
      "12000/12000 [==============================] - 128s 11ms/sample - loss: 7.4350e-05 - acc: 1.0000 - val_loss: 1.0818 - val_acc: 0.8800\n",
      "5000/5000 [==============================] - 9s 2ms/sample - loss: 1.0818 - acc: 0.8800\n",
      "Train on 12000 samples, validate on 5000 samples\n",
      "12000/12000 [==============================] - 127s 11ms/sample - loss: 2.3919e-05 - acc: 1.0000 - val_loss: 1.1335 - val_acc: 0.8800\n",
      "5000/5000 [==============================] - 9s 2ms/sample - loss: 1.1335 - acc: 0.8800\n",
      "Train on 12000 samples, validate on 5000 samples\n",
      "12000/12000 [==============================] - 128s 11ms/sample - loss: 1.3747e-05 - acc: 1.0000 - val_loss: 1.1765 - val_acc: 0.8794\n",
      "5000/5000 [==============================] - 9s 2ms/sample - loss: 1.1765 - acc: 0.8794\n",
      "Train on 12000 samples, validate on 5000 samples\n",
      "12000/12000 [==============================] - 127s 11ms/sample - loss: 9.2612e-06 - acc: 1.0000 - val_loss: 1.2145 - val_acc: 0.8804\n",
      "5000/5000 [==============================] - 9s 2ms/sample - loss: 1.2145 - acc: 0.8804\n",
      "Train on 12000 samples, validate on 5000 samples\n",
      "12000/12000 [==============================] - 127s 11ms/sample - loss: 6.5998e-06 - acc: 1.0000 - val_loss: 1.2462 - val_acc: 0.8796\n",
      "5000/5000 [==============================] - 9s 2ms/sample - loss: 1.2462 - acc: 0.8796\n",
      "Train on 12000 samples, validate on 5000 samples\n",
      "12000/12000 [==============================] - 128s 11ms/sample - loss: 4.8123e-06 - acc: 1.0000 - val_loss: 1.2766 - val_acc: 0.8804\n",
      "5000/5000 [==============================] - 9s 2ms/sample - loss: 1.2766 - acc: 0.8804\n",
      "Train on 12000 samples, validate on 5000 samples\n",
      "12000/12000 [==============================] - 129s 11ms/sample - loss: 3.6157e-06 - acc: 1.0000 - val_loss: 1.3070 - val_acc: 0.8818\n",
      "5000/5000 [==============================] - 10s 2ms/sample - loss: 1.3070 - acc: 0.8818\n",
      "Train on 12000 samples, validate on 5000 samples\n",
      "12000/12000 [==============================] - 129s 11ms/sample - loss: 2.7803e-06 - acc: 1.0000 - val_loss: 1.3331 - val_acc: 0.8822\n",
      "5000/5000 [==============================] - 10s 2ms/sample - loss: 1.3331 - acc: 0.8822\n",
      "Train on 12000 samples, validate on 5000 samples\n",
      "12000/12000 [==============================] - 129s 11ms/sample - loss: 2.1669e-06 - acc: 1.0000 - val_loss: 1.3598 - val_acc: 0.8822\n",
      "5000/5000 [==============================] - 9s 2ms/sample - loss: 1.3598 - acc: 0.8822\n",
      "Train on 12000 samples, validate on 5000 samples\n",
      "12000/12000 [==============================] - 127s 11ms/sample - loss: 1.7027e-06 - acc: 1.0000 - val_loss: 1.3867 - val_acc: 0.8822\n",
      "5000/5000 [==============================] - 9s 2ms/sample - loss: 1.3867 - acc: 0.8822\n",
      "Train on 12000 samples, validate on 5000 samples\n",
      "  192/12000 [..............................] - ETA: 1:55 - loss: 7.9170e-07 - acc: 1.0000"
     ]
    },
    {
     "name": "stderr",
     "output_type": "stream",
     "text": [
      "ERROR:root:Internal Python error in the inspect module.\n",
      "Below is the traceback from this internal error.\n",
      "\n",
      "ERROR:root:Internal Python error in the inspect module.\n",
      "Below is the traceback from this internal error.\n",
      "\n",
      "ERROR:root:Internal Python error in the inspect module.\n",
      "Below is the traceback from this internal error.\n",
      "\n"
     ]
    },
    {
     "name": "stdout",
     "output_type": "stream",
     "text": [
      "Traceback (most recent call last):\n",
      "  File \"C:\\Users\\Desktop\\.conda\\envs\\tesis\\lib\\site-packages\\IPython\\core\\interactiveshell.py\", line 3457, in run_code\n",
      "    exec(code_obj, self.user_global_ns, self.user_ns)\n",
      "  File \"C:\\Users\\Desktop\\AppData\\Local\\Temp\\ipykernel_900\\2153091155.py\", line 1, in <module>\n",
      "    evaluacion(modelo,90,\"ADAM\",v_eA,v_aA)\n",
      "  File \"C:\\Users\\Desktop\\AppData\\Local\\Temp\\ipykernel_900\\1593769438.py\", line 6, in evaluacion\n",
      "    prediccion=(validacion(x_e,y_e,x_p,y_p,modelo1,1))*100\n",
      "  File \"C:\\Users\\Desktop\\AppData\\Local\\Temp\\ipykernel_900\\2085629365.py\", line 2, in validacion\n",
      "    entre=modelo1.fit(x_e,y_e,batch_size=32,epochs=epocas,validation_data=(x_p,y_p))\n",
      "  File \"C:\\Users\\Desktop\\.conda\\envs\\tesis\\lib\\site-packages\\tensorflow_core\\python\\keras\\engine\\training.py\", line 727, in fit\n",
      "    use_multiprocessing=use_multiprocessing)\n",
      "  File \"C:\\Users\\Desktop\\.conda\\envs\\tesis\\lib\\site-packages\\tensorflow_core\\python\\keras\\engine\\training_arrays.py\", line 675, in fit\n",
      "    steps_name='steps_per_epoch')\n",
      "  File \"C:\\Users\\Desktop\\.conda\\envs\\tesis\\lib\\site-packages\\tensorflow_core\\python\\keras\\engine\\training_arrays.py\", line 394, in model_iteration\n",
      "    batch_outs = f(ins_batch)\n",
      "  File \"C:\\Users\\Desktop\\.conda\\envs\\tesis\\lib\\site-packages\\tensorflow_core\\python\\keras\\backend.py\", line 3476, in __call__\n",
      "    run_metadata=self.run_metadata)\n",
      "  File \"C:\\Users\\Desktop\\.conda\\envs\\tesis\\lib\\site-packages\\tensorflow_core\\python\\client\\session.py\", line 1472, in __call__\n",
      "    run_metadata_ptr)\n",
      "KeyboardInterrupt\n",
      "\n",
      "During handling of the above exception, another exception occurred:\n",
      "\n",
      "Traceback (most recent call last):\n",
      "  File \"C:\\Users\\Desktop\\.conda\\envs\\tesis\\lib\\site-packages\\IPython\\core\\interactiveshell.py\", line 2077, in showtraceback\n",
      "    stb = value._render_traceback_()\n",
      "AttributeError: 'KeyboardInterrupt' object has no attribute '_render_traceback_'\n",
      "\n",
      "During handling of the above exception, another exception occurred:\n",
      "\n",
      "Traceback (most recent call last):\n",
      "  File \"C:\\Users\\Desktop\\.conda\\envs\\tesis\\lib\\site-packages\\IPython\\core\\ultratb.py\", line 1101, in get_records\n",
      "    return _fixed_getinnerframes(etb, number_of_lines_of_context, tb_offset)\n",
      "  File \"C:\\Users\\Desktop\\.conda\\envs\\tesis\\lib\\site-packages\\IPython\\core\\ultratb.py\", line 248, in wrapped\n",
      "    return f(*args, **kwargs)\n",
      "  File \"C:\\Users\\Desktop\\.conda\\envs\\tesis\\lib\\site-packages\\IPython\\core\\ultratb.py\", line 281, in _fixed_getinnerframes\n",
      "    records = fix_frame_records_filenames(inspect.getinnerframes(etb, context))\n",
      "  File \"C:\\Users\\Desktop\\.conda\\envs\\tesis\\lib\\inspect.py\", line 1502, in getinnerframes\n",
      "    frameinfo = (tb.tb_frame,) + getframeinfo(tb, context)\n",
      "  File \"C:\\Users\\Desktop\\.conda\\envs\\tesis\\lib\\inspect.py\", line 1460, in getframeinfo\n",
      "    filename = getsourcefile(frame) or getfile(frame)\n",
      "  File \"C:\\Users\\Desktop\\.conda\\envs\\tesis\\lib\\inspect.py\", line 696, in getsourcefile\n",
      "    if getattr(getmodule(object, filename), '__loader__', None) is not None:\n",
      "  File \"C:\\Users\\Desktop\\.conda\\envs\\tesis\\lib\\inspect.py\", line 733, in getmodule\n",
      "    if ismodule(module) and hasattr(module, '__file__'):\n",
      "  File \"C:\\Users\\Desktop\\.conda\\envs\\tesis\\lib\\site-packages\\tensorflow\\__init__.py\", line 50, in __getattr__\n",
      "    module = self._load()\n",
      "  File \"C:\\Users\\Desktop\\.conda\\envs\\tesis\\lib\\site-packages\\tensorflow\\__init__.py\", line 44, in _load\n",
      "    module = _importlib.import_module(self.__name__)\n",
      "  File \"C:\\Users\\Desktop\\.conda\\envs\\tesis\\lib\\importlib\\__init__.py\", line 127, in import_module\n",
      "    return _bootstrap._gcd_import(name[level:], package, level)\n",
      "  File \"<frozen importlib._bootstrap>\", line 1006, in _gcd_import\n",
      "  File \"<frozen importlib._bootstrap>\", line 983, in _find_and_load\n",
      "  File \"<frozen importlib._bootstrap>\", line 967, in _find_and_load_unlocked\n",
      "  File \"<frozen importlib._bootstrap>\", line 677, in _load_unlocked\n",
      "  File \"<frozen importlib._bootstrap_external>\", line 728, in exec_module\n",
      "  File \"<frozen importlib._bootstrap>\", line 219, in _call_with_frames_removed\n",
      "  File \"C:\\Users\\Desktop\\.conda\\envs\\tesis\\lib\\site-packages\\tensorflow_core\\contrib\\__init__.py\", line 39, in <module>\n",
      "    from tensorflow.contrib import compiler\n",
      "  File \"C:\\Users\\Desktop\\.conda\\envs\\tesis\\lib\\site-packages\\tensorflow_core\\contrib\\compiler\\__init__.py\", line 21, in <module>\n",
      "    from tensorflow.contrib.compiler import jit\n",
      "  File \"C:\\Users\\Desktop\\.conda\\envs\\tesis\\lib\\site-packages\\tensorflow_core\\contrib\\compiler\\__init__.py\", line 22, in <module>\n",
      "    from tensorflow.contrib.compiler import xla\n",
      "  File \"C:\\Users\\Desktop\\.conda\\envs\\tesis\\lib\\site-packages\\tensorflow_core\\contrib\\compiler\\xla.py\", line 22, in <module>\n",
      "    from tensorflow.python.estimator import model_fn as model_fn_lib\n",
      "  File \"C:\\Users\\Desktop\\.conda\\envs\\tesis\\lib\\site-packages\\tensorflow_core\\python\\estimator\\model_fn.py\", line 26, in <module>\n",
      "    from tensorflow_estimator.python.estimator import model_fn\n",
      "  File \"C:\\Users\\Desktop\\.conda\\envs\\tesis\\lib\\site-packages\\tensorflow_estimator\\__init__.py\", line 10, in <module>\n",
      "    from tensorflow_estimator._api.v1 import estimator\n",
      "  File \"C:\\Users\\Desktop\\.conda\\envs\\tesis\\lib\\site-packages\\tensorflow_estimator\\_api\\v1\\estimator\\__init__.py\", line 10, in <module>\n",
      "    from tensorflow_estimator._api.v1.estimator import experimental\n",
      "  File \"C:\\Users\\Desktop\\.conda\\envs\\tesis\\lib\\site-packages\\tensorflow_estimator\\_api\\v1\\estimator\\experimental\\__init__.py\", line 10, in <module>\n",
      "    from tensorflow_estimator.python.estimator.canned.dnn import dnn_logit_fn_builder\n",
      "  File \"C:\\Users\\Desktop\\.conda\\envs\\tesis\\lib\\site-packages\\tensorflow_estimator\\python\\estimator\\canned\\dnn.py\", line 27, in <module>\n",
      "    from tensorflow_estimator.python.estimator import estimator\n",
      "  File \"C:\\Users\\Desktop\\.conda\\envs\\tesis\\lib\\site-packages\\tensorflow_estimator\\python\\estimator\\estimator.py\", line 36, in <module>\n",
      "    from tensorflow.python.profiler import trace\n",
      "ImportError: cannot import name 'trace' from 'tensorflow.python.profiler' (C:\\Users\\Desktop\\.conda\\envs\\tesis\\lib\\site-packages\\tensorflow_core\\python\\profiler\\__init__.py)\n",
      "Traceback (most recent call last):\n",
      "  File \"C:\\Users\\Desktop\\.conda\\envs\\tesis\\lib\\site-packages\\IPython\\core\\interactiveshell.py\", line 3457, in run_code\n",
      "    exec(code_obj, self.user_global_ns, self.user_ns)\n",
      "  File \"C:\\Users\\Desktop\\AppData\\Local\\Temp\\ipykernel_900\\2153091155.py\", line 1, in <module>\n",
      "    evaluacion(modelo,90,\"ADAM\",v_eA,v_aA)\n",
      "  File \"C:\\Users\\Desktop\\AppData\\Local\\Temp\\ipykernel_900\\1593769438.py\", line 6, in evaluacion\n",
      "    prediccion=(validacion(x_e,y_e,x_p,y_p,modelo1,1))*100\n",
      "  File \"C:\\Users\\Desktop\\AppData\\Local\\Temp\\ipykernel_900\\2085629365.py\", line 2, in validacion\n",
      "    entre=modelo1.fit(x_e,y_e,batch_size=32,epochs=epocas,validation_data=(x_p,y_p))\n",
      "  File \"C:\\Users\\Desktop\\.conda\\envs\\tesis\\lib\\site-packages\\tensorflow_core\\python\\keras\\engine\\training.py\", line 727, in fit\n",
      "    use_multiprocessing=use_multiprocessing)\n",
      "  File \"C:\\Users\\Desktop\\.conda\\envs\\tesis\\lib\\site-packages\\tensorflow_core\\python\\keras\\engine\\training_arrays.py\", line 675, in fit\n",
      "    steps_name='steps_per_epoch')\n",
      "  File \"C:\\Users\\Desktop\\.conda\\envs\\tesis\\lib\\site-packages\\tensorflow_core\\python\\keras\\engine\\training_arrays.py\", line 394, in model_iteration\n",
      "    batch_outs = f(ins_batch)\n",
      "  File \"C:\\Users\\Desktop\\.conda\\envs\\tesis\\lib\\site-packages\\tensorflow_core\\python\\keras\\backend.py\", line 3476, in __call__\n",
      "    run_metadata=self.run_metadata)\n",
      "  File \"C:\\Users\\Desktop\\.conda\\envs\\tesis\\lib\\site-packages\\tensorflow_core\\python\\client\\session.py\", line 1472, in __call__\n",
      "    run_metadata_ptr)\n",
      "KeyboardInterrupt\n",
      "\n",
      "During handling of the above exception, another exception occurred:\n",
      "\n",
      "Traceback (most recent call last):\n",
      "  File \"C:\\Users\\Desktop\\.conda\\envs\\tesis\\lib\\site-packages\\IPython\\core\\interactiveshell.py\", line 2077, in showtraceback\n",
      "    stb = value._render_traceback_()\n",
      "AttributeError: 'KeyboardInterrupt' object has no attribute '_render_traceback_'\n",
      "\n",
      "During handling of the above exception, another exception occurred:\n",
      "\n",
      "Traceback (most recent call last):\n",
      "  File \"C:\\Users\\Desktop\\.conda\\envs\\tesis\\lib\\site-packages\\IPython\\core\\interactiveshell.py\", line 3377, in run_ast_nodes\n",
      "    if (await self.run_code(code, result,  async_=asy)):\n",
      "  File \"C:\\Users\\Desktop\\.conda\\envs\\tesis\\lib\\site-packages\\IPython\\core\\interactiveshell.py\", line 3474, in run_code\n",
      "    self.showtraceback(running_compiled_code=True)\n",
      "  File \"C:\\Users\\Desktop\\.conda\\envs\\tesis\\lib\\site-packages\\IPython\\core\\interactiveshell.py\", line 2080, in showtraceback\n",
      "    value, tb, tb_offset=tb_offset)\n",
      "  File \"C:\\Users\\Desktop\\.conda\\envs\\tesis\\lib\\site-packages\\IPython\\core\\ultratb.py\", line 1368, in structured_traceback\n",
      "    self, etype, value, tb, tb_offset, number_of_lines_of_context)\n",
      "  File \"C:\\Users\\Desktop\\.conda\\envs\\tesis\\lib\\site-packages\\IPython\\core\\ultratb.py\", line 1268, in structured_traceback\n",
      "    self, etype, value, tb, tb_offset, number_of_lines_of_context\n",
      "  File \"C:\\Users\\Desktop\\.conda\\envs\\tesis\\lib\\site-packages\\IPython\\core\\ultratb.py\", line 1125, in structured_traceback\n",
      "    tb_offset)\n",
      "  File \"C:\\Users\\Desktop\\.conda\\envs\\tesis\\lib\\site-packages\\IPython\\core\\ultratb.py\", line 1082, in format_exception_as_a_whole\n",
      "    last_unique, recursion_repeat = find_recursion(orig_etype, evalue, records)\n",
      "  File \"C:\\Users\\Desktop\\.conda\\envs\\tesis\\lib\\site-packages\\IPython\\core\\ultratb.py\", line 382, in find_recursion\n",
      "    return len(records), 0\n",
      "TypeError: object of type 'NoneType' has no len()\n",
      "\n",
      "During handling of the above exception, another exception occurred:\n",
      "\n",
      "Traceback (most recent call last):\n",
      "  File \"C:\\Users\\Desktop\\.conda\\envs\\tesis\\lib\\site-packages\\IPython\\core\\interactiveshell.py\", line 2077, in showtraceback\n",
      "    stb = value._render_traceback_()\n",
      "AttributeError: 'TypeError' object has no attribute '_render_traceback_'\n",
      "\n",
      "During handling of the above exception, another exception occurred:\n",
      "\n",
      "Traceback (most recent call last):\n",
      "  File \"C:\\Users\\Desktop\\.conda\\envs\\tesis\\lib\\site-packages\\IPython\\core\\ultratb.py\", line 1101, in get_records\n",
      "    return _fixed_getinnerframes(etb, number_of_lines_of_context, tb_offset)\n",
      "  File \"C:\\Users\\Desktop\\.conda\\envs\\tesis\\lib\\site-packages\\IPython\\core\\ultratb.py\", line 248, in wrapped\n",
      "    return f(*args, **kwargs)\n",
      "  File \"C:\\Users\\Desktop\\.conda\\envs\\tesis\\lib\\site-packages\\IPython\\core\\ultratb.py\", line 281, in _fixed_getinnerframes\n",
      "    records = fix_frame_records_filenames(inspect.getinnerframes(etb, context))\n",
      "  File \"C:\\Users\\Desktop\\.conda\\envs\\tesis\\lib\\inspect.py\", line 1502, in getinnerframes\n",
      "    frameinfo = (tb.tb_frame,) + getframeinfo(tb, context)\n",
      "  File \"C:\\Users\\Desktop\\.conda\\envs\\tesis\\lib\\inspect.py\", line 1460, in getframeinfo\n",
      "    filename = getsourcefile(frame) or getfile(frame)\n",
      "  File \"C:\\Users\\Desktop\\.conda\\envs\\tesis\\lib\\inspect.py\", line 696, in getsourcefile\n",
      "    if getattr(getmodule(object, filename), '__loader__', None) is not None:\n",
      "  File \"C:\\Users\\Desktop\\.conda\\envs\\tesis\\lib\\inspect.py\", line 733, in getmodule\n",
      "    if ismodule(module) and hasattr(module, '__file__'):\n",
      "  File \"C:\\Users\\Desktop\\.conda\\envs\\tesis\\lib\\site-packages\\tensorflow\\__init__.py\", line 50, in __getattr__\n",
      "    module = self._load()\n",
      "  File \"C:\\Users\\Desktop\\.conda\\envs\\tesis\\lib\\site-packages\\tensorflow\\__init__.py\", line 44, in _load\n",
      "    module = _importlib.import_module(self.__name__)\n",
      "  File \"C:\\Users\\Desktop\\.conda\\envs\\tesis\\lib\\importlib\\__init__.py\", line 127, in import_module\n",
      "    return _bootstrap._gcd_import(name[level:], package, level)\n",
      "  File \"<frozen importlib._bootstrap>\", line 1006, in _gcd_import\n",
      "  File \"<frozen importlib._bootstrap>\", line 983, in _find_and_load\n",
      "  File \"<frozen importlib._bootstrap>\", line 965, in _find_and_load_unlocked\n",
      "ModuleNotFoundError: No module named 'tensorflow_core.estimator'\n",
      "Traceback (most recent call last):\n",
      "  File \"C:\\Users\\Desktop\\.conda\\envs\\tesis\\lib\\site-packages\\IPython\\core\\interactiveshell.py\", line 3457, in run_code\n",
      "    exec(code_obj, self.user_global_ns, self.user_ns)\n",
      "  File \"C:\\Users\\Desktop\\AppData\\Local\\Temp\\ipykernel_900\\2153091155.py\", line 1, in <module>\n",
      "    evaluacion(modelo,90,\"ADAM\",v_eA,v_aA)\n",
      "  File \"C:\\Users\\Desktop\\AppData\\Local\\Temp\\ipykernel_900\\1593769438.py\", line 6, in evaluacion\n",
      "    prediccion=(validacion(x_e,y_e,x_p,y_p,modelo1,1))*100\n",
      "  File \"C:\\Users\\Desktop\\AppData\\Local\\Temp\\ipykernel_900\\2085629365.py\", line 2, in validacion\n",
      "    entre=modelo1.fit(x_e,y_e,batch_size=32,epochs=epocas,validation_data=(x_p,y_p))\n",
      "  File \"C:\\Users\\Desktop\\.conda\\envs\\tesis\\lib\\site-packages\\tensorflow_core\\python\\keras\\engine\\training.py\", line 727, in fit\n",
      "    use_multiprocessing=use_multiprocessing)\n",
      "  File \"C:\\Users\\Desktop\\.conda\\envs\\tesis\\lib\\site-packages\\tensorflow_core\\python\\keras\\engine\\training_arrays.py\", line 675, in fit\n",
      "    steps_name='steps_per_epoch')\n",
      "  File \"C:\\Users\\Desktop\\.conda\\envs\\tesis\\lib\\site-packages\\tensorflow_core\\python\\keras\\engine\\training_arrays.py\", line 394, in model_iteration\n",
      "    batch_outs = f(ins_batch)\n",
      "  File \"C:\\Users\\Desktop\\.conda\\envs\\tesis\\lib\\site-packages\\tensorflow_core\\python\\keras\\backend.py\", line 3476, in __call__\n",
      "    run_metadata=self.run_metadata)\n",
      "  File \"C:\\Users\\Desktop\\.conda\\envs\\tesis\\lib\\site-packages\\tensorflow_core\\python\\client\\session.py\", line 1472, in __call__\n",
      "    run_metadata_ptr)\n",
      "KeyboardInterrupt\n",
      "\n",
      "During handling of the above exception, another exception occurred:\n",
      "\n",
      "Traceback (most recent call last):\n",
      "  File \"C:\\Users\\Desktop\\.conda\\envs\\tesis\\lib\\site-packages\\IPython\\core\\interactiveshell.py\", line 2077, in showtraceback\n",
      "    stb = value._render_traceback_()\n",
      "AttributeError: 'KeyboardInterrupt' object has no attribute '_render_traceback_'\n",
      "\n",
      "During handling of the above exception, another exception occurred:\n",
      "\n",
      "Traceback (most recent call last):\n",
      "  File \"C:\\Users\\Desktop\\.conda\\envs\\tesis\\lib\\site-packages\\IPython\\core\\interactiveshell.py\", line 3377, in run_ast_nodes\n",
      "    if (await self.run_code(code, result,  async_=asy)):\n",
      "  File \"C:\\Users\\Desktop\\.conda\\envs\\tesis\\lib\\site-packages\\IPython\\core\\interactiveshell.py\", line 3474, in run_code\n",
      "    self.showtraceback(running_compiled_code=True)\n",
      "  File \"C:\\Users\\Desktop\\.conda\\envs\\tesis\\lib\\site-packages\\IPython\\core\\interactiveshell.py\", line 2080, in showtraceback\n",
      "    value, tb, tb_offset=tb_offset)\n",
      "  File \"C:\\Users\\Desktop\\.conda\\envs\\tesis\\lib\\site-packages\\IPython\\core\\ultratb.py\", line 1368, in structured_traceback\n",
      "    self, etype, value, tb, tb_offset, number_of_lines_of_context)\n",
      "  File \"C:\\Users\\Desktop\\.conda\\envs\\tesis\\lib\\site-packages\\IPython\\core\\ultratb.py\", line 1268, in structured_traceback\n",
      "    self, etype, value, tb, tb_offset, number_of_lines_of_context\n",
      "  File \"C:\\Users\\Desktop\\.conda\\envs\\tesis\\lib\\site-packages\\IPython\\core\\ultratb.py\", line 1125, in structured_traceback\n",
      "    tb_offset)\n",
      "  File \"C:\\Users\\Desktop\\.conda\\envs\\tesis\\lib\\site-packages\\IPython\\core\\ultratb.py\", line 1082, in format_exception_as_a_whole\n",
      "    last_unique, recursion_repeat = find_recursion(orig_etype, evalue, records)\n",
      "  File \"C:\\Users\\Desktop\\.conda\\envs\\tesis\\lib\\site-packages\\IPython\\core\\ultratb.py\", line 382, in find_recursion\n",
      "    return len(records), 0\n",
      "TypeError: object of type 'NoneType' has no len()\n",
      "\n",
      "During handling of the above exception, another exception occurred:\n",
      "\n",
      "Traceback (most recent call last):\n",
      "  File \"C:\\Users\\Desktop\\.conda\\envs\\tesis\\lib\\site-packages\\IPython\\core\\interactiveshell.py\", line 2077, in showtraceback\n",
      "    stb = value._render_traceback_()\n",
      "AttributeError: 'TypeError' object has no attribute '_render_traceback_'\n",
      "\n",
      "During handling of the above exception, another exception occurred:\n",
      "\n",
      "Traceback (most recent call last):\n",
      "  File \"C:\\Users\\Desktop\\.conda\\envs\\tesis\\lib\\site-packages\\IPython\\core\\interactiveshell.py\", line 2960, in _run_cell\n",
      "    return runner(coro)\n",
      "  File \"C:\\Users\\Desktop\\.conda\\envs\\tesis\\lib\\site-packages\\IPython\\core\\async_helpers.py\", line 78, in _pseudo_sync_runner\n",
      "    coro.send(None)\n",
      "  File \"C:\\Users\\Desktop\\.conda\\envs\\tesis\\lib\\site-packages\\IPython\\core\\interactiveshell.py\", line 3186, in run_cell_async\n",
      "    interactivity=interactivity, compiler=compiler, result=result)\n",
      "  File \"C:\\Users\\Desktop\\.conda\\envs\\tesis\\lib\\site-packages\\IPython\\core\\interactiveshell.py\", line 3396, in run_ast_nodes\n",
      "    self.showtraceback()\n",
      "  File \"C:\\Users\\Desktop\\.conda\\envs\\tesis\\lib\\site-packages\\IPython\\core\\interactiveshell.py\", line 2080, in showtraceback\n",
      "    value, tb, tb_offset=tb_offset)\n",
      "  File \"C:\\Users\\Desktop\\.conda\\envs\\tesis\\lib\\site-packages\\IPython\\core\\ultratb.py\", line 1368, in structured_traceback\n",
      "    self, etype, value, tb, tb_offset, number_of_lines_of_context)\n",
      "  File \"C:\\Users\\Desktop\\.conda\\envs\\tesis\\lib\\site-packages\\IPython\\core\\ultratb.py\", line 1268, in structured_traceback\n",
      "    self, etype, value, tb, tb_offset, number_of_lines_of_context\n",
      "  File \"C:\\Users\\Desktop\\.conda\\envs\\tesis\\lib\\site-packages\\IPython\\core\\ultratb.py\", line 1143, in structured_traceback\n",
      "    chained_exceptions_tb_offset)\n",
      "  File \"C:\\Users\\Desktop\\.conda\\envs\\tesis\\lib\\site-packages\\IPython\\core\\ultratb.py\", line 1082, in format_exception_as_a_whole\n",
      "    last_unique, recursion_repeat = find_recursion(orig_etype, evalue, records)\n",
      "  File \"C:\\Users\\Desktop\\.conda\\envs\\tesis\\lib\\site-packages\\IPython\\core\\ultratb.py\", line 382, in find_recursion\n",
      "    return len(records), 0\n",
      "TypeError: object of type 'NoneType' has no len()\n",
      "\n",
      "During handling of the above exception, another exception occurred:\n",
      "\n",
      "Traceback (most recent call last):\n",
      "  File \"C:\\Users\\Desktop\\.conda\\envs\\tesis\\lib\\site-packages\\IPython\\core\\interactiveshell.py\", line 2077, in showtraceback\n",
      "    stb = value._render_traceback_()\n",
      "AttributeError: 'TypeError' object has no attribute '_render_traceback_'\n",
      "\n",
      "During handling of the above exception, another exception occurred:\n",
      "\n",
      "Traceback (most recent call last):\n",
      "  File \"C:\\Users\\Desktop\\.conda\\envs\\tesis\\lib\\site-packages\\IPython\\core\\ultratb.py\", line 1101, in get_records\n",
      "    return _fixed_getinnerframes(etb, number_of_lines_of_context, tb_offset)\n",
      "  File \"C:\\Users\\Desktop\\.conda\\envs\\tesis\\lib\\site-packages\\IPython\\core\\ultratb.py\", line 248, in wrapped\n",
      "    return f(*args, **kwargs)\n",
      "  File \"C:\\Users\\Desktop\\.conda\\envs\\tesis\\lib\\site-packages\\IPython\\core\\ultratb.py\", line 281, in _fixed_getinnerframes\n",
      "    records = fix_frame_records_filenames(inspect.getinnerframes(etb, context))\n",
      "  File \"C:\\Users\\Desktop\\.conda\\envs\\tesis\\lib\\inspect.py\", line 1502, in getinnerframes\n",
      "    frameinfo = (tb.tb_frame,) + getframeinfo(tb, context)\n",
      "  File \"C:\\Users\\Desktop\\.conda\\envs\\tesis\\lib\\inspect.py\", line 1460, in getframeinfo\n",
      "    filename = getsourcefile(frame) or getfile(frame)\n",
      "  File \"C:\\Users\\Desktop\\.conda\\envs\\tesis\\lib\\inspect.py\", line 696, in getsourcefile\n",
      "    if getattr(getmodule(object, filename), '__loader__', None) is not None:\n",
      "  File \"C:\\Users\\Desktop\\.conda\\envs\\tesis\\lib\\inspect.py\", line 733, in getmodule\n",
      "    if ismodule(module) and hasattr(module, '__file__'):\n",
      "  File \"C:\\Users\\Desktop\\.conda\\envs\\tesis\\lib\\site-packages\\tensorflow\\__init__.py\", line 50, in __getattr__\n",
      "    module = self._load()\n",
      "  File \"C:\\Users\\Desktop\\.conda\\envs\\tesis\\lib\\site-packages\\tensorflow\\__init__.py\", line 44, in _load\n",
      "    module = _importlib.import_module(self.__name__)\n",
      "  File \"C:\\Users\\Desktop\\.conda\\envs\\tesis\\lib\\importlib\\__init__.py\", line 127, in import_module\n",
      "    return _bootstrap._gcd_import(name[level:], package, level)\n",
      "  File \"<frozen importlib._bootstrap>\", line 1006, in _gcd_import\n",
      "  File \"<frozen importlib._bootstrap>\", line 983, in _find_and_load\n",
      "  File \"<frozen importlib._bootstrap>\", line 965, in _find_and_load_unlocked\n",
      "ModuleNotFoundError: No module named 'tensorflow_core.estimator'\n"
     ]
    }
   ],
   "source": [
    "evaluacion(modelo,90,\"ADAM\",v_eA,v_aA)"
   ]
  },
  {
   "cell_type": "code",
   "execution_count": 16,
   "id": "9e5dacc5",
   "metadata": {},
   "outputs": [],
   "source": [
    "modelo.save(\"D:/UMSA/Documentos/CNN cancer de piel/MODELOS/17000_4_3_FINAL/modelo\")"
   ]
  },
  {
   "cell_type": "code",
   "execution_count": 17,
   "id": "49f346ed",
   "metadata": {},
   "outputs": [],
   "source": [
    "modelo.save_weights(\"D:/UMSA/Documentos/CNN cancer de piel/PESOS/17000_4_3_FINAL/modelo_pesos\")"
   ]
  },
  {
   "cell_type": "code",
   "execution_count": 18,
   "id": "69fa779d",
   "metadata": {},
   "outputs": [
    {
     "name": "stdout",
     "output_type": "stream",
     "text": [
      "# de EPOCAS     Valor del Accuracy\n",
      "----------------------------------\n",
      "epoca  1  =>  77.38000154495239\n",
      "epoca  2  =>  82.63999819755554\n",
      "epoca  3  =>  84.7000002861023\n",
      "epoca  4  =>  83.74000191688538\n",
      "epoca  5  =>  85.57999730110168\n",
      "epoca  6  =>  85.4200005531311\n",
      "epoca  7  =>  85.01999974250793\n",
      "epoca  8  =>  85.55999994277954\n",
      "epoca  9  =>  86.18000149726868\n",
      "epoca  10  =>  86.82000041007996\n",
      "epoca  11  =>  86.33999824523926\n",
      "epoca  12  =>  85.92000007629395\n",
      "epoca  13  =>  85.6000006198883\n",
      "epoca  14  =>  85.29999852180481\n",
      "epoca  15  =>  85.5400025844574\n",
      "epoca  16  =>  86.69999837875366\n",
      "epoca  17  =>  84.79999899864197\n",
      "epoca  18  =>  86.14000082015991\n",
      "epoca  19  =>  86.54000163078308\n",
      "epoca  20  =>  84.43999886512756\n",
      "epoca  21  =>  84.7000002861023\n",
      "epoca  22  =>  87.48000264167786\n",
      "epoca  23  =>  82.16000199317932\n",
      "epoca  24  =>  87.99999952316284\n",
      "epoca  25  =>  84.52000021934509\n",
      "epoca  26  =>  87.30000257492065\n",
      "epoca  27  =>  84.96000170707703\n",
      "epoca  28  =>  87.40000128746033\n",
      "epoca  29  =>  85.7200026512146\n",
      "epoca  30  =>  87.95999884605408\n",
      "epoca  31  =>  85.29999852180481\n",
      "epoca  32  =>  87.73999810218811\n",
      "epoca  33  =>  87.95999884605408\n",
      "epoca  34  =>  88.13999891281128\n",
      "epoca  35  =>  87.95999884605408\n",
      "epoca  36  =>  87.87999749183655\n",
      "epoca  37  =>  87.99999952316284\n",
      "epoca  38  =>  87.99999952316284\n",
      "epoca  39  =>  87.94000148773193\n",
      "epoca  40  =>  88.0400002002716\n",
      "epoca  41  =>  87.95999884605408\n",
      "epoca  42  =>  88.0400002002716\n",
      "epoca  43  =>  88.17999958992004\n",
      "epoca  44  =>  88.22000026702881\n",
      "epoca  45  =>  88.22000026702881\n",
      "epoca  46  =>  88.22000026702881\n"
     ]
    }
   ],
   "source": [
    "count=1\n",
    "print(\"# de EPOCAS     Valor del Accuracy\")\n",
    "print(\"----------------------------------\")\n",
    "for i in v_aA:\n",
    "    print(\"epoca \",count,\" => \",i)\n",
    "    count +=1"
   ]
  },
  {
   "cell_type": "code",
   "execution_count": 19,
   "id": "32fea0a5",
   "metadata": {},
   "outputs": [],
   "source": [
    "%matplotlib inline\n",
    "import matplotlib.pyplot as mp"
   ]
  },
  {
   "cell_type": "code",
   "execution_count": 20,
   "id": "b870fe84",
   "metadata": {},
   "outputs": [
    {
     "data": {
      "image/png": "[encoded data removed]",
      "text/plain": [
       "<Figure size 640x480 with 1 Axes>"
      ]
     },
     "metadata": {},
     "output_type": "display_data"
    }
   ],
   "source": [
    "mp.plot(v_aA,v_eA, marker='o', linestyle=':', color='b', label = \"ADAM\")\n",
    "\n",
    "#mp.xticks(np.arange(70,100,2))\n",
    "#mp.yticks(np.arange(0,4,1))\n",
    "mp.xlabel(\"porcentaje de asertividad\")\n",
    "mp.ylabel(\"Numero de epocas\")\n",
    "mp.legend(loc=\"upper left\")\n",
    "mp.title(\"Nivel de asertividad y epocas con 17000 imagenes\")\n",
    "mp.grid(True)\n",
    "mp.show()"
   ]
  },
  {
   "cell_type": "code",
   "execution_count": 21,
   "id": "22268183",
   "metadata": {},
   "outputs": [],
   "source": [
    "lr_probs = modelo.predict_proba(x_p)\n",
    "lr_probs = lr_probs[:, 0]\n",
    "ns_probs = [0 for _ in range(len(y_p))]\n"
   ]
  },
  {
   "cell_type": "code",
   "execution_count": 22,
   "id": "9b207ba2",
   "metadata": {},
   "outputs": [],
   "source": [
    "from sklearn.metrics import roc_curve\n",
    "from sklearn.metrics import roc_auc_score\n",
    "from matplotlib import pyplot"
   ]
  },
  {
   "cell_type": "code",
   "execution_count": 23,
   "id": "5a674a1b",
   "metadata": {},
   "outputs": [
    {
     "name": "stdout",
     "output_type": "stream",
     "text": [
      "Sin entrenar: ROC AUC=0.500\n",
      "Red Neuronal: ROC AUC=0.939\n"
     ]
    }
   ],
   "source": [
    "# Calculamos el AUC\n",
    "ns_auc = roc_auc_score(y_p, ns_probs)\n",
    "lr_auc = roc_auc_score(y_p, lr_probs)\n",
    "# Imprimimos en pantalla\n",
    "print('Sin entrenar: ROC AUC=%.3f' % (ns_auc))\n",
    "print('Red Neuronal: ROC AUC=%.3f' % (lr_auc))"
   ]
  },
  {
   "cell_type": "code",
   "execution_count": 24,
   "id": "20c7001a",
   "metadata": {},
   "outputs": [
    {
     "data": {
      "image/png": "[encoded data removed]",
      "text/plain": [
       "<Figure size 640x480 with 1 Axes>"
      ]
     },
     "metadata": {},
     "output_type": "display_data"
    }
   ],
   "source": [
    "# Calculamos las curvas ROC\n",
    "ns_fpr, ns_tpr, _ = roc_curve(y_p, ns_probs)\n",
    "lr_fpr, lr_tpr, _ = roc_curve(y_p, lr_probs)\n",
    "# Pintamos las curvas ROC\n",
    "pyplot.plot(ns_fpr, ns_tpr, linestyle='--', label='Sin entrenar')\n",
    "pyplot.plot(lr_fpr, lr_tpr, marker='.', label='Red Neuronal')\n",
    "# Etiquetas de los ejes\n",
    "pyplot.xlabel('Tasa de Falsos Positivos')\n",
    "pyplot.ylabel('Tasa de Verdaderos Positivos')\n",
    "pyplot.legend()\n",
    "mp.grid(True)\n",
    "pyplot.show()"
   ]
  },
  {
   "cell_type": "code",
   "execution_count": 25,
   "id": "b774770a",
   "metadata": {},
   "outputs": [],
   "source": [
    "lr_probs = modelo.predict_proba(x_p)\n",
    "# Nos quedamos unicamente con las predicciones positicas\n",
    "lr_probs = lr_probs[:, 0]"
   ]
  },
  {
   "cell_type": "code",
   "execution_count": 26,
   "id": "8ce60d9d",
   "metadata": {},
   "outputs": [],
   "source": [
    "yhat = modelo.predict(x_p)"
   ]
  },
  {
   "cell_type": "code",
   "execution_count": 27,
   "id": "de31c996",
   "metadata": {},
   "outputs": [],
   "source": [
    "from sklearn.metrics import precision_recall_curve\n",
    "from sklearn.metrics import f1_score\n",
    "from sklearn.metrics import auc"
   ]
  },
  {
   "cell_type": "code",
   "execution_count": 28,
   "id": "cc5e1934",
   "metadata": {},
   "outputs": [],
   "source": [
    "lr_precision, lr_recall, _ = precision_recall_curve(y_p, lr_probs)\n",
    "lr_auc =  auc(lr_recall, lr_precision)\n",
    "no_skill = len(y_p[y_p==1]) / len(y_p)\n"
   ]
  },
  {
   "cell_type": "code",
   "execution_count": 29,
   "id": "9feaeb3f",
   "metadata": {},
   "outputs": [
    {
     "name": "stdout",
     "output_type": "stream",
     "text": [
      "Redes neuronales: auc=0.950\n"
     ]
    },
    {
     "data": {
      "image/png": "[encoded data removed]",
      "text/plain": [
       "<Figure size 640x480 with 1 Axes>"
      ]
     },
     "metadata": {},
     "output_type": "display_data"
    }
   ],
   "source": [
    "print('Redes neuronales: auc=%.3f' % (lr_auc))\n",
    "pyplot.plot([0, 1], [no_skill, no_skill], linestyle='--', label='Sin entrenar')\n",
    "pyplot.plot(lr_recall, lr_precision, marker='.', label='Redes Neuronales')\n",
    "#Etiquetas de ejes\n",
    "pyplot.xlabel('Sensibilidad')\n",
    "pyplot.ylabel('Precisión')\n",
    "pyplot.legend()\n",
    "mp.grid(True)\n",
    "pyplot.show()"
   ]
  },
  {
   "cell_type": "code",
   "execution_count": 30,
   "id": "365e446b",
   "metadata": {},
   "outputs": [
    {
     "data": {
      "text/plain": [
       "[<tf.Variable 'conv2d/kernel:0' shape=(3, 3, 3, 4) dtype=float32>,\n",
       " <tf.Variable 'conv2d/bias:0' shape=(4,) dtype=float32>,\n",
       " <tf.Variable 'conv2d_1/kernel:0' shape=(3, 3, 4, 8) dtype=float32>,\n",
       " <tf.Variable 'conv2d_1/bias:0' shape=(8,) dtype=float32>,\n",
       " <tf.Variable 'conv2d_2/kernel:0' shape=(3, 3, 8, 16) dtype=float32>,\n",
       " <tf.Variable 'conv2d_2/bias:0' shape=(16,) dtype=float32>,\n",
       " <tf.Variable 'conv2d_3/kernel:0' shape=(3, 3, 16, 32) dtype=float32>,\n",
       " <tf.Variable 'conv2d_3/bias:0' shape=(32,) dtype=float32>,\n",
       " <tf.Variable 'dense/kernel:0' shape=(89888, 128) dtype=float32>,\n",
       " <tf.Variable 'dense/bias:0' shape=(128,) dtype=float32>,\n",
       " <tf.Variable 'dense_1/kernel:0' shape=(128, 100) dtype=float32>,\n",
       " <tf.Variable 'dense_1/bias:0' shape=(100,) dtype=float32>,\n",
       " <tf.Variable 'dense_2/kernel:0' shape=(100, 100) dtype=float32>,\n",
       " <tf.Variable 'dense_2/bias:0' shape=(100,) dtype=float32>,\n",
       " <tf.Variable 'dense_3/kernel:0' shape=(100, 1) dtype=float32>,\n",
       " <tf.Variable 'dense_3/bias:0' shape=(1,) dtype=float32>]"
      ]
     },
     "execution_count": 30,
     "metadata": {},
     "output_type": "execute_result"
    }
   ],
   "source": [
    "modelo.weights"
   ]
  },
  {
   "cell_type": "markdown",
   "id": "d58f0d51",
   "metadata": {},
   "source": []
  }
 ],
 "metadata": {
  "kernelspec": {
   "display_name": "Python 3 (ipykernel)",
   "language": "python",
   "name": "python3"
  },
  "language_info": {
   "codemirror_mode": {
    "name": "ipython",
    "version": 3
   },
   "file_extension": ".py",
   "mimetype": "text/x-python",
   "name": "python",
   "nbconvert_exporter": "python",
   "pygments_lexer": "ipython3",
   "version": "3.7.15"
  }
 },
 "nbformat": 4,
 "nbformat_minor": 5
}
