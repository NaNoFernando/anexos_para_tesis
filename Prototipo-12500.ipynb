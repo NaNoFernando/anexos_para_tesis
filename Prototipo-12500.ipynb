{
 "cells": [
  {
   "cell_type": "code",
   "execution_count": 1,
   "id": "4f92b91b",
   "metadata": {},
   "outputs": [],
   "source": [
    "from tensorflow.keras.models import Sequential\n",
    "from tensorflow.keras.layers import Dense\n",
    "from tensorflow.keras.layers import Convolution2D\n",
    "from tensorflow.keras.layers import MaxPooling2D\n",
    "from tensorflow.keras.layers import Flatten\n",
    "import cv2\n",
    "import numpy as np\n",
    "import glob\n",
    "import os\n",
    "from random import shuffle"
   ]
  },
  {
   "cell_type": "code",
   "execution_count": 2,
   "id": "965e3e14",
   "metadata": {},
   "outputs": [],
   "source": [
    "from tensorflow import keras"
   ]
  },
  {
   "cell_type": "code",
   "execution_count": 3,
   "id": "ee5fb2bf",
   "metadata": {},
   "outputs": [
    {
     "name": "stdout",
     "output_type": "stream",
     "text": [
      "\n"
     ]
    }
   ],
   "source": [
    "import tensorflow as tf\n",
    "print(tf.test.gpu_device_name())"
   ]
  },
  {
   "cell_type": "code",
   "execution_count": 4,
   "id": "5fb8f790",
   "metadata": {},
   "outputs": [],
   "source": [
    "X_train=[]\n",
    "X_test=[]\n",
    "Y_test=[]\n",
    "Y_train=[]\n",
    "dataTr=[]\n",
    "for filename in glob.glob(os.path.join('D:/UMSA/TESIS/Tesis de grado/data/entrenamiento/Melanoma_escalado','*.jpg')):\n",
    "    dataTr.append([1,cv2.imread(filename)])\n",
    "for filename in glob.glob(os.path.join('D:/UMSA/TESIS/Tesis de grado/data/entrenamiento/Carcinoma_escalado','*.jpg')):\n",
    "    dataTr.append([0,cv2.imread(filename)])"
   ]
  },
  {
   "cell_type": "code",
   "execution_count": 5,
   "id": "235b98a2",
   "metadata": {},
   "outputs": [],
   "source": [
    "def particion(datos):\n",
    "    imagenes=[]\n",
    "    etiquetas=[]\n",
    "    for i,j in datos:\n",
    "        imagenes.append(j)\n",
    "        etiquetas.append(i)\n",
    "    imagenes=np.array(imagenes)\n",
    "    etiquetas=np.array(etiquetas)\n",
    "    return (imagenes,etiquetas)"
   ]
  },
  {
   "cell_type": "code",
   "execution_count": 6,
   "id": "c1079c2c",
   "metadata": {},
   "outputs": [
    {
     "name": "stdout",
     "output_type": "stream",
     "text": [
      "en total tenemos: 13319 imagenes dentro de la carpeta train\n"
     ]
    }
   ],
   "source": [
    "shuffle(dataTr)\n",
    "print(\"en total tenemos: \"+str(len(dataTr))+ \" imagenes dentro de la carpeta train\")"
   ]
  },
  {
   "cell_type": "code",
   "execution_count": 7,
   "id": "ee439097",
   "metadata": {},
   "outputs": [
    {
     "name": "stdout",
     "output_type": "stream",
     "text": [
      "para entrenamiento tendremos: 8750 imagenes de la carpeta de train\n",
      "para prueba tendremos: 3750 imagenes de la carpeta de train\n"
     ]
    }
   ],
   "source": [
    "porcion1=dataTr[0:8750]\n",
    "porcion2=dataTr[8751:12501]\n",
    "print(\"para entrenamiento tendremos: \"+str(len(porcion1))+ \" imagenes de la carpeta de train\")\n",
    "print(\"para prueba tendremos: \"+str(len(porcion2))+ \" imagenes de la carpeta de train\")"
   ]
  },
  {
   "cell_type": "code",
   "execution_count": 8,
   "id": "2cccc92c",
   "metadata": {},
   "outputs": [],
   "source": [
    "x_e,y_e=particion(porcion1)\n",
    "x_p,y_p=particion(porcion2)"
   ]
  },
  {
   "cell_type": "code",
   "execution_count": 9,
   "id": "b06adaff",
   "metadata": {},
   "outputs": [],
   "source": [
    "def validacion(x_e,y_e,x_p,y_p,modelo1,epocas):\n",
    "    entre=modelo1.fit(x_e,y_e,batch_size=32,epochs=epocas,validation_data=(x_p,y_p))\n",
    "    a=modelo1.evaluate(x_p,y_p)\n",
    "    return a[1]"
   ]
  },
  {
   "cell_type": "code",
   "execution_count": 10,
   "id": "fa8b8412",
   "metadata": {},
   "outputs": [],
   "source": [
    "def evaluacion(modelo1,porcentaje,nombre,v1,v2):\n",
    "    prediccion=0\n",
    "    epocas=1\n",
    "    while(True):\n",
    "        if prediccion < porcentaje:\n",
    "            prediccion=(validacion(x_e,y_e,x_p,y_p,modelo1,1))*100\n",
    "            epocas +=1\n",
    "            v1.append(epocas-1)\n",
    "            v2.append(prediccion)\n",
    "        else:\n",
    "            print(\"==> Para el metodo \"+nombre+\" se utilizo: \"+str(epocas-1)+\" epocas para llegar a mas del \"+str(porcentaje)+\"% de acertividad\")\n",
    "            break "
   ]
  },
  {
   "cell_type": "code",
   "execution_count": 11,
   "id": "d3a98edd",
   "metadata": {},
   "outputs": [
    {
     "name": "stdout",
     "output_type": "stream",
     "text": [
      "WARNING:tensorflow:From C:\\Users\\Desktop\\.conda\\envs\\tesis\\lib\\site-packages\\tensorflow_core\\python\\ops\\resource_variable_ops.py:1630: calling BaseResourceVariable.__init__ (from tensorflow.python.ops.resource_variable_ops) with constraint is deprecated and will be removed in a future version.\n",
      "Instructions for updating:\n",
      "If using Keras pass *_constraint arguments to layers.\n",
      "Model: \"sequential\"\n",
      "_________________________________________________________________\n",
      "Layer (type)                 Output Shape              Param #   \n",
      "=================================================================\n",
      "conv2d (Conv2D)              (None, 222, 222, 32)      896       \n",
      "_________________________________________________________________\n",
      "max_pooling2d (MaxPooling2D) (None, 111, 111, 32)      0         \n",
      "_________________________________________________________________\n",
      "flatten (Flatten)            (None, 394272)            0         \n",
      "_________________________________________________________________\n",
      "dense (Dense)                (None, 128)               50466944  \n",
      "_________________________________________________________________\n",
      "dense_1 (Dense)              (None, 50)                6450      \n",
      "_________________________________________________________________\n",
      "dense_2 (Dense)              (None, 1)                 51        \n",
      "=================================================================\n",
      "Total params: 50,474,341\n",
      "Trainable params: 50,474,341\n",
      "Non-trainable params: 0\n",
      "_________________________________________________________________\n"
     ]
    }
   ],
   "source": [
    "modelo=Sequential()\n",
    "modelo.add(Convolution2D(32,(3,3),input_shape=(224,224,3),activation='relu'))\n",
    "modelo.add(MaxPooling2D(pool_size=((2,2))))\n",
    "modelo.add(Flatten())\n",
    "modelo.add(Dense(128,activation='relu'))\n",
    "modelo.add(Dense(50,activation='relu'))\n",
    "modelo.add(Dense(1,activation='sigmoid'))\n",
    "modelo.summary()"
   ]
  },
  {
   "cell_type": "code",
   "execution_count": 12,
   "id": "1355d8a9",
   "metadata": {},
   "outputs": [
    {
     "name": "stdout",
     "output_type": "stream",
     "text": [
      "WARNING:tensorflow:From C:\\Users\\Desktop\\.conda\\envs\\tesis\\lib\\site-packages\\tensorflow_core\\python\\ops\\nn_impl.py:183: where (from tensorflow.python.ops.array_ops) is deprecated and will be removed in a future version.\n",
      "Instructions for updating:\n",
      "Use tf.where in 2.0, which has the same broadcast rule as np.where\n",
      "Train on 8750 samples, validate on 3750 samples\n",
      "8750/8750 [==============================] - 82s 9ms/sample - loss: 162.3522 - acc: 0.6327 - val_loss: 2.2469 - val_acc: 0.6773\n",
      "3750/3750 [==============================] - 7s 2ms/sample - loss: 2.2469 - acc: 0.6773\n",
      "Train on 8750 samples, validate on 3750 samples\n",
      "8750/8750 [==============================] - 82s 9ms/sample - loss: 0.7646 - acc: 0.7757 - val_loss: 1.1996 - val_acc: 0.7112\n",
      "3750/3750 [==============================] - 7s 2ms/sample - loss: 1.1996 - acc: 0.7112\n",
      "Train on 8750 samples, validate on 3750 samples\n",
      "8750/8750 [==============================] - 82s 9ms/sample - loss: 0.4246 - acc: 0.8433 - val_loss: 0.6927 - val_acc: 0.7659\n",
      "3750/3750 [==============================] - 7s 2ms/sample - loss: 0.6927 - acc: 0.7659\n",
      "Train on 8750 samples, validate on 3750 samples\n",
      "8750/8750 [==============================] - 83s 9ms/sample - loss: 0.2362 - acc: 0.9038 - val_loss: 0.6517 - val_acc: 0.7656\n",
      "3750/3750 [==============================] - 7s 2ms/sample - loss: 0.6517 - acc: 0.7656\n",
      "Train on 8750 samples, validate on 3750 samples\n",
      "8750/8750 [==============================] - 82s 9ms/sample - loss: 0.1843 - acc: 0.9270 - val_loss: 0.7364 - val_acc: 0.7840\n",
      "3750/3750 [==============================] - 7s 2ms/sample - loss: 0.7364 - acc: 0.7840\n",
      "Train on 8750 samples, validate on 3750 samples\n",
      "8750/8750 [==============================] - 82s 9ms/sample - loss: 0.1318 - acc: 0.9534 - val_loss: 0.9799 - val_acc: 0.7829\n",
      "3750/3750 [==============================] - 7s 2ms/sample - loss: 0.9799 - acc: 0.7829\n",
      "Train on 8750 samples, validate on 3750 samples\n",
      "8750/8750 [==============================] - 82s 9ms/sample - loss: 0.2424 - acc: 0.9223 - val_loss: 0.8583 - val_acc: 0.7779\n",
      "3750/3750 [==============================] - 7s 2ms/sample - loss: 0.8583 - acc: 0.7779\n",
      "Train on 8750 samples, validate on 3750 samples\n",
      "8750/8750 [==============================] - 82s 9ms/sample - loss: 0.1354 - acc: 0.9528 - val_loss: 0.8091 - val_acc: 0.7760\n",
      "3750/3750 [==============================] - 7s 2ms/sample - loss: 0.8091 - acc: 0.7760\n",
      "Train on 8750 samples, validate on 3750 samples\n",
      "8750/8750 [==============================] - 82s 9ms/sample - loss: 0.0821 - acc: 0.9763 - val_loss: 0.8959 - val_acc: 0.8085\n",
      "3750/3750 [==============================] - 7s 2ms/sample - loss: 0.8959 - acc: 0.8085\n",
      "==> Para el metodo ADAM se utilizo: 9 epocas para llegar a mas del 80% de acertividad\n"
     ]
    }
   ],
   "source": [
    "modelo_adam = keras.optimizers.Adam(learning_rate=0.0008)\n",
    "modelo.compile(optimizer=modelo_adam,loss='binary_crossentropy',metrics=['accuracy'])\n",
    "v_eA=[]\n",
    "v_aA=[]\n",
    "historial=evaluacion(modelo,80,\"ADAM\",v_eA,v_aA)"
   ]
  },
  {
   "cell_type": "code",
   "execution_count": 13,
   "id": "9e5dacc5",
   "metadata": {},
   "outputs": [],
   "source": [
    "modelo.save(\"D:/UMSA/Documentos/CNN cancer de piel/MODELOS/12500/modelo\")"
   ]
  },
  {
   "cell_type": "code",
   "execution_count": 14,
   "id": "49f346ed",
   "metadata": {},
   "outputs": [],
   "source": [
    "modelo.save_weights(\"D:/UMSA/Documentos/CNN cancer de piel/PESOS/12500/modelo_pesos\")"
   ]
  },
  {
   "cell_type": "code",
   "execution_count": 15,
   "id": "69fa779d",
   "metadata": {},
   "outputs": [
    {
     "name": "stdout",
     "output_type": "stream",
     "text": [
      "# de EPOCAS     Valor del Accuracy\n",
      "----------------------------------\n",
      "epoca  1  =>  67.73333549499512\n",
      "epoca  2  =>  71.11999988555908\n",
      "epoca  3  =>  76.58666372299194\n",
      "epoca  4  =>  76.56000256538391\n",
      "epoca  5  =>  78.39999794960022\n",
      "epoca  6  =>  78.29333543777466\n",
      "epoca  7  =>  77.78666615486145\n",
      "epoca  8  =>  77.60000228881836\n",
      "epoca  9  =>  80.85333108901978\n"
     ]
    }
   ],
   "source": [
    "count=1\n",
    "print(\"# de EPOCAS     Valor del Accuracy\")\n",
    "print(\"----------------------------------\")\n",
    "for i in v_aA:\n",
    "    print(\"epoca \",count,\" => \",i)\n",
    "    count +=1"
   ]
  },
  {
   "cell_type": "code",
   "execution_count": 16,
   "id": "32fea0a5",
   "metadata": {},
   "outputs": [],
   "source": [
    "%matplotlib inline\n",
    "import matplotlib.pyplot as mp"
   ]
  },
  {
   "cell_type": "code",
   "execution_count": 17,
   "id": "b870fe84",
   "metadata": {},
   "outputs": [
    {
     "data": {
      "image/png": "[encoded data removed]",
      "text/plain": [
       "<Figure size 640x480 with 1 Axes>"
      ]
     },
     "metadata": {},
     "output_type": "display_data"
    }
   ],
   "source": [
    "mp.plot(v_aA,v_eA, marker='o', linestyle=':', color='b', label = \"ADAM\")\n",
    "\n",
    "#mp.xticks(np.arange(70,100,2))\n",
    "#mp.yticks(np.arange(0,4,1))\n",
    "mp.xlabel(\"porcentaje de asertividad\")\n",
    "mp.ylabel(\"Numero de epocas\")\n",
    "mp.legend(loc=\"upper left\")\n",
    "mp.title(\"Nivel de asertividad y epocas con 10000 imagenes\")\n",
    "mp.grid(True)\n",
    "mp.show()"
   ]
  },
  {
   "cell_type": "code",
   "execution_count": 19,
   "id": "630e2f6b",
   "metadata": {},
   "outputs": [],
   "source": [
    "modelo_cargado=keras.models.load_model(\"D:/UMSA/Documentos/CNN cancer de piel/MODELOS/12500/modelo\")"
   ]
  },
  {
   "cell_type": "code",
   "execution_count": 20,
   "id": "91aec762",
   "metadata": {},
   "outputs": [
    {
     "name": "stdout",
     "output_type": "stream",
     "text": [
      "Model: \"sequential\"\n",
      "_________________________________________________________________\n",
      "Layer (type)                 Output Shape              Param #   \n",
      "=================================================================\n",
      "conv2d (Conv2D)              (None, 222, 222, 32)      896       \n",
      "_________________________________________________________________\n",
      "max_pooling2d (MaxPooling2D) (None, 111, 111, 32)      0         \n",
      "_________________________________________________________________\n",
      "flatten (Flatten)            (None, 394272)            0         \n",
      "_________________________________________________________________\n",
      "dense (Dense)                (None, 128)               50466944  \n",
      "_________________________________________________________________\n",
      "dense_1 (Dense)              (None, 50)                6450      \n",
      "_________________________________________________________________\n",
      "dense_2 (Dense)              (None, 1)                 51        \n",
      "=================================================================\n",
      "Total params: 50,474,341\n",
      "Trainable params: 50,474,341\n",
      "Non-trainable params: 0\n",
      "_________________________________________________________________\n"
     ]
    }
   ],
   "source": [
    "modelo_cargado.summary()"
   ]
  },
  {
   "cell_type": "markdown",
   "id": "d58f0d51",
   "metadata": {},
   "source": []
  }
 ],
 "metadata": {
  "kernelspec": {
   "display_name": "Python 3 (ipykernel)",
   "language": "python",
   "name": "python3"
  },
  "language_info": {
   "codemirror_mode": {
    "name": "ipython",
    "version": 3
   },
   "file_extension": ".py",
   "mimetype": "text/x-python",
   "name": "python",
   "nbconvert_exporter": "python",
   "pygments_lexer": "ipython3",
   "version": "3.7.15"
  }
 },
 "nbformat": 4,
 "nbformat_minor": 5
}
