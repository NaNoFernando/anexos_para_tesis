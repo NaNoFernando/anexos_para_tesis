{
 "cells": [
  {
   "cell_type": "markdown",
   "id": "e5ba8293",
   "metadata": {},
   "source": [
    "# Existen 3 buenos metodos para optimizar el modelo en forma de backpropagation\n",
    "\n",
    "#### ADAM\n",
    "#### SGD\n",
    "#### rmsPROP"
   ]
  },
  {
   "cell_type": "code",
   "execution_count": 1,
   "id": "a07b844c",
   "metadata": {},
   "outputs": [],
   "source": [
    "from tensorflow.keras.models import Sequential\n",
    "from tensorflow.keras.layers import Dense\n",
    "from tensorflow.keras.layers import Convolution2D\n",
    "from tensorflow.keras.layers import MaxPooling2D\n",
    "from tensorflow.keras.layers import Flatten\n",
    "import cv2\n",
    "import numpy as np\n",
    "import glob\n",
    "import os\n",
    "from random import shuffle"
   ]
  },
  {
   "cell_type": "markdown",
   "id": "ef93fb15",
   "metadata": {},
   "source": [
    "## creamos la distribucion para la prueba TOMANDO EN CUENTA SOLO 1000 IMAGENES"
   ]
  },
  {
   "cell_type": "code",
   "execution_count": 2,
   "id": "3f1beae4",
   "metadata": {},
   "outputs": [],
   "source": [
    "X_train=[]\n",
    "X_test=[]\n",
    "Y_test=[]\n",
    "Y_train=[]\n",
    "dataTr=[]\n",
    "for filename in glob.glob(os.path.join('data/train/malignant','*.jpg')):\n",
    "    dataTr.append([1,cv2.imread(filename)])\n",
    "for filename in glob.glob(os.path.join('data/train/benign','*.jpg')):\n",
    "    dataTr.append([0,cv2.imread(filename)])"
   ]
  },
  {
   "cell_type": "code",
   "execution_count": 3,
   "id": "9391f6b5",
   "metadata": {},
   "outputs": [
    {
     "name": "stdout",
     "output_type": "stream",
     "text": [
      "en total tenemos: 2637 imagenes dentro de la carpeta train\n"
     ]
    }
   ],
   "source": [
    "shuffle(dataTr)\n",
    "print(\"en total tenemos: \"+str(len(dataTr))+ \" imagenes dentro de la carpeta train\")"
   ]
  },
  {
   "cell_type": "code",
   "execution_count": 4,
   "id": "45410d0d",
   "metadata": {},
   "outputs": [
    {
     "name": "stdout",
     "output_type": "stream",
     "text": [
      "para entrenamiento tendremos: 700 imagenes de la carpeta de train\n",
      "para prueba tendremos: 300 imagenes de la carpeta de test\n"
     ]
    }
   ],
   "source": [
    "porcion1=dataTr[0:700]\n",
    "porcion2=dataTr[701:1001]\n",
    "print(\"para entrenamiento tendremos: \"+str(len(porcion1))+ \" imagenes de la carpeta de train\")\n",
    "print(\"para prueba tendremos: \"+str(len(porcion2))+ \" imagenes de la carpeta de test\")"
   ]
  },
  {
   "cell_type": "code",
   "execution_count": 5,
   "id": "995873d5",
   "metadata": {},
   "outputs": [],
   "source": [
    "def particion(datos):\n",
    "    imagenes=[]\n",
    "    etiquetas=[]\n",
    "    for i,j in datos:\n",
    "        imagenes.append(j)\n",
    "        etiquetas.append(i)\n",
    "    imagenes=np.array(imagenes)\n",
    "    etiquetas=np.array(etiquetas)\n",
    "    return (imagenes,etiquetas)"
   ]
  },
  {
   "cell_type": "code",
   "execution_count": 6,
   "id": "8496c304",
   "metadata": {},
   "outputs": [],
   "source": [
    "x_e,y_e=particion(porcion1)\n",
    "x_p,y_p=particion(porcion2)"
   ]
  },
  {
   "cell_type": "markdown",
   "id": "76e444a4",
   "metadata": {},
   "source": [
    "# CREAMOS LAS CAPAS DE LA CONVOLUCION Y RN"
   ]
  },
  {
   "cell_type": "code",
   "execution_count": 7,
   "id": "b4ac164b",
   "metadata": {},
   "outputs": [],
   "source": [
    "def creacion_modelo():\n",
    "    modelo=Sequential()\n",
    "    modelo.add(Convolution2D(32,(3,3),input_shape=(224,224,3),activation='relu'))\n",
    "    modelo.add(MaxPooling2D(pool_size=((2,2))))\n",
    "    modelo.add(Flatten())\n",
    "    modelo.add(Dense(128,activation='relu'))\n",
    "    modelo.add(Dense(50,activation='relu'))\n",
    "    modelo.add(Dense(1,activation='sigmoid'))\n",
    "    return modelo"
   ]
  },
  {
   "cell_type": "markdown",
   "id": "cc328ca6",
   "metadata": {},
   "source": [
    "## Importamos la libreria de KERAS donde se almacenan los metodos de Descenso de Gradiente"
   ]
  },
  {
   "cell_type": "code",
   "execution_count": 8,
   "id": "3d7b8146",
   "metadata": {},
   "outputs": [],
   "source": [
    "from tensorflow import keras"
   ]
  },
  {
   "cell_type": "markdown",
   "id": "a43434d4",
   "metadata": {},
   "source": [
    "#### pondremos el valor que biene por defecto en el learning rate que es del 0.002"
   ]
  },
  {
   "cell_type": "code",
   "execution_count": 9,
   "id": "edab759e",
   "metadata": {},
   "outputs": [],
   "source": [
    "lr=0.0009"
   ]
  },
  {
   "cell_type": "code",
   "execution_count": 10,
   "id": "1296d36a",
   "metadata": {},
   "outputs": [],
   "source": [
    "def validacion(x_e,y_e,x_p,y_p,model,epocas):\n",
    "    entre=model.fit(x_e,y_e,batch_size=32,epochs=epocas,validation_data=(x_p,y_p))\n",
    "    a=model.evaluate(x_p,y_p)\n",
    "    return a[1]"
   ]
  },
  {
   "cell_type": "code",
   "execution_count": 11,
   "id": "431e190f",
   "metadata": {},
   "outputs": [],
   "source": [
    "def evaluacion(modelo,porcentaje,nombre,v1,v2):\n",
    "    prediccion=0\n",
    "    epocas=1\n",
    "    while(True):\n",
    "        if prediccion < porcentaje:\n",
    "            prediccion=(validacion(x_e,y_e,x_p,y_p,modelo,1))*100\n",
    "            epocas +=1\n",
    "            v1.append(epocas-1)\n",
    "            v2.append(prediccion)\n",
    "        else:\n",
    "            print(\"==> Para el metodo \"+nombre+\" se utilizo: \"+str(epocas-1)+\" epocas para llegar a mas del \"+str(porcentaje)+\"% de acertividad\")\n",
    "            break   "
   ]
  },
  {
   "cell_type": "markdown",
   "id": "445dc97f",
   "metadata": {},
   "source": [
    "## metodo ADAM"
   ]
  },
  {
   "cell_type": "code",
   "execution_count": 45,
   "id": "b17b6179",
   "metadata": {},
   "outputs": [],
   "source": [
    "modelo1=creacion_modelo()"
   ]
  },
  {
   "cell_type": "code",
   "execution_count": 46,
   "id": "7522eff6",
   "metadata": {},
   "outputs": [],
   "source": [
    "modelo_adam = keras.optimizers.Adam(learning_rate=lr)\n",
    "modelo1.compile(optimizer=modelo_adam,loss='binary_crossentropy',metrics=['accuracy'])"
   ]
  },
  {
   "cell_type": "code",
   "execution_count": 47,
   "id": "be52e9cd",
   "metadata": {},
   "outputs": [
    {
     "name": "stdout",
     "output_type": "stream",
     "text": [
      "Train on 700 samples, validate on 300 samples\n",
      "700/700 [==============================] - 9s 12ms/sample - loss: 1327.7126 - acc: 0.5514 - val_loss: 211.2773 - val_acc: 0.5433\n",
      "300/300 [==============================] - 1s 3ms/sample - loss: 211.2773 - acc: 0.5433\n",
      "Train on 700 samples, validate on 300 samples\n",
      "700/700 [==============================] - 8s 12ms/sample - loss: 92.2816 - acc: 0.6943 - val_loss: 27.3445 - val_acc: 0.7433\n",
      "300/300 [==============================] - 1s 3ms/sample - loss: 27.3445 - acc: 0.7433\n",
      "Train on 700 samples, validate on 300 samples\n",
      "700/700 [==============================] - 8s 12ms/sample - loss: 15.1761 - acc: 0.7629 - val_loss: 11.9206 - val_acc: 0.7533\n",
      "300/300 [==============================] - 1s 3ms/sample - loss: 11.9206 - acc: 0.7533\n",
      "Train on 700 samples, validate on 300 samples\n",
      "700/700 [==============================] - 8s 12ms/sample - loss: 26.3739 - acc: 0.6986 - val_loss: 32.8316 - val_acc: 0.7767\n",
      "300/300 [==============================] - 1s 3ms/sample - loss: 32.8316 - acc: 0.7767\n",
      "Train on 700 samples, validate on 300 samples\n",
      "700/700 [==============================] - 8s 12ms/sample - loss: 20.7559 - acc: 0.8086 - val_loss: 12.0684 - val_acc: 0.7800\n",
      "300/300 [==============================] - 1s 3ms/sample - loss: 12.0684 - acc: 0.7800\n",
      "Train on 700 samples, validate on 300 samples\n",
      "700/700 [==============================] - 8s 12ms/sample - loss: 5.9187 - acc: 0.8129 - val_loss: 4.8849 - val_acc: 0.8033\n",
      "300/300 [==============================] - 1s 3ms/sample - loss: 4.8849 - acc: 0.8033\n",
      "==> Para el metodo ADAM se utilizo: 6 epocas para llegar a mas del 80% de acertividad\n"
     ]
    }
   ],
   "source": [
    "v_eA=[]\n",
    "v_aA=[]\n",
    "evaluacion(modelo1,80,\"ADAM\",v_eA,v_aA)"
   ]
  },
  {
   "cell_type": "markdown",
   "id": "87927e24",
   "metadata": {},
   "source": [
    "## metodo SGD"
   ]
  },
  {
   "cell_type": "code",
   "execution_count": null,
   "id": "e15ac7fa",
   "metadata": {},
   "outputs": [],
   "source": [
    "modelo2=creacion_modelo()"
   ]
  },
  {
   "cell_type": "code",
   "execution_count": null,
   "id": "8a540575",
   "metadata": {},
   "outputs": [],
   "source": [
    "modelo_sgd = keras.optimizers.SGD(learning_rate=lr)\n",
    "modelo2.compile(optimizer=modelo_sgd,loss='binary_crossentropy',metrics=['accuracy'])"
   ]
  },
  {
   "cell_type": "code",
   "execution_count": null,
   "id": "c5f8b033",
   "metadata": {},
   "outputs": [],
   "source": [
    "v_eS=[]\n",
    "v_aS=[]\n",
    "evaluacion(modelo2,80,\"SGD\",v_eS,v_aS)"
   ]
  },
  {
   "cell_type": "markdown",
   "id": "82faed78",
   "metadata": {},
   "source": [
    "## metodo RMSprop"
   ]
  },
  {
   "cell_type": "code",
   "execution_count": 51,
   "id": "7ac96049",
   "metadata": {},
   "outputs": [],
   "source": [
    "modelo3=creacion_modelo()"
   ]
  },
  {
   "cell_type": "code",
   "execution_count": 52,
   "id": "53cdd812",
   "metadata": {},
   "outputs": [],
   "source": [
    "modelo_RMSprop = keras.optimizers.RMSprop(learning_rate=lr)\n",
    "modelo3.compile(optimizer=modelo_RMSprop,loss='binary_crossentropy',metrics=['accuracy'])"
   ]
  },
  {
   "cell_type": "code",
   "execution_count": 53,
   "id": "91a59d41",
   "metadata": {},
   "outputs": [
    {
     "name": "stdout",
     "output_type": "stream",
     "text": [
      "Train on 700 samples, validate on 300 samples\n",
      "700/700 [==============================] - 10s 14ms/sample - loss: 4610.0321 - acc: 0.5300 - val_loss: 2233.8272 - val_acc: 0.4300\n",
      "300/300 [==============================] - 1s 2ms/sample - loss: 2233.8271 - acc: 0.4300\n",
      "Train on 700 samples, validate on 300 samples\n",
      "700/700 [==============================] - 9s 14ms/sample - loss: 703.1536 - acc: 0.5600 - val_loss: 354.2288 - val_acc: 0.5200\n",
      "300/300 [==============================] - 1s 2ms/sample - loss: 354.2288 - acc: 0.5200\n",
      "Train on 700 samples, validate on 300 samples\n",
      "700/700 [==============================] - 9s 13ms/sample - loss: 360.4222 - acc: 0.5514 - val_loss: 23.7308 - val_acc: 0.7700\n",
      "300/300 [==============================] - 1s 2ms/sample - loss: 23.7308 - acc: 0.7700\n",
      "Train on 700 samples, validate on 300 samples\n",
      "700/700 [==============================] - 9s 13ms/sample - loss: 67.6237 - acc: 0.6986 - val_loss: 18.8361 - val_acc: 0.7633\n",
      "300/300 [==============================] - 1s 2ms/sample - loss: 18.8361 - acc: 0.7633\n",
      "Train on 700 samples, validate on 300 samples\n",
      "700/700 [==============================] - 9s 13ms/sample - loss: 28.3905 - acc: 0.7471 - val_loss: 15.8083 - val_acc: 0.6700\n",
      "300/300 [==============================] - 1s 2ms/sample - loss: 15.8083 - acc: 0.6700\n",
      "Train on 700 samples, validate on 300 samples\n",
      "700/700 [==============================] - 9s 13ms/sample - loss: 16.4688 - acc: 0.7814 - val_loss: 3.9609 - val_acc: 0.7700\n",
      "300/300 [==============================] - 1s 2ms/sample - loss: 3.9609 - acc: 0.7700\n",
      "Train on 700 samples, validate on 300 samples\n",
      "700/700 [==============================] - 9s 13ms/sample - loss: 0.9274 - acc: 0.9129 - val_loss: 1.4467 - val_acc: 0.8233\n",
      "300/300 [==============================] - 1s 2ms/sample - loss: 1.4467 - acc: 0.8233\n",
      "==> Para el metodo RMSprop se utilizo: 7 epocas para llegar a mas del 80% de acertividad\n"
     ]
    }
   ],
   "source": [
    "v_eR=[]\n",
    "v_aR=[]\n",
    "evaluacion(modelo3,80,\"RMSprop\",v_eR,v_aR)"
   ]
  },
  {
   "cell_type": "markdown",
   "id": "fbdf1301",
   "metadata": {},
   "source": [
    "## Graficas respecto a los metodos de optimizacion de RMSProp y ADAM"
   ]
  },
  {
   "cell_type": "code",
   "execution_count": 37,
   "id": "f02f88a0",
   "metadata": {},
   "outputs": [],
   "source": [
    "%matplotlib inline\n",
    "import matplotlib.pyplot as mp"
   ]
  },
  {
   "cell_type": "code",
   "execution_count": 54,
   "id": "96b6dcb4",
   "metadata": {},
   "outputs": [
    {
     "name": "stdout",
     "output_type": "stream",
     "text": [
      "[54.333335161209106, 74.33333396911621, 75.3333330154419, 77.66666412353516, 77.99999713897705, 80.33333420753479]\n"
     ]
    }
   ],
   "source": [
    "print(v_aA)"
   ]
  },
  {
   "cell_type": "code",
   "execution_count": 55,
   "id": "6f5a970f",
   "metadata": {},
   "outputs": [
    {
     "name": "stdout",
     "output_type": "stream",
     "text": [
      "[43.00000071525574, 51.99999809265137, 76.99999809265137, 76.33333206176758, 67.00000166893005, 76.99999809265137, 82.33333230018616]\n"
     ]
    }
   ],
   "source": [
    "print(v_aR)"
   ]
  },
  {
   "cell_type": "code",
   "execution_count": 64,
   "id": "21cf329c",
   "metadata": {},
   "outputs": [
    {
     "data": {
      "image/png": "[encoded data removed]",
      "text/plain": [
       "<Figure size 640x480 with 1 Axes>"
      ]
     },
     "metadata": {},
     "output_type": "display_data"
    }
   ],
   "source": [
    "mp.plot(v_aA,v_eA, marker='o', linestyle=':', color='b', label = \"ADAM\")\n",
    "mp.plot(v_aR,v_eR, marker='x', linestyle='-', color='g', label = \"RMSProp\")\n",
    "\n",
    "#mp.xticks(np.arange(70,100,2))\n",
    "#mp.yticks(np.arange(0,4,1))\n",
    "mp.xlabel(\"porcentaje de asertividad\")\n",
    "mp.ylabel(\"Numero de epocas\")\n",
    "mp.legend(loc=\"upper left\")\n",
    "mp.title(\"Nivel de asertividad/epocas entre RSMProp y ADAM\")\n",
    "mp.grid(True)\n",
    "mp.show()"
   ]
  },
  {
   "cell_type": "code",
   "execution_count": 63,
   "id": "dc60d660",
   "metadata": {},
   "outputs": [
    {
     "name": "stdout",
     "output_type": "stream",
     "text": [
      "asertividad del metodo ADAM: 80.3% alcanzado en: 6 epocas.\n",
      "asertividad del metodo RSMProp: 82.3% alcanzado en: 7 epocas.\n"
     ]
    }
   ],
   "source": [
    "print(\"asertividad del metodo ADAM: \"+str(round(v_aA[-1],1))+\"% alcanzado en: \"+str(v_eA[-1])+ \" epocas.\")\n",
    "print(\"asertividad del metodo RSMProp: \"+str(round(v_aR[-1],1))+\"% alcanzado en: \"+str(v_eR[-1])+ \" epocas.\")"
   ]
  },
  {
   "cell_type": "code",
   "execution_count": null,
   "id": "7656e781",
   "metadata": {},
   "outputs": [],
   "source": []
  }
 ],
 "metadata": {
  "kernelspec": {
   "display_name": "Python 3 (ipykernel)",
   "language": "python",
   "name": "python3"
  },
  "language_info": {
   "codemirror_mode": {
    "name": "ipython",
    "version": 3
   },
   "file_extension": ".py",
   "mimetype": "text/x-python",
   "name": "python",
   "nbconvert_exporter": "python",
   "pygments_lexer": "ipython3",
   "version": "3.7.15"
  }
 },
 "nbformat": 4,
 "nbformat_minor": 5
}
