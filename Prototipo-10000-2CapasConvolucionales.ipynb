{
 "cells": [
  {
   "cell_type": "code",
   "execution_count": 1,
   "id": "4f92b91b",
   "metadata": {},
   "outputs": [],
   "source": [
    "from tensorflow.keras.models import Sequential\n",
    "from tensorflow.keras.layers import Dense\n",
    "from tensorflow.keras.layers import Convolution2D\n",
    "from tensorflow.keras.layers import MaxPooling2D\n",
    "from tensorflow.keras.layers import Flatten\n",
    "import cv2\n",
    "import numpy as np\n",
    "import glob\n",
    "import os\n",
    "from random import shuffle"
   ]
  },
  {
   "cell_type": "code",
   "execution_count": 2,
   "id": "965e3e14",
   "metadata": {},
   "outputs": [],
   "source": [
    "from tensorflow import keras"
   ]
  },
  {
   "cell_type": "code",
   "execution_count": 3,
   "id": "ee5fb2bf",
   "metadata": {},
   "outputs": [
    {
     "name": "stdout",
     "output_type": "stream",
     "text": [
      "\n"
     ]
    }
   ],
   "source": [
    "import tensorflow as tf\n",
    "print(tf.test.gpu_device_name())"
   ]
  },
  {
   "cell_type": "code",
   "execution_count": 4,
   "id": "5fb8f790",
   "metadata": {},
   "outputs": [],
   "source": [
    "X_train=[]\n",
    "X_test=[]\n",
    "Y_test=[]\n",
    "Y_train=[]\n",
    "dataTr=[]\n",
    "for filename in glob.glob(os.path.join('D:/UMSA/TESIS/Tesis de grado/data/entrenamiento/Melanoma_escalado','*.jpg')):\n",
    "    dataTr.append([1,cv2.imread(filename)])\n",
    "for filename in glob.glob(os.path.join('D:/UMSA/TESIS/Tesis de grado/data/entrenamiento/Carcinoma_escalado','*.jpg')):\n",
    "    dataTr.append([0,cv2.imread(filename)])"
   ]
  },
  {
   "cell_type": "code",
   "execution_count": 5,
   "id": "235b98a2",
   "metadata": {},
   "outputs": [],
   "source": [
    "def particion(datos):\n",
    "    imagenes=[]\n",
    "    etiquetas=[]\n",
    "    for i,j in datos:\n",
    "        imagenes.append(j)\n",
    "        etiquetas.append(i)\n",
    "    imagenes=np.array(imagenes)\n",
    "    etiquetas=np.array(etiquetas)\n",
    "    return (imagenes,etiquetas)"
   ]
  },
  {
   "cell_type": "code",
   "execution_count": 6,
   "id": "c1079c2c",
   "metadata": {},
   "outputs": [
    {
     "name": "stdout",
     "output_type": "stream",
     "text": [
      "en total tenemos: 12279 imagenes dentro de la carpeta train\n"
     ]
    }
   ],
   "source": [
    "shuffle(dataTr)\n",
    "print(\"en total tenemos: \"+str(len(dataTr))+ \" imagenes dentro de la carpeta train\")"
   ]
  },
  {
   "cell_type": "code",
   "execution_count": 7,
   "id": "ee439097",
   "metadata": {},
   "outputs": [
    {
     "name": "stdout",
     "output_type": "stream",
     "text": [
      "para entrenamiento tendremos: 7000 imagenes de la carpeta de train\n",
      "para prueba tendremos: 3000 imagenes de la carpeta de train\n"
     ]
    }
   ],
   "source": [
    "porcion1=dataTr[0:7000]\n",
    "porcion2=dataTr[7001:10001]\n",
    "print(\"para entrenamiento tendremos: \"+str(len(porcion1))+ \" imagenes de la carpeta de train\")\n",
    "print(\"para prueba tendremos: \"+str(len(porcion2))+ \" imagenes de la carpeta de train\")"
   ]
  },
  {
   "cell_type": "code",
   "execution_count": 8,
   "id": "2cccc92c",
   "metadata": {},
   "outputs": [],
   "source": [
    "x_e,y_e=particion(porcion1)\n",
    "x_p,y_p=particion(porcion2)"
   ]
  },
  {
   "cell_type": "code",
   "execution_count": 9,
   "id": "b06adaff",
   "metadata": {},
   "outputs": [],
   "source": [
    "def validacion(x_e,y_e,x_p,y_p,modelo1,epocas):\n",
    "    entre=modelo1.fit(x_e,y_e,batch_size=32,epochs=epocas,validation_data=(x_p,y_p))\n",
    "    a=modelo1.evaluate(x_p,y_p)\n",
    "    return a[1]"
   ]
  },
  {
   "cell_type": "code",
   "execution_count": 10,
   "id": "fa8b8412",
   "metadata": {},
   "outputs": [],
   "source": [
    "def evaluacion(modelo1,porcentaje,nombre,v1,v2):\n",
    "    prediccion=0\n",
    "    epocas=1\n",
    "    while(True):\n",
    "        if prediccion < porcentaje:\n",
    "            prediccion=(validacion(x_e,y_e,x_p,y_p,modelo1,1))*100\n",
    "            epocas +=1\n",
    "            v1.append(epocas-1)\n",
    "            v2.append(prediccion)\n",
    "        else:\n",
    "            print(\"==> Para el metodo \"+nombre+\" se utilizo: \"+str(epocas-1)+\" epocas para llegar a mas del \"+str(porcentaje)+\"% de acertividad\")\n",
    "            break "
   ]
  },
  {
   "cell_type": "code",
   "execution_count": 11,
   "id": "d3a98edd",
   "metadata": {},
   "outputs": [
    {
     "name": "stdout",
     "output_type": "stream",
     "text": [
      "WARNING:tensorflow:From C:\\Users\\Desktop\\.conda\\envs\\tesis\\lib\\site-packages\\tensorflow_core\\python\\ops\\resource_variable_ops.py:1630: calling BaseResourceVariable.__init__ (from tensorflow.python.ops.resource_variable_ops) with constraint is deprecated and will be removed in a future version.\n",
      "Instructions for updating:\n",
      "If using Keras pass *_constraint arguments to layers.\n",
      "Model: \"sequential\"\n",
      "_________________________________________________________________\n",
      "Layer (type)                 Output Shape              Param #   \n",
      "=================================================================\n",
      "conv2d (Conv2D)              (None, 222, 222, 8)       224       \n",
      "_________________________________________________________________\n",
      "conv2d_1 (Conv2D)            (None, 220, 220, 16)      1168      \n",
      "_________________________________________________________________\n",
      "max_pooling2d (MaxPooling2D) (None, 110, 110, 16)      0         \n",
      "_________________________________________________________________\n",
      "flatten (Flatten)            (None, 193600)            0         \n",
      "_________________________________________________________________\n",
      "dense (Dense)                (None, 128)               24780928  \n",
      "_________________________________________________________________\n",
      "dense_1 (Dense)              (None, 70)                9030      \n",
      "_________________________________________________________________\n",
      "dense_2 (Dense)              (None, 1)                 71        \n",
      "=================================================================\n",
      "Total params: 24,791,421\n",
      "Trainable params: 24,791,421\n",
      "Non-trainable params: 0\n",
      "_________________________________________________________________\n"
     ]
    }
   ],
   "source": [
    "modelo=Sequential()\n",
    "modelo.add(Convolution2D(8,(3,3),input_shape=(224,224,3),activation='relu'))\n",
    "modelo.add(Convolution2D(16,(3,3),activation='relu'))\n",
    "modelo.add(MaxPooling2D(pool_size=((2,2))))\n",
    "modelo.add(Flatten())\n",
    "modelo.add(Dense(128,activation='relu'))\n",
    "modelo.add(Dense(70,activation='relu'))\n",
    "modelo.add(Dense(1,activation='sigmoid'))\n",
    "modelo.summary()"
   ]
  },
  {
   "cell_type": "code",
   "execution_count": null,
   "id": "1355d8a9",
   "metadata": {},
   "outputs": [
    {
     "name": "stdout",
     "output_type": "stream",
     "text": [
      "WARNING:tensorflow:From C:\\Users\\Desktop\\.conda\\envs\\tesis\\lib\\site-packages\\tensorflow_core\\python\\ops\\nn_impl.py:183: where (from tensorflow.python.ops.array_ops) is deprecated and will be removed in a future version.\n",
      "Instructions for updating:\n",
      "Use tf.where in 2.0, which has the same broadcast rule as np.where\n",
      "Train on 7000 samples, validate on 3000 samples\n",
      "7000/7000 [==============================] - 74s 11ms/sample - loss: 65.7896 - acc: 0.5997 - val_loss: 0.7529 - val_acc: 0.6150\n",
      "3000/3000 [==============================] - 5s 2ms/sample - loss: 0.7529 - acc: 0.6150\n",
      "Train on 7000 samples, validate on 3000 samples\n",
      "7000/7000 [==============================] - 74s 11ms/sample - loss: 0.5861 - acc: 0.6999 - val_loss: 0.6975 - val_acc: 0.6510\n",
      "3000/3000 [==============================] - 5s 2ms/sample - loss: 0.6975 - acc: 0.6510\n",
      "Train on 7000 samples, validate on 3000 samples\n",
      "7000/7000 [==============================] - 74s 11ms/sample - loss: 0.4623 - acc: 0.7719 - val_loss: 0.6798 - val_acc: 0.6940\n",
      "3000/3000 [==============================] - 5s 2ms/sample - loss: 0.6798 - acc: 0.6940\n",
      "Train on 7000 samples, validate on 3000 samples\n",
      "7000/7000 [==============================] - 74s 11ms/sample - loss: 0.3989 - acc: 0.8183 - val_loss: 0.7344 - val_acc: 0.7090\n",
      "3000/3000 [==============================] - 5s 2ms/sample - loss: 0.7344 - acc: 0.7090\n",
      "Train on 7000 samples, validate on 3000 samples\n",
      "7000/7000 [==============================] - 74s 11ms/sample - loss: 0.3218 - acc: 0.8606 - val_loss: 0.8661 - val_acc: 0.6443\n",
      "3000/3000 [==============================] - 5s 2ms/sample - loss: 0.8661 - acc: 0.6443\n",
      "Train on 7000 samples, validate on 3000 samples\n",
      "7000/7000 [==============================] - 74s 11ms/sample - loss: 0.2864 - acc: 0.8774 - val_loss: 0.8491 - val_acc: 0.6880\n",
      "3000/3000 [==============================] - 5s 2ms/sample - loss: 0.8491 - acc: 0.6880\n",
      "Train on 7000 samples, validate on 3000 samples\n",
      "7000/7000 [==============================] - 74s 11ms/sample - loss: 0.2169 - acc: 0.9144 - val_loss: 1.0299 - val_acc: 0.6893\n",
      "3000/3000 [==============================] - 5s 2ms/sample - loss: 1.0299 - acc: 0.6893\n",
      "Train on 7000 samples, validate on 3000 samples\n",
      "7000/7000 [==============================] - 74s 11ms/sample - loss: 0.2115 - acc: 0.9181 - val_loss: 0.8358 - val_acc: 0.6997\n",
      "3000/3000 [==============================] - 5s 2ms/sample - loss: 0.8358 - acc: 0.6997\n",
      "Train on 7000 samples, validate on 3000 samples\n",
      "7000/7000 [==============================] - 74s 11ms/sample - loss: 0.1783 - acc: 0.9370 - val_loss: 0.8635 - val_acc: 0.7257\n",
      "3000/3000 [==============================] - 5s 2ms/sample - loss: 0.8635 - acc: 0.7257\n",
      "Train on 7000 samples, validate on 3000 samples\n",
      "7000/7000 [==============================] - 74s 11ms/sample - loss: 0.1795 - acc: 0.9360 - val_loss: 1.0688 - val_acc: 0.7217\n",
      "3000/3000 [==============================] - 5s 2ms/sample - loss: 1.0688 - acc: 0.7217\n",
      "Train on 7000 samples, validate on 3000 samples\n",
      "7000/7000 [==============================] - 73s 10ms/sample - loss: 0.1485 - acc: 0.9534 - val_loss: 1.3099 - val_acc: 0.7180\n",
      "3000/3000 [==============================] - 5s 2ms/sample - loss: 1.3099 - acc: 0.7180\n",
      "Train on 7000 samples, validate on 3000 samples\n",
      "7000/7000 [==============================] - 74s 11ms/sample - loss: 0.1493 - acc: 0.9501 - val_loss: 1.5225 - val_acc: 0.7207\n",
      "3000/3000 [==============================] - 5s 2ms/sample - loss: 1.5225 - acc: 0.7207\n",
      "Train on 7000 samples, validate on 3000 samples\n",
      "7000/7000 [==============================] - 74s 11ms/sample - loss: 0.1681 - acc: 0.9470 - val_loss: 1.3570 - val_acc: 0.7113\n",
      "3000/3000 [==============================] - 5s 2ms/sample - loss: 1.3570 - acc: 0.7113\n",
      "Train on 7000 samples, validate on 3000 samples\n",
      "7000/7000 [==============================] - 73s 10ms/sample - loss: 0.0953 - acc: 0.9721 - val_loss: 1.2879 - val_acc: 0.7077\n",
      "3000/3000 [==============================] - 5s 2ms/sample - loss: 1.2879 - acc: 0.7077\n",
      "Train on 7000 samples, validate on 3000 samples\n",
      "7000/7000 [==============================] - 73s 10ms/sample - loss: 0.1376 - acc: 0.9604 - val_loss: 1.5769 - val_acc: 0.6683\n",
      "3000/3000 [==============================] - 5s 2ms/sample - loss: 1.5769 - acc: 0.6683\n",
      "Train on 7000 samples, validate on 3000 samples\n",
      "7000/7000 [==============================] - 73s 10ms/sample - loss: 0.0994 - acc: 0.9699 - val_loss: 1.4967 - val_acc: 0.7233\n",
      "3000/3000 [==============================] - 5s 2ms/sample - loss: 1.4967 - acc: 0.7233\n",
      "Train on 7000 samples, validate on 3000 samples\n",
      "7000/7000 [==============================] - 73s 10ms/sample - loss: 0.0399 - acc: 0.9890 - val_loss: 1.6075 - val_acc: 0.6967\n",
      "3000/3000 [==============================] - 5s 2ms/sample - loss: 1.6075 - acc: 0.6967\n",
      "Train on 7000 samples, validate on 3000 samples\n",
      "7000/7000 [==============================] - 74s 11ms/sample - loss: 0.0418 - acc: 0.9901 - val_loss: 1.5882 - val_acc: 0.7170\n",
      "3000/3000 [==============================] - 5s 2ms/sample - loss: 1.5882 - acc: 0.7170\n",
      "Train on 7000 samples, validate on 3000 samples\n",
      "7000/7000 [==============================] - 74s 11ms/sample - loss: 0.0934 - acc: 0.9713 - val_loss: 1.3613 - val_acc: 0.6930\n",
      "3000/3000 [==============================] - 5s 2ms/sample - loss: 1.3613 - acc: 0.6930\n",
      "Train on 7000 samples, validate on 3000 samples\n",
      "7000/7000 [==============================] - 74s 11ms/sample - loss: 0.1298 - acc: 0.9590 - val_loss: 1.8249 - val_acc: 0.7127\n",
      "3000/3000 [==============================] - 5s 2ms/sample - loss: 1.8249 - acc: 0.7127\n",
      "Train on 7000 samples, validate on 3000 samples\n",
      "7000/7000 [==============================] - 74s 11ms/sample - loss: 0.0535 - acc: 0.9853 - val_loss: 1.8586 - val_acc: 0.6997\n",
      "3000/3000 [==============================] - 5s 2ms/sample - loss: 1.8586 - acc: 0.6997\n",
      "Train on 7000 samples, validate on 3000 samples\n",
      "7000/7000 [==============================] - 73s 10ms/sample - loss: 0.0562 - acc: 0.9856 - val_loss: 2.2826 - val_acc: 0.7117\n",
      "3000/3000 [==============================] - 5s 2ms/sample - loss: 2.2826 - acc: 0.7117\n",
      "Train on 7000 samples, validate on 3000 samples\n",
      "7000/7000 [==============================] - 73s 10ms/sample - loss: 0.0630 - acc: 0.9836 - val_loss: 1.8369 - val_acc: 0.7027\n",
      "3000/3000 [==============================] - 5s 2ms/sample - loss: 1.8369 - acc: 0.7027\n",
      "Train on 7000 samples, validate on 3000 samples\n",
      "7000/7000 [==============================] - 74s 11ms/sample - loss: 0.0330 - acc: 0.9909 - val_loss: 2.2365 - val_acc: 0.7067\n",
      "3000/3000 [==============================] - 5s 2ms/sample - loss: 2.2365 - acc: 0.7067\n",
      "Train on 7000 samples, validate on 3000 samples\n",
      "7000/7000 [==============================] - 74s 11ms/sample - loss: 0.0184 - acc: 0.9970 - val_loss: 2.5279 - val_acc: 0.7210\n",
      "3000/3000 [==============================] - 5s 2ms/sample - loss: 2.5279 - acc: 0.7210\n",
      "Train on 7000 samples, validate on 3000 samples\n",
      "7000/7000 [==============================] - 73s 10ms/sample - loss: 0.0460 - acc: 0.9879 - val_loss: 2.2768 - val_acc: 0.7080\n",
      "3000/3000 [==============================] - 5s 2ms/sample - loss: 2.2768 - acc: 0.7080\n",
      "Train on 7000 samples, validate on 3000 samples\n",
      "7000/7000 [==============================] - 73s 10ms/sample - loss: 0.1532 - acc: 0.9524 - val_loss: 1.7164 - val_acc: 0.7003\n",
      "3000/3000 [==============================] - 5s 2ms/sample - loss: 1.7164 - acc: 0.7003\n",
      "Train on 7000 samples, validate on 3000 samples\n",
      "7000/7000 [==============================] - 73s 10ms/sample - loss: 0.2473 - acc: 0.9269 - val_loss: 1.9212 - val_acc: 0.7087\n",
      "3000/3000 [==============================] - 5s 2ms/sample - loss: 1.9212 - acc: 0.7087\n",
      "Train on 7000 samples, validate on 3000 samples\n",
      "7000/7000 [==============================] - 73s 10ms/sample - loss: 0.0806 - acc: 0.9767 - val_loss: 1.9819 - val_acc: 0.7257\n",
      "3000/3000 [==============================] - 5s 2ms/sample - loss: 1.9819 - acc: 0.7257\n",
      "Train on 7000 samples, validate on 3000 samples\n",
      "7000/7000 [==============================] - 74s 11ms/sample - loss: 0.0152 - acc: 0.9971 - val_loss: 2.4265 - val_acc: 0.6713\n"
     ]
    },
    {
     "name": "stdout",
     "output_type": "stream",
     "text": [
      "3000/3000 [==============================] - 5s 2ms/sample - loss: 2.4265 - acc: 0.6713\n",
      "Train on 7000 samples, validate on 3000 samples\n",
      "7000/7000 [==============================] - 73s 10ms/sample - loss: 0.0302 - acc: 0.9910 - val_loss: 2.4417 - val_acc: 0.7147\n",
      "3000/3000 [==============================] - 5s 2ms/sample - loss: 2.4417 - acc: 0.7147\n",
      "Train on 7000 samples, validate on 3000 samples\n",
      "7000/7000 [==============================] - 73s 10ms/sample - loss: 0.0371 - acc: 0.9926 - val_loss: 2.7109 - val_acc: 0.7010\n",
      "3000/3000 [==============================] - 5s 2ms/sample - loss: 2.7109 - acc: 0.7010\n",
      "Train on 7000 samples, validate on 3000 samples\n",
      "7000/7000 [==============================] - 73s 10ms/sample - loss: 0.1886 - acc: 0.9431 - val_loss: 2.0064 - val_acc: 0.6910\n",
      "3000/3000 [==============================] - 5s 2ms/sample - loss: 2.0064 - acc: 0.6910\n",
      "Train on 7000 samples, validate on 3000 samples\n",
      "7000/7000 [==============================] - 73s 10ms/sample - loss: 0.0512 - acc: 0.9866 - val_loss: 2.1915 - val_acc: 0.6877\n",
      "3000/3000 [==============================] - 5s 2ms/sample - loss: 2.1915 - acc: 0.6877\n",
      "Train on 7000 samples, validate on 3000 samples\n",
      "7000/7000 [==============================] - 74s 11ms/sample - loss: 0.0842 - acc: 0.9770 - val_loss: 2.6601 - val_acc: 0.7107\n",
      "3000/3000 [==============================] - 5s 2ms/sample - loss: 2.6601 - acc: 0.7107\n",
      "Train on 7000 samples, validate on 3000 samples\n",
      "7000/7000 [==============================] - 74s 11ms/sample - loss: 0.0369 - acc: 0.9897 - val_loss: 2.4648 - val_acc: 0.6990\n",
      "3000/3000 [==============================] - 5s 2ms/sample - loss: 2.4648 - acc: 0.6990\n",
      "Train on 7000 samples, validate on 3000 samples\n",
      "7000/7000 [==============================] - 73s 10ms/sample - loss: 0.0429 - acc: 0.9883 - val_loss: 3.3131 - val_acc: 0.7077\n",
      "3000/3000 [==============================] - 5s 2ms/sample - loss: 3.3131 - acc: 0.7077\n",
      "Train on 7000 samples, validate on 3000 samples\n",
      "7000/7000 [==============================] - 74s 11ms/sample - loss: 0.0232 - acc: 0.9940 - val_loss: 3.0127 - val_acc: 0.6917\n",
      "3000/3000 [==============================] - 5s 2ms/sample - loss: 3.0127 - acc: 0.6917\n",
      "Train on 7000 samples, validate on 3000 samples\n",
      "7000/7000 [==============================] - 73s 10ms/sample - loss: 0.1664 - acc: 0.9471 - val_loss: 2.1064 - val_acc: 0.6790\n",
      "3000/3000 [==============================] - 5s 2ms/sample - loss: 2.1064 - acc: 0.6790\n",
      "Train on 7000 samples, validate on 3000 samples\n",
      "7000/7000 [==============================] - 74s 11ms/sample - loss: 0.0344 - acc: 0.9896 - val_loss: 2.5446 - val_acc: 0.7173\n",
      "3000/3000 [==============================] - 5s 2ms/sample - loss: 2.5446 - acc: 0.7173\n",
      "Train on 7000 samples, validate on 3000 samples\n",
      "7000/7000 [==============================] - 74s 11ms/sample - loss: 0.0053 - acc: 0.9990 - val_loss: 2.8372 - val_acc: 0.7170\n",
      "3000/3000 [==============================] - 5s 2ms/sample - loss: 2.8372 - acc: 0.7170\n",
      "Train on 7000 samples, validate on 3000 samples\n",
      "7000/7000 [==============================] - 74s 11ms/sample - loss: 0.0333 - acc: 0.9914 - val_loss: 2.4492 - val_acc: 0.7150\n",
      "3000/3000 [==============================] - 5s 2ms/sample - loss: 2.4492 - acc: 0.7150\n",
      "Train on 7000 samples, validate on 3000 samples\n",
      "6336/7000 [==========================>...] - ETA: 6s - loss: 0.1268 - acc: 0.9662"
     ]
    },
    {
     "name": "stderr",
     "output_type": "stream",
     "text": [
      "ERROR:root:Internal Python error in the inspect module.\n",
      "Below is the traceback from this internal error.\n",
      "\n",
      "ERROR:root:Internal Python error in the inspect module.\n",
      "Below is the traceback from this internal error.\n",
      "\n",
      "ERROR:root:Internal Python error in the inspect module.\n",
      "Below is the traceback from this internal error.\n",
      "\n"
     ]
    },
    {
     "name": "stdout",
     "output_type": "stream",
     "text": [
      "Traceback (most recent call last):\n",
      "  File \"C:\\Users\\Desktop\\.conda\\envs\\tesis\\lib\\site-packages\\IPython\\core\\interactiveshell.py\", line 3457, in run_code\n",
      "    exec(code_obj, self.user_global_ns, self.user_ns)\n",
      "  File \"C:\\Users\\Desktop\\AppData\\Local\\Temp\\ipykernel_9628\\3522865077.py\", line 5, in <module>\n",
      "    evaluacion(modelo,81,\"ADAM\",v_eA,v_aA)\n",
      "  File \"C:\\Users\\Desktop\\AppData\\Local\\Temp\\ipykernel_9628\\1593769438.py\", line 6, in evaluacion\n",
      "    prediccion=(validacion(x_e,y_e,x_p,y_p,modelo1,1))*100\n",
      "  File \"C:\\Users\\Desktop\\AppData\\Local\\Temp\\ipykernel_9628\\2085629365.py\", line 2, in validacion\n",
      "    entre=modelo1.fit(x_e,y_e,batch_size=32,epochs=epocas,validation_data=(x_p,y_p))\n",
      "  File \"C:\\Users\\Desktop\\.conda\\envs\\tesis\\lib\\site-packages\\tensorflow_core\\python\\keras\\engine\\training.py\", line 727, in fit\n",
      "    use_multiprocessing=use_multiprocessing)\n",
      "  File \"C:\\Users\\Desktop\\.conda\\envs\\tesis\\lib\\site-packages\\tensorflow_core\\python\\keras\\engine\\training_arrays.py\", line 675, in fit\n",
      "    steps_name='steps_per_epoch')\n",
      "  File \"C:\\Users\\Desktop\\.conda\\envs\\tesis\\lib\\site-packages\\tensorflow_core\\python\\keras\\engine\\training_arrays.py\", line 394, in model_iteration\n",
      "    batch_outs = f(ins_batch)\n",
      "  File \"C:\\Users\\Desktop\\.conda\\envs\\tesis\\lib\\site-packages\\tensorflow_core\\python\\keras\\backend.py\", line 3476, in __call__\n",
      "    run_metadata=self.run_metadata)\n",
      "  File \"C:\\Users\\Desktop\\.conda\\envs\\tesis\\lib\\site-packages\\tensorflow_core\\python\\client\\session.py\", line 1472, in __call__\n",
      "    run_metadata_ptr)\n",
      "KeyboardInterrupt\n",
      "\n",
      "During handling of the above exception, another exception occurred:\n",
      "\n",
      "Traceback (most recent call last):\n",
      "  File \"C:\\Users\\Desktop\\.conda\\envs\\tesis\\lib\\site-packages\\IPython\\core\\interactiveshell.py\", line 2077, in showtraceback\n",
      "    stb = value._render_traceback_()\n",
      "AttributeError: 'KeyboardInterrupt' object has no attribute '_render_traceback_'\n",
      "\n",
      "During handling of the above exception, another exception occurred:\n",
      "\n",
      "Traceback (most recent call last):\n",
      "  File \"C:\\Users\\Desktop\\.conda\\envs\\tesis\\lib\\site-packages\\IPython\\core\\ultratb.py\", line 1101, in get_records\n",
      "    return _fixed_getinnerframes(etb, number_of_lines_of_context, tb_offset)\n",
      "  File \"C:\\Users\\Desktop\\.conda\\envs\\tesis\\lib\\site-packages\\IPython\\core\\ultratb.py\", line 248, in wrapped\n",
      "    return f(*args, **kwargs)\n",
      "  File \"C:\\Users\\Desktop\\.conda\\envs\\tesis\\lib\\site-packages\\IPython\\core\\ultratb.py\", line 281, in _fixed_getinnerframes\n",
      "    records = fix_frame_records_filenames(inspect.getinnerframes(etb, context))\n",
      "  File \"C:\\Users\\Desktop\\.conda\\envs\\tesis\\lib\\inspect.py\", line 1502, in getinnerframes\n",
      "    frameinfo = (tb.tb_frame,) + getframeinfo(tb, context)\n",
      "  File \"C:\\Users\\Desktop\\.conda\\envs\\tesis\\lib\\inspect.py\", line 1460, in getframeinfo\n",
      "    filename = getsourcefile(frame) or getfile(frame)\n",
      "  File \"C:\\Users\\Desktop\\.conda\\envs\\tesis\\lib\\inspect.py\", line 696, in getsourcefile\n",
      "    if getattr(getmodule(object, filename), '__loader__', None) is not None:\n",
      "  File \"C:\\Users\\Desktop\\.conda\\envs\\tesis\\lib\\inspect.py\", line 733, in getmodule\n",
      "    if ismodule(module) and hasattr(module, '__file__'):\n",
      "  File \"C:\\Users\\Desktop\\.conda\\envs\\tesis\\lib\\site-packages\\tensorflow\\__init__.py\", line 50, in __getattr__\n",
      "    module = self._load()\n",
      "  File \"C:\\Users\\Desktop\\.conda\\envs\\tesis\\lib\\site-packages\\tensorflow\\__init__.py\", line 44, in _load\n",
      "    module = _importlib.import_module(self.__name__)\n",
      "  File \"C:\\Users\\Desktop\\.conda\\envs\\tesis\\lib\\importlib\\__init__.py\", line 127, in import_module\n",
      "    return _bootstrap._gcd_import(name[level:], package, level)\n",
      "  File \"<frozen importlib._bootstrap>\", line 1006, in _gcd_import\n",
      "  File \"<frozen importlib._bootstrap>\", line 983, in _find_and_load\n",
      "  File \"<frozen importlib._bootstrap>\", line 967, in _find_and_load_unlocked\n",
      "  File \"<frozen importlib._bootstrap>\", line 677, in _load_unlocked\n",
      "  File \"<frozen importlib._bootstrap_external>\", line 728, in exec_module\n",
      "  File \"<frozen importlib._bootstrap>\", line 219, in _call_with_frames_removed\n",
      "  File \"C:\\Users\\Desktop\\.conda\\envs\\tesis\\lib\\site-packages\\tensorflow_core\\contrib\\__init__.py\", line 39, in <module>\n",
      "    from tensorflow.contrib import compiler\n",
      "  File \"C:\\Users\\Desktop\\.conda\\envs\\tesis\\lib\\site-packages\\tensorflow_core\\contrib\\compiler\\__init__.py\", line 21, in <module>\n",
      "    from tensorflow.contrib.compiler import jit\n",
      "  File \"C:\\Users\\Desktop\\.conda\\envs\\tesis\\lib\\site-packages\\tensorflow_core\\contrib\\compiler\\__init__.py\", line 22, in <module>\n",
      "    from tensorflow.contrib.compiler import xla\n",
      "  File \"C:\\Users\\Desktop\\.conda\\envs\\tesis\\lib\\site-packages\\tensorflow_core\\contrib\\compiler\\xla.py\", line 22, in <module>\n",
      "    from tensorflow.python.estimator import model_fn as model_fn_lib\n",
      "  File \"C:\\Users\\Desktop\\.conda\\envs\\tesis\\lib\\site-packages\\tensorflow_core\\python\\estimator\\model_fn.py\", line 26, in <module>\n",
      "    from tensorflow_estimator.python.estimator import model_fn\n",
      "  File \"C:\\Users\\Desktop\\.conda\\envs\\tesis\\lib\\site-packages\\tensorflow_estimator\\__init__.py\", line 10, in <module>\n",
      "    from tensorflow_estimator._api.v1 import estimator\n",
      "  File \"C:\\Users\\Desktop\\.conda\\envs\\tesis\\lib\\site-packages\\tensorflow_estimator\\_api\\v1\\estimator\\__init__.py\", line 10, in <module>\n",
      "    from tensorflow_estimator._api.v1.estimator import experimental\n",
      "  File \"C:\\Users\\Desktop\\.conda\\envs\\tesis\\lib\\site-packages\\tensorflow_estimator\\_api\\v1\\estimator\\experimental\\__init__.py\", line 10, in <module>\n",
      "    from tensorflow_estimator.python.estimator.canned.dnn import dnn_logit_fn_builder\n",
      "  File \"C:\\Users\\Desktop\\.conda\\envs\\tesis\\lib\\site-packages\\tensorflow_estimator\\python\\estimator\\canned\\dnn.py\", line 27, in <module>\n",
      "    from tensorflow_estimator.python.estimator import estimator\n",
      "  File \"C:\\Users\\Desktop\\.conda\\envs\\tesis\\lib\\site-packages\\tensorflow_estimator\\python\\estimator\\estimator.py\", line 36, in <module>\n",
      "    from tensorflow.python.profiler import trace\n",
      "ImportError: cannot import name 'trace' from 'tensorflow.python.profiler' (C:\\Users\\Desktop\\.conda\\envs\\tesis\\lib\\site-packages\\tensorflow_core\\python\\profiler\\__init__.py)\n",
      "Traceback (most recent call last):\n",
      "  File \"C:\\Users\\Desktop\\.conda\\envs\\tesis\\lib\\site-packages\\IPython\\core\\interactiveshell.py\", line 3457, in run_code\n",
      "    exec(code_obj, self.user_global_ns, self.user_ns)\n",
      "  File \"C:\\Users\\Desktop\\AppData\\Local\\Temp\\ipykernel_9628\\3522865077.py\", line 5, in <module>\n",
      "    evaluacion(modelo,81,\"ADAM\",v_eA,v_aA)\n",
      "  File \"C:\\Users\\Desktop\\AppData\\Local\\Temp\\ipykernel_9628\\1593769438.py\", line 6, in evaluacion\n",
      "    prediccion=(validacion(x_e,y_e,x_p,y_p,modelo1,1))*100\n",
      "  File \"C:\\Users\\Desktop\\AppData\\Local\\Temp\\ipykernel_9628\\2085629365.py\", line 2, in validacion\n",
      "    entre=modelo1.fit(x_e,y_e,batch_size=32,epochs=epocas,validation_data=(x_p,y_p))\n",
      "  File \"C:\\Users\\Desktop\\.conda\\envs\\tesis\\lib\\site-packages\\tensorflow_core\\python\\keras\\engine\\training.py\", line 727, in fit\n",
      "    use_multiprocessing=use_multiprocessing)\n",
      "  File \"C:\\Users\\Desktop\\.conda\\envs\\tesis\\lib\\site-packages\\tensorflow_core\\python\\keras\\engine\\training_arrays.py\", line 675, in fit\n",
      "    steps_name='steps_per_epoch')\n",
      "  File \"C:\\Users\\Desktop\\.conda\\envs\\tesis\\lib\\site-packages\\tensorflow_core\\python\\keras\\engine\\training_arrays.py\", line 394, in model_iteration\n",
      "    batch_outs = f(ins_batch)\n",
      "  File \"C:\\Users\\Desktop\\.conda\\envs\\tesis\\lib\\site-packages\\tensorflow_core\\python\\keras\\backend.py\", line 3476, in __call__\n",
      "    run_metadata=self.run_metadata)\n",
      "  File \"C:\\Users\\Desktop\\.conda\\envs\\tesis\\lib\\site-packages\\tensorflow_core\\python\\client\\session.py\", line 1472, in __call__\n",
      "    run_metadata_ptr)\n",
      "KeyboardInterrupt\n",
      "\n",
      "During handling of the above exception, another exception occurred:\n",
      "\n",
      "Traceback (most recent call last):\n",
      "  File \"C:\\Users\\Desktop\\.conda\\envs\\tesis\\lib\\site-packages\\IPython\\core\\interactiveshell.py\", line 2077, in showtraceback\n",
      "    stb = value._render_traceback_()\n",
      "AttributeError: 'KeyboardInterrupt' object has no attribute '_render_traceback_'\n",
      "\n",
      "During handling of the above exception, another exception occurred:\n",
      "\n",
      "Traceback (most recent call last):\n",
      "  File \"C:\\Users\\Desktop\\.conda\\envs\\tesis\\lib\\site-packages\\IPython\\core\\interactiveshell.py\", line 3377, in run_ast_nodes\n",
      "    if (await self.run_code(code, result,  async_=asy)):\n",
      "  File \"C:\\Users\\Desktop\\.conda\\envs\\tesis\\lib\\site-packages\\IPython\\core\\interactiveshell.py\", line 3474, in run_code\n",
      "    self.showtraceback(running_compiled_code=True)\n",
      "  File \"C:\\Users\\Desktop\\.conda\\envs\\tesis\\lib\\site-packages\\IPython\\core\\interactiveshell.py\", line 2080, in showtraceback\n",
      "    value, tb, tb_offset=tb_offset)\n",
      "  File \"C:\\Users\\Desktop\\.conda\\envs\\tesis\\lib\\site-packages\\IPython\\core\\ultratb.py\", line 1368, in structured_traceback\n",
      "    self, etype, value, tb, tb_offset, number_of_lines_of_context)\n",
      "  File \"C:\\Users\\Desktop\\.conda\\envs\\tesis\\lib\\site-packages\\IPython\\core\\ultratb.py\", line 1268, in structured_traceback\n",
      "    self, etype, value, tb, tb_offset, number_of_lines_of_context\n",
      "  File \"C:\\Users\\Desktop\\.conda\\envs\\tesis\\lib\\site-packages\\IPython\\core\\ultratb.py\", line 1125, in structured_traceback\n",
      "    tb_offset)\n",
      "  File \"C:\\Users\\Desktop\\.conda\\envs\\tesis\\lib\\site-packages\\IPython\\core\\ultratb.py\", line 1082, in format_exception_as_a_whole\n",
      "    last_unique, recursion_repeat = find_recursion(orig_etype, evalue, records)\n",
      "  File \"C:\\Users\\Desktop\\.conda\\envs\\tesis\\lib\\site-packages\\IPython\\core\\ultratb.py\", line 382, in find_recursion\n",
      "    return len(records), 0\n",
      "TypeError: object of type 'NoneType' has no len()\n",
      "\n",
      "During handling of the above exception, another exception occurred:\n",
      "\n",
      "Traceback (most recent call last):\n",
      "  File \"C:\\Users\\Desktop\\.conda\\envs\\tesis\\lib\\site-packages\\IPython\\core\\interactiveshell.py\", line 2077, in showtraceback\n",
      "    stb = value._render_traceback_()\n",
      "AttributeError: 'TypeError' object has no attribute '_render_traceback_'\n",
      "\n",
      "During handling of the above exception, another exception occurred:\n",
      "\n",
      "Traceback (most recent call last):\n",
      "  File \"C:\\Users\\Desktop\\.conda\\envs\\tesis\\lib\\site-packages\\IPython\\core\\ultratb.py\", line 1101, in get_records\n",
      "    return _fixed_getinnerframes(etb, number_of_lines_of_context, tb_offset)\n",
      "  File \"C:\\Users\\Desktop\\.conda\\envs\\tesis\\lib\\site-packages\\IPython\\core\\ultratb.py\", line 248, in wrapped\n",
      "    return f(*args, **kwargs)\n",
      "  File \"C:\\Users\\Desktop\\.conda\\envs\\tesis\\lib\\site-packages\\IPython\\core\\ultratb.py\", line 281, in _fixed_getinnerframes\n",
      "    records = fix_frame_records_filenames(inspect.getinnerframes(etb, context))\n",
      "  File \"C:\\Users\\Desktop\\.conda\\envs\\tesis\\lib\\inspect.py\", line 1502, in getinnerframes\n",
      "    frameinfo = (tb.tb_frame,) + getframeinfo(tb, context)\n",
      "  File \"C:\\Users\\Desktop\\.conda\\envs\\tesis\\lib\\inspect.py\", line 1460, in getframeinfo\n",
      "    filename = getsourcefile(frame) or getfile(frame)\n",
      "  File \"C:\\Users\\Desktop\\.conda\\envs\\tesis\\lib\\inspect.py\", line 696, in getsourcefile\n",
      "    if getattr(getmodule(object, filename), '__loader__', None) is not None:\n",
      "  File \"C:\\Users\\Desktop\\.conda\\envs\\tesis\\lib\\inspect.py\", line 733, in getmodule\n",
      "    if ismodule(module) and hasattr(module, '__file__'):\n",
      "  File \"C:\\Users\\Desktop\\.conda\\envs\\tesis\\lib\\site-packages\\tensorflow\\__init__.py\", line 50, in __getattr__\n",
      "    module = self._load()\n",
      "  File \"C:\\Users\\Desktop\\.conda\\envs\\tesis\\lib\\site-packages\\tensorflow\\__init__.py\", line 44, in _load\n",
      "    module = _importlib.import_module(self.__name__)\n",
      "  File \"C:\\Users\\Desktop\\.conda\\envs\\tesis\\lib\\importlib\\__init__.py\", line 127, in import_module\n",
      "    return _bootstrap._gcd_import(name[level:], package, level)\n",
      "  File \"<frozen importlib._bootstrap>\", line 1006, in _gcd_import\n",
      "  File \"<frozen importlib._bootstrap>\", line 983, in _find_and_load\n",
      "  File \"<frozen importlib._bootstrap>\", line 965, in _find_and_load_unlocked\n",
      "ModuleNotFoundError: No module named 'tensorflow_core.estimator'\n",
      "Traceback (most recent call last):\n",
      "  File \"C:\\Users\\Desktop\\.conda\\envs\\tesis\\lib\\site-packages\\IPython\\core\\interactiveshell.py\", line 3457, in run_code\n",
      "    exec(code_obj, self.user_global_ns, self.user_ns)\n",
      "  File \"C:\\Users\\Desktop\\AppData\\Local\\Temp\\ipykernel_9628\\3522865077.py\", line 5, in <module>\n",
      "    evaluacion(modelo,81,\"ADAM\",v_eA,v_aA)\n",
      "  File \"C:\\Users\\Desktop\\AppData\\Local\\Temp\\ipykernel_9628\\1593769438.py\", line 6, in evaluacion\n",
      "    prediccion=(validacion(x_e,y_e,x_p,y_p,modelo1,1))*100\n",
      "  File \"C:\\Users\\Desktop\\AppData\\Local\\Temp\\ipykernel_9628\\2085629365.py\", line 2, in validacion\n",
      "    entre=modelo1.fit(x_e,y_e,batch_size=32,epochs=epocas,validation_data=(x_p,y_p))\n",
      "  File \"C:\\Users\\Desktop\\.conda\\envs\\tesis\\lib\\site-packages\\tensorflow_core\\python\\keras\\engine\\training.py\", line 727, in fit\n",
      "    use_multiprocessing=use_multiprocessing)\n",
      "  File \"C:\\Users\\Desktop\\.conda\\envs\\tesis\\lib\\site-packages\\tensorflow_core\\python\\keras\\engine\\training_arrays.py\", line 675, in fit\n",
      "    steps_name='steps_per_epoch')\n",
      "  File \"C:\\Users\\Desktop\\.conda\\envs\\tesis\\lib\\site-packages\\tensorflow_core\\python\\keras\\engine\\training_arrays.py\", line 394, in model_iteration\n",
      "    batch_outs = f(ins_batch)\n",
      "  File \"C:\\Users\\Desktop\\.conda\\envs\\tesis\\lib\\site-packages\\tensorflow_core\\python\\keras\\backend.py\", line 3476, in __call__\n",
      "    run_metadata=self.run_metadata)\n",
      "  File \"C:\\Users\\Desktop\\.conda\\envs\\tesis\\lib\\site-packages\\tensorflow_core\\python\\client\\session.py\", line 1472, in __call__\n",
      "    run_metadata_ptr)\n",
      "KeyboardInterrupt\n",
      "\n",
      "During handling of the above exception, another exception occurred:\n",
      "\n",
      "Traceback (most recent call last):\n",
      "  File \"C:\\Users\\Desktop\\.conda\\envs\\tesis\\lib\\site-packages\\IPython\\core\\interactiveshell.py\", line 2077, in showtraceback\n",
      "    stb = value._render_traceback_()\n",
      "AttributeError: 'KeyboardInterrupt' object has no attribute '_render_traceback_'\n",
      "\n",
      "During handling of the above exception, another exception occurred:\n",
      "\n",
      "Traceback (most recent call last):\n",
      "  File \"C:\\Users\\Desktop\\.conda\\envs\\tesis\\lib\\site-packages\\IPython\\core\\interactiveshell.py\", line 3377, in run_ast_nodes\n",
      "    if (await self.run_code(code, result,  async_=asy)):\n",
      "  File \"C:\\Users\\Desktop\\.conda\\envs\\tesis\\lib\\site-packages\\IPython\\core\\interactiveshell.py\", line 3474, in run_code\n",
      "    self.showtraceback(running_compiled_code=True)\n",
      "  File \"C:\\Users\\Desktop\\.conda\\envs\\tesis\\lib\\site-packages\\IPython\\core\\interactiveshell.py\", line 2080, in showtraceback\n",
      "    value, tb, tb_offset=tb_offset)\n",
      "  File \"C:\\Users\\Desktop\\.conda\\envs\\tesis\\lib\\site-packages\\IPython\\core\\ultratb.py\", line 1368, in structured_traceback\n",
      "    self, etype, value, tb, tb_offset, number_of_lines_of_context)\n",
      "  File \"C:\\Users\\Desktop\\.conda\\envs\\tesis\\lib\\site-packages\\IPython\\core\\ultratb.py\", line 1268, in structured_traceback\n",
      "    self, etype, value, tb, tb_offset, number_of_lines_of_context\n",
      "  File \"C:\\Users\\Desktop\\.conda\\envs\\tesis\\lib\\site-packages\\IPython\\core\\ultratb.py\", line 1125, in structured_traceback\n",
      "    tb_offset)\n",
      "  File \"C:\\Users\\Desktop\\.conda\\envs\\tesis\\lib\\site-packages\\IPython\\core\\ultratb.py\", line 1082, in format_exception_as_a_whole\n",
      "    last_unique, recursion_repeat = find_recursion(orig_etype, evalue, records)\n",
      "  File \"C:\\Users\\Desktop\\.conda\\envs\\tesis\\lib\\site-packages\\IPython\\core\\ultratb.py\", line 382, in find_recursion\n",
      "    return len(records), 0\n",
      "TypeError: object of type 'NoneType' has no len()\n",
      "\n",
      "During handling of the above exception, another exception occurred:\n",
      "\n",
      "Traceback (most recent call last):\n",
      "  File \"C:\\Users\\Desktop\\.conda\\envs\\tesis\\lib\\site-packages\\IPython\\core\\interactiveshell.py\", line 2077, in showtraceback\n",
      "    stb = value._render_traceback_()\n",
      "AttributeError: 'TypeError' object has no attribute '_render_traceback_'\n",
      "\n",
      "During handling of the above exception, another exception occurred:\n",
      "\n",
      "Traceback (most recent call last):\n",
      "  File \"C:\\Users\\Desktop\\.conda\\envs\\tesis\\lib\\site-packages\\IPython\\core\\interactiveshell.py\", line 2960, in _run_cell\n",
      "    return runner(coro)\n",
      "  File \"C:\\Users\\Desktop\\.conda\\envs\\tesis\\lib\\site-packages\\IPython\\core\\async_helpers.py\", line 78, in _pseudo_sync_runner\n",
      "    coro.send(None)\n",
      "  File \"C:\\Users\\Desktop\\.conda\\envs\\tesis\\lib\\site-packages\\IPython\\core\\interactiveshell.py\", line 3186, in run_cell_async\n",
      "    interactivity=interactivity, compiler=compiler, result=result)\n",
      "  File \"C:\\Users\\Desktop\\.conda\\envs\\tesis\\lib\\site-packages\\IPython\\core\\interactiveshell.py\", line 3396, in run_ast_nodes\n",
      "    self.showtraceback()\n",
      "  File \"C:\\Users\\Desktop\\.conda\\envs\\tesis\\lib\\site-packages\\IPython\\core\\interactiveshell.py\", line 2080, in showtraceback\n",
      "    value, tb, tb_offset=tb_offset)\n",
      "  File \"C:\\Users\\Desktop\\.conda\\envs\\tesis\\lib\\site-packages\\IPython\\core\\ultratb.py\", line 1368, in structured_traceback\n",
      "    self, etype, value, tb, tb_offset, number_of_lines_of_context)\n",
      "  File \"C:\\Users\\Desktop\\.conda\\envs\\tesis\\lib\\site-packages\\IPython\\core\\ultratb.py\", line 1268, in structured_traceback\n",
      "    self, etype, value, tb, tb_offset, number_of_lines_of_context\n",
      "  File \"C:\\Users\\Desktop\\.conda\\envs\\tesis\\lib\\site-packages\\IPython\\core\\ultratb.py\", line 1143, in structured_traceback\n",
      "    chained_exceptions_tb_offset)\n",
      "  File \"C:\\Users\\Desktop\\.conda\\envs\\tesis\\lib\\site-packages\\IPython\\core\\ultratb.py\", line 1082, in format_exception_as_a_whole\n",
      "    last_unique, recursion_repeat = find_recursion(orig_etype, evalue, records)\n",
      "  File \"C:\\Users\\Desktop\\.conda\\envs\\tesis\\lib\\site-packages\\IPython\\core\\ultratb.py\", line 382, in find_recursion\n",
      "    return len(records), 0\n",
      "TypeError: object of type 'NoneType' has no len()\n",
      "\n",
      "During handling of the above exception, another exception occurred:\n",
      "\n",
      "Traceback (most recent call last):\n",
      "  File \"C:\\Users\\Desktop\\.conda\\envs\\tesis\\lib\\site-packages\\IPython\\core\\interactiveshell.py\", line 2077, in showtraceback\n",
      "    stb = value._render_traceback_()\n",
      "AttributeError: 'TypeError' object has no attribute '_render_traceback_'\n",
      "\n",
      "During handling of the above exception, another exception occurred:\n",
      "\n",
      "Traceback (most recent call last):\n",
      "  File \"C:\\Users\\Desktop\\.conda\\envs\\tesis\\lib\\site-packages\\IPython\\core\\ultratb.py\", line 1101, in get_records\n",
      "    return _fixed_getinnerframes(etb, number_of_lines_of_context, tb_offset)\n",
      "  File \"C:\\Users\\Desktop\\.conda\\envs\\tesis\\lib\\site-packages\\IPython\\core\\ultratb.py\", line 248, in wrapped\n",
      "    return f(*args, **kwargs)\n",
      "  File \"C:\\Users\\Desktop\\.conda\\envs\\tesis\\lib\\site-packages\\IPython\\core\\ultratb.py\", line 281, in _fixed_getinnerframes\n",
      "    records = fix_frame_records_filenames(inspect.getinnerframes(etb, context))\n",
      "  File \"C:\\Users\\Desktop\\.conda\\envs\\tesis\\lib\\inspect.py\", line 1502, in getinnerframes\n",
      "    frameinfo = (tb.tb_frame,) + getframeinfo(tb, context)\n",
      "  File \"C:\\Users\\Desktop\\.conda\\envs\\tesis\\lib\\inspect.py\", line 1460, in getframeinfo\n",
      "    filename = getsourcefile(frame) or getfile(frame)\n",
      "  File \"C:\\Users\\Desktop\\.conda\\envs\\tesis\\lib\\inspect.py\", line 696, in getsourcefile\n",
      "    if getattr(getmodule(object, filename), '__loader__', None) is not None:\n",
      "  File \"C:\\Users\\Desktop\\.conda\\envs\\tesis\\lib\\inspect.py\", line 733, in getmodule\n",
      "    if ismodule(module) and hasattr(module, '__file__'):\n",
      "  File \"C:\\Users\\Desktop\\.conda\\envs\\tesis\\lib\\site-packages\\tensorflow\\__init__.py\", line 50, in __getattr__\n",
      "    module = self._load()\n",
      "  File \"C:\\Users\\Desktop\\.conda\\envs\\tesis\\lib\\site-packages\\tensorflow\\__init__.py\", line 44, in _load\n",
      "    module = _importlib.import_module(self.__name__)\n",
      "  File \"C:\\Users\\Desktop\\.conda\\envs\\tesis\\lib\\importlib\\__init__.py\", line 127, in import_module\n",
      "    return _bootstrap._gcd_import(name[level:], package, level)\n",
      "  File \"<frozen importlib._bootstrap>\", line 1006, in _gcd_import\n",
      "  File \"<frozen importlib._bootstrap>\", line 983, in _find_and_load\n",
      "  File \"<frozen importlib._bootstrap>\", line 965, in _find_and_load_unlocked\n",
      "ModuleNotFoundError: No module named 'tensorflow_core.estimator'\n"
     ]
    }
   ],
   "source": [
    "modelo_adam = keras.optimizers.Adam(learning_rate=0.0008)\n",
    "modelo.compile(optimizer=modelo_adam,loss='binary_crossentropy',metrics=['accuracy'])\n",
    "v_eA=[]\n",
    "v_aA=[]\n",
    "evaluacion(modelo,81,\"ADAM\",v_eA,v_aA)"
   ]
  },
  {
   "cell_type": "code",
   "execution_count": 14,
   "id": "9e5dacc5",
   "metadata": {},
   "outputs": [],
   "source": [
    "modelo.save(\"D:/UMSA/Documentos/CNN cancer de piel/MODELOS/10000_2/modelo\")"
   ]
  },
  {
   "cell_type": "code",
   "execution_count": 15,
   "id": "49f346ed",
   "metadata": {},
   "outputs": [],
   "source": [
    "modelo.save_weights(\"D:/UMSA/Documentos/CNN cancer de piel/PESOS/10000_2/modelo_pesos\")"
   ]
  },
  {
   "cell_type": "code",
   "execution_count": 16,
   "id": "69fa779d",
   "metadata": {},
   "outputs": [
    {
     "name": "stdout",
     "output_type": "stream",
     "text": [
      "# de EPOCAS     Valor del Accuracy\n",
      "----------------------------------\n",
      "epoca  1  =>  64.3999993801117\n",
      "epoca  2  =>  58.399999141693115\n",
      "epoca  3  =>  60.866665840148926\n",
      "epoca  4  =>  69.33333277702332\n",
      "epoca  5  =>  69.9999988079071\n",
      "epoca  6  =>  70.26666402816772\n",
      "epoca  7  =>  74.59999918937683\n",
      "epoca  8  =>  75.40000081062317\n",
      "epoca  9  =>  75.66666603088379\n",
      "epoca  10  =>  76.06666684150696\n",
      "epoca  11  =>  76.66666507720947\n",
      "epoca  12  =>  77.13333368301392\n",
      "epoca  13  =>  76.5333354473114\n",
      "epoca  14  =>  76.99999809265137\n",
      "epoca  15  =>  76.8666684627533\n",
      "epoca  16  =>  77.60000228881836\n",
      "epoca  17  =>  78.20000052452087\n",
      "epoca  18  =>  78.20000052452087\n",
      "epoca  19  =>  78.66666913032532\n",
      "epoca  20  =>  77.46666669845581\n",
      "epoca  21  =>  78.4666657447815\n",
      "epoca  22  =>  78.60000133514404\n",
      "epoca  23  =>  78.66666913032532\n",
      "epoca  24  =>  78.66666913032532\n",
      "epoca  25  =>  79.00000214576721\n",
      "epoca  26  =>  78.86666655540466\n",
      "epoca  27  =>  79.00000214576721\n",
      "epoca  28  =>  78.73333096504211\n",
      "epoca  29  =>  78.73333096504211\n",
      "epoca  30  =>  79.00000214576721\n",
      "epoca  31  =>  79.00000214576721\n",
      "epoca  32  =>  79.40000295639038\n",
      "epoca  33  =>  79.06666398048401\n",
      "epoca  34  =>  79.00000214576721\n",
      "epoca  35  =>  79.06666398048401\n",
      "epoca  36  =>  79.06666398048401\n",
      "epoca  37  =>  79.3333351612091\n",
      "epoca  38  =>  79.46666479110718\n",
      "epoca  39  =>  79.3333351612091\n",
      "epoca  40  =>  79.46666479110718\n",
      "epoca  41  =>  79.60000038146973\n",
      "epoca  42  =>  79.26666736602783\n",
      "epoca  43  =>  79.53333258628845\n",
      "epoca  44  =>  79.40000295639038\n",
      "epoca  45  =>  79.666668176651\n",
      "epoca  46  =>  79.26666736602783\n",
      "epoca  47  =>  79.3333351612091\n",
      "epoca  48  =>  79.40000295639038\n",
      "epoca  49  =>  79.60000038146973\n",
      "epoca  50  =>  79.666668176651\n",
      "epoca  51  =>  79.666668176651\n",
      "epoca  52  =>  80.13333082199097\n",
      "epoca  53  =>  80.0000011920929\n",
      "epoca  54  =>  79.93333339691162\n",
      "epoca  55  =>  79.86666560173035\n",
      "epoca  56  =>  79.79999780654907\n",
      "epoca  57  =>  80.19999861717224\n",
      "epoca  58  =>  80.0000011920929\n",
      "epoca  59  =>  79.79999780654907\n",
      "epoca  60  =>  79.86666560173035\n",
      "epoca  61  =>  80.19999861717224\n",
      "epoca  62  =>  80.26666641235352\n",
      "epoca  63  =>  80.0000011920929\n",
      "epoca  64  =>  80.33333420753479\n",
      "epoca  65  =>  80.19999861717224\n",
      "epoca  66  =>  80.0000011920929\n",
      "epoca  67  =>  79.93333339691162\n",
      "epoca  68  =>  80.0000011920929\n",
      "epoca  69  =>  79.93333339691162\n",
      "epoca  70  =>  80.13333082199097\n",
      "epoca  71  =>  80.06666898727417\n",
      "epoca  72  =>  80.26666641235352\n",
      "epoca  73  =>  80.19999861717224\n",
      "epoca  74  =>  80.26666641235352\n",
      "epoca  75  =>  80.46666383743286\n",
      "epoca  76  =>  80.13333082199097\n",
      "epoca  77  =>  79.93333339691162\n",
      "epoca  78  =>  80.13333082199097\n",
      "epoca  79  =>  80.19999861717224\n",
      "epoca  80  =>  80.19999861717224\n",
      "epoca  81  =>  80.33333420753479\n",
      "epoca  82  =>  80.19999861717224\n",
      "epoca  83  =>  80.33333420753479\n",
      "epoca  84  =>  80.33333420753479\n",
      "epoca  85  =>  80.59999942779541\n",
      "epoca  86  =>  80.40000200271606\n",
      "epoca  87  =>  80.53333163261414\n",
      "epoca  88  =>  80.59999942779541\n",
      "epoca  89  =>  80.46666383743286\n",
      "epoca  90  =>  80.33333420753479\n",
      "epoca  91  =>  80.46666383743286\n",
      "epoca  92  =>  80.73333501815796\n",
      "epoca  93  =>  80.59999942779541\n",
      "epoca  94  =>  80.59999942779541\n",
      "epoca  95  =>  80.59999942779541\n",
      "epoca  96  =>  80.80000281333923\n",
      "epoca  97  =>  80.73333501815796\n",
      "epoca  98  =>  80.73333501815796\n",
      "epoca  99  =>  80.80000281333923\n",
      "epoca  100  =>  80.66666722297668\n",
      "epoca  101  =>  80.53333163261414\n",
      "epoca  102  =>  80.73333501815796\n",
      "epoca  103  =>  80.80000281333923\n",
      "epoca  104  =>  80.9333324432373\n",
      "epoca  105  =>  80.86666464805603\n",
      "epoca  106  =>  80.59999942779541\n",
      "epoca  107  =>  80.86666464805603\n",
      "epoca  108  =>  80.73333501815796\n",
      "epoca  109  =>  80.59999942779541\n",
      "epoca  110  =>  80.86666464805603\n",
      "epoca  111  =>  80.66666722297668\n",
      "epoca  112  =>  80.59999942779541\n",
      "epoca  113  =>  80.9333324432373\n",
      "epoca  114  =>  80.80000281333923\n",
      "epoca  115  =>  80.9333324432373\n",
      "epoca  116  =>  80.86666464805603\n",
      "epoca  117  =>  80.80000281333923\n",
      "epoca  118  =>  80.80000281333923\n",
      "epoca  119  =>  80.86666464805603\n",
      "epoca  120  =>  80.80000281333923\n",
      "epoca  121  =>  81.19999766349792\n"
     ]
    }
   ],
   "source": [
    "count=1\n",
    "print(\"# de EPOCAS     Valor del Accuracy\")\n",
    "print(\"----------------------------------\")\n",
    "for i in v_aA:\n",
    "    print(\"epoca \",count,\" => \",i)\n",
    "    count +=1"
   ]
  },
  {
   "cell_type": "code",
   "execution_count": 17,
   "id": "624c807a",
   "metadata": {},
   "outputs": [],
   "source": [
    "%matplotlib inline\n",
    "import matplotlib.pyplot as mp"
   ]
  },
  {
   "cell_type": "code",
   "execution_count": 18,
   "id": "5990a871",
   "metadata": {},
   "outputs": [
    {
     "data": {
      "image/png": "[encoded data removed]",
      "text/plain": [
       "<Figure size 640x480 with 1 Axes>"
      ]
     },
     "metadata": {},
     "output_type": "display_data"
    }
   ],
   "source": [
    "mp.plot(v_aA,v_eA, marker='o', linestyle=':', color='b', label = \"ADAM\")\n",
    "\n",
    "#mp.xticks(np.arange(70,100,2))\n",
    "#mp.yticks(np.arange(0,4,1))\n",
    "mp.xlabel(\"porcentaje de asertividad\")\n",
    "mp.ylabel(\"Numero de epocas\")\n",
    "mp.legend(loc=\"upper left\")\n",
    "mp.title(\"Nivel de asertividad y epocas con 5000 imagenes\")\n",
    "mp.grid(True)\n",
    "mp.show()"
   ]
  },
  {
   "cell_type": "markdown",
   "id": "715d613c",
   "metadata": {},
   "source": [
    "## Curva ROC"
   ]
  },
  {
   "cell_type": "code",
   "execution_count": 19,
   "id": "1a70b675",
   "metadata": {},
   "outputs": [],
   "source": [
    "lr_probs = modelo.predict_proba(x_p)"
   ]
  },
  {
   "cell_type": "code",
   "execution_count": 20,
   "id": "f23e7523",
   "metadata": {},
   "outputs": [],
   "source": [
    "lr_probs = lr_probs[:, 0]"
   ]
  },
  {
   "cell_type": "code",
   "execution_count": 21,
   "id": "bef68f5d",
   "metadata": {},
   "outputs": [],
   "source": [
    "ns_probs = [0 for _ in range(len(y_p))]"
   ]
  },
  {
   "cell_type": "code",
   "execution_count": 26,
   "id": "e52c31e2",
   "metadata": {},
   "outputs": [
    {
     "name": "stdout",
     "output_type": "stream",
     "text": [
      "ERROR! Session/line number was not unique in database. History logging moved to new session 1091\n"
     ]
    }
   ],
   "source": [
    "from sklearn.metrics import roc_curve\n",
    "from sklearn.metrics import roc_auc_score\n",
    "from matplotlib import pyplot"
   ]
  },
  {
   "cell_type": "code",
   "execution_count": 27,
   "id": "41d9f97a",
   "metadata": {},
   "outputs": [
    {
     "name": "stdout",
     "output_type": "stream",
     "text": [
      "Sin entrenar: ROC AUC=0.500\n",
      "Red Neuronal: ROC AUC=0.862\n"
     ]
    }
   ],
   "source": [
    "# Calculamos el AUC\n",
    "ns_auc = roc_auc_score(y_p, ns_probs)\n",
    "lr_auc = roc_auc_score(y_p, lr_probs)\n",
    "# Imprimimos en pantalla\n",
    "print('Sin entrenar: ROC AUC=%.3f' % (ns_auc))\n",
    "print('Red Neuronal: ROC AUC=%.3f' % (lr_auc))"
   ]
  },
  {
   "cell_type": "code",
   "execution_count": 38,
   "id": "bcea5282",
   "metadata": {},
   "outputs": [
    {
     "data": {
      "image/png": "[encoded data removed]",
      "text/plain": [
       "<Figure size 640x480 with 1 Axes>"
      ]
     },
     "metadata": {},
     "output_type": "display_data"
    }
   ],
   "source": [
    "# Calculamos las curvas ROC\n",
    "ns_fpr, ns_tpr, _ = roc_curve(y_p, ns_probs)\n",
    "lr_fpr, lr_tpr, _ = roc_curve(y_p, lr_probs)\n",
    "# Pintamos las curvas ROC\n",
    "pyplot.plot(ns_fpr, ns_tpr, linestyle='--', label='Sin entrenar')\n",
    "pyplot.plot(lr_fpr, lr_tpr, marker='.', label='Red Neuronal')\n",
    "# Etiquetas de los ejes\n",
    "pyplot.xlabel('Tasa de Falsos Positivos')\n",
    "pyplot.ylabel('Tasa de Verdaderos Positivos')\n",
    "pyplot.legend()\n",
    "mp.grid(True)\n",
    "pyplot.show()"
   ]
  },
  {
   "cell_type": "markdown",
   "id": "78d51169",
   "metadata": {},
   "source": [
    "## SENSIBILIDAD Y PRESICION"
   ]
  },
  {
   "cell_type": "code",
   "execution_count": 30,
   "id": "9180eab7",
   "metadata": {},
   "outputs": [],
   "source": [
    "lr_probs = modelo.predict_proba(x_p)\n",
    "# Nos quedamos unicamente con las predicciones positicas\n",
    "lr_probs = lr_probs[:, 0]"
   ]
  },
  {
   "cell_type": "code",
   "execution_count": 31,
   "id": "dcbb8458",
   "metadata": {},
   "outputs": [],
   "source": [
    "yhat = modelo.predict(x_p)"
   ]
  },
  {
   "cell_type": "code",
   "execution_count": 33,
   "id": "b3d1c96c",
   "metadata": {},
   "outputs": [],
   "source": [
    "from sklearn.metrics import precision_recall_curve\n",
    "from sklearn.metrics import f1_score\n",
    "from sklearn.metrics import auc"
   ]
  },
  {
   "cell_type": "code",
   "execution_count": 34,
   "id": "5bc61be9",
   "metadata": {},
   "outputs": [],
   "source": [
    "lr_precision, lr_recall, _ = precision_recall_curve(y_p, lr_probs)"
   ]
  },
  {
   "cell_type": "code",
   "execution_count": 35,
   "id": "737c37dd",
   "metadata": {},
   "outputs": [],
   "source": [
    "lr_auc =  auc(lr_recall, lr_precision)"
   ]
  },
  {
   "cell_type": "code",
   "execution_count": 36,
   "id": "11cc7307",
   "metadata": {},
   "outputs": [],
   "source": [
    "no_skill = len(y_p[y_p==1]) / len(y_p)"
   ]
  },
  {
   "cell_type": "code",
   "execution_count": 39,
   "id": "e85efc29",
   "metadata": {},
   "outputs": [
    {
     "name": "stdout",
     "output_type": "stream",
     "text": [
      "Redes neuronales: auc=0.851\n"
     ]
    },
    {
     "data": {
      "image/png": "[encoded data removed]",
      "text/plain": [
       "<Figure size 640x480 with 1 Axes>"
      ]
     },
     "metadata": {},
     "output_type": "display_data"
    }
   ],
   "source": [
    "print('Redes neuronales: auc=%.3f' % (lr_auc))\n",
    "pyplot.plot([0, 1], [no_skill, no_skill], linestyle='--', label='Sin entrenar')\n",
    "pyplot.plot(lr_recall, lr_precision, marker='.', label='Redes Neuronales')\n",
    "#Etiquetas de ejes\n",
    "pyplot.xlabel('Sensibilidad')\n",
    "pyplot.ylabel('Precisión')\n",
    "pyplot.legend()\n",
    "mp.grid(True)\n",
    "pyplot.show()"
   ]
  },
  {
   "cell_type": "code",
   "execution_count": 41,
   "id": "6ae1636b",
   "metadata": {},
   "outputs": [
    {
     "data": {
      "text/plain": [
       "[<tf.Variable 'conv2d_2/kernel:0' shape=(3, 3, 3, 8) dtype=float32>,\n",
       " <tf.Variable 'conv2d_2/bias:0' shape=(8,) dtype=float32>,\n",
       " <tf.Variable 'conv2d_3/kernel:0' shape=(3, 3, 8, 16) dtype=float32>,\n",
       " <tf.Variable 'conv2d_3/bias:0' shape=(16,) dtype=float32>,\n",
       " <tf.Variable 'dense_3/kernel:0' shape=(193600, 128) dtype=float32>,\n",
       " <tf.Variable 'dense_3/bias:0' shape=(128,) dtype=float32>,\n",
       " <tf.Variable 'dense_4/kernel:0' shape=(128, 70) dtype=float32>,\n",
       " <tf.Variable 'dense_4/bias:0' shape=(70,) dtype=float32>,\n",
       " <tf.Variable 'dense_5/kernel:0' shape=(70, 1) dtype=float32>,\n",
       " <tf.Variable 'dense_5/bias:0' shape=(1,) dtype=float32>]"
      ]
     },
     "execution_count": 41,
     "metadata": {},
     "output_type": "execute_result"
    }
   ],
   "source": [
    "modelo.weights"
   ]
  },
  {
   "cell_type": "code",
   "execution_count": null,
   "id": "26c7fc3f",
   "metadata": {},
   "outputs": [],
   "source": []
  }
 ],
 "metadata": {
  "kernelspec": {
   "display_name": "Python 3 (ipykernel)",
   "language": "python",
   "name": "python3"
  },
  "language_info": {
   "codemirror_mode": {
    "name": "ipython",
    "version": 3
   },
   "file_extension": ".py",
   "mimetype": "text/x-python",
   "name": "python",
   "nbconvert_exporter": "python",
   "pygments_lexer": "ipython3",
   "version": "3.7.15"
  }
 },
 "nbformat": 4,
 "nbformat_minor": 5
}
