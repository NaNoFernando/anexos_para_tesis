{
 "cells": [
  {
   "cell_type": "code",
   "execution_count": 1,
   "id": "4f92b91b",
   "metadata": {},
   "outputs": [],
   "source": [
    "from tensorflow.keras.models import Sequential\n",
    "from tensorflow.keras.layers import Dense\n",
    "from tensorflow.keras.layers import Convolution2D\n",
    "from tensorflow.keras.layers import MaxPooling2D\n",
    "from tensorflow.keras.layers import Flatten\n",
    "import cv2\n",
    "import numpy as np\n",
    "import glob\n",
    "import os\n",
    "from random import shuffle"
   ]
  },
  {
   "cell_type": "code",
   "execution_count": 2,
   "id": "965e3e14",
   "metadata": {},
   "outputs": [],
   "source": [
    "from tensorflow import keras"
   ]
  },
  {
   "cell_type": "code",
   "execution_count": 3,
   "id": "ee5fb2bf",
   "metadata": {},
   "outputs": [
    {
     "name": "stdout",
     "output_type": "stream",
     "text": [
      "\n"
     ]
    }
   ],
   "source": [
    "import tensorflow as tf\n",
    "print(tf.test.gpu_device_name())"
   ]
  },
  {
   "cell_type": "code",
   "execution_count": 4,
   "id": "5fb8f790",
   "metadata": {},
   "outputs": [],
   "source": [
    "X_train=[]\n",
    "X_test=[]\n",
    "Y_test=[]\n",
    "Y_train=[]\n",
    "dataTr=[]\n",
    "for filename in glob.glob(os.path.join('D:/UMSA/TESIS/Tesis de grado/data/entrenamiento/Melanoma_escalado','*.jpg')):\n",
    "    dataTr.append([1,cv2.imread(filename)])\n",
    "for filename in glob.glob(os.path.join('D:/UMSA/TESIS/Tesis de grado/data/entrenamiento/Carcinoma_escalado','*.jpg')):\n",
    "    dataTr.append([0,cv2.imread(filename)])"
   ]
  },
  {
   "cell_type": "code",
   "execution_count": 5,
   "id": "235b98a2",
   "metadata": {},
   "outputs": [],
   "source": [
    "def particion(datos):\n",
    "    imagenes=[]\n",
    "    etiquetas=[]\n",
    "    for i,j in datos:\n",
    "        imagenes.append(j)\n",
    "        etiquetas.append(i)\n",
    "    imagenes=np.array(imagenes)\n",
    "    etiquetas=np.array(etiquetas)\n",
    "    return (imagenes,etiquetas)"
   ]
  },
  {
   "cell_type": "code",
   "execution_count": 6,
   "id": "c1079c2c",
   "metadata": {},
   "outputs": [
    {
     "name": "stdout",
     "output_type": "stream",
     "text": [
      "en total tenemos: 13319 imagenes dentro de la carpeta train\n"
     ]
    }
   ],
   "source": [
    "shuffle(dataTr)\n",
    "print(\"en total tenemos: \"+str(len(dataTr))+ \" imagenes dentro de la carpeta train\")"
   ]
  },
  {
   "cell_type": "code",
   "execution_count": 7,
   "id": "ee439097",
   "metadata": {},
   "outputs": [
    {
     "name": "stdout",
     "output_type": "stream",
     "text": [
      "para entrenamiento tendremos: 5250 imagenes de la carpeta de train\n",
      "para prueba tendremos: 2250 imagenes de la carpeta de train\n"
     ]
    }
   ],
   "source": [
    "porcion1=dataTr[0:5250]\n",
    "porcion2=dataTr[5251:7501]\n",
    "print(\"para entrenamiento tendremos: \"+str(len(porcion1))+ \" imagenes de la carpeta de train\")\n",
    "print(\"para prueba tendremos: \"+str(len(porcion2))+ \" imagenes de la carpeta de train\")"
   ]
  },
  {
   "cell_type": "code",
   "execution_count": 8,
   "id": "2cccc92c",
   "metadata": {},
   "outputs": [],
   "source": [
    "x_e,y_e=particion(porcion1)\n",
    "x_p,y_p=particion(porcion2)"
   ]
  },
  {
   "cell_type": "code",
   "execution_count": 9,
   "id": "b06adaff",
   "metadata": {},
   "outputs": [],
   "source": [
    "def validacion(x_e,y_e,x_p,y_p,modelo1,epocas):\n",
    "    entre=modelo1.fit(x_e,y_e,batch_size=32,epochs=epocas,validation_data=(x_p,y_p))\n",
    "    a=modelo1.evaluate(x_p,y_p)\n",
    "    return a[1]"
   ]
  },
  {
   "cell_type": "code",
   "execution_count": 10,
   "id": "fa8b8412",
   "metadata": {},
   "outputs": [],
   "source": [
    "def evaluacion(modelo1,porcentaje,nombre,v1,v2):\n",
    "    prediccion=0\n",
    "    epocas=1\n",
    "    while(True):\n",
    "        if prediccion < porcentaje:\n",
    "            prediccion=(validacion(x_e,y_e,x_p,y_p,modelo1,1))*100\n",
    "            epocas +=1\n",
    "            v1.append(epocas-1)\n",
    "            v2.append(prediccion)\n",
    "        else:\n",
    "            print(\"==> Para el metodo \"+nombre+\" se utilizo: \"+str(epocas-1)+\" epocas para llegar a mas del \"+str(porcentaje)+\"% de acertividad\")\n",
    "            break "
   ]
  },
  {
   "cell_type": "code",
   "execution_count": 11,
   "id": "d3a98edd",
   "metadata": {},
   "outputs": [
    {
     "name": "stdout",
     "output_type": "stream",
     "text": [
      "WARNING:tensorflow:From C:\\Users\\Desktop\\.conda\\envs\\tesis\\lib\\site-packages\\tensorflow_core\\python\\ops\\resource_variable_ops.py:1630: calling BaseResourceVariable.__init__ (from tensorflow.python.ops.resource_variable_ops) with constraint is deprecated and will be removed in a future version.\n",
      "Instructions for updating:\n",
      "If using Keras pass *_constraint arguments to layers.\n",
      "Model: \"sequential\"\n",
      "_________________________________________________________________\n",
      "Layer (type)                 Output Shape              Param #   \n",
      "=================================================================\n",
      "conv2d (Conv2D)              (None, 222, 222, 32)      896       \n",
      "_________________________________________________________________\n",
      "max_pooling2d (MaxPooling2D) (None, 111, 111, 32)      0         \n",
      "_________________________________________________________________\n",
      "flatten (Flatten)            (None, 394272)            0         \n",
      "_________________________________________________________________\n",
      "dense (Dense)                (None, 128)               50466944  \n",
      "_________________________________________________________________\n",
      "dense_1 (Dense)              (None, 50)                6450      \n",
      "_________________________________________________________________\n",
      "dense_2 (Dense)              (None, 1)                 51        \n",
      "=================================================================\n",
      "Total params: 50,474,341\n",
      "Trainable params: 50,474,341\n",
      "Non-trainable params: 0\n",
      "_________________________________________________________________\n"
     ]
    }
   ],
   "source": [
    "modelo=Sequential()\n",
    "modelo.add(Convolution2D(32,(3,3),input_shape=(224,224,3),activation='relu'))\n",
    "modelo.add(MaxPooling2D(pool_size=((2,2))))\n",
    "modelo.add(Flatten())\n",
    "modelo.add(Dense(128,activation='relu'))\n",
    "modelo.add(Dense(50,activation='relu'))\n",
    "modelo.add(Dense(1,activation='sigmoid'))\n",
    "modelo.summary()"
   ]
  },
  {
   "cell_type": "code",
   "execution_count": 12,
   "id": "1355d8a9",
   "metadata": {},
   "outputs": [
    {
     "name": "stdout",
     "output_type": "stream",
     "text": [
      "WARNING:tensorflow:From C:\\Users\\Desktop\\.conda\\envs\\tesis\\lib\\site-packages\\tensorflow_core\\python\\ops\\nn_impl.py:183: where (from tensorflow.python.ops.array_ops) is deprecated and will be removed in a future version.\n",
      "Instructions for updating:\n",
      "Use tf.where in 2.0, which has the same broadcast rule as np.where\n",
      "Train on 5250 samples, validate on 2250 samples\n",
      "5250/5250 [==============================] - 49s 9ms/sample - loss: 211.5001 - acc: 0.5989 - val_loss: 2.9092 - val_acc: 0.6969\n",
      "2250/2250 [==============================] - 4s 2ms/sample - loss: 2.9092 - acc: 0.6969\n",
      "Train on 5250 samples, validate on 2250 samples\n",
      "5250/5250 [==============================] - 49s 9ms/sample - loss: 1.5096 - acc: 0.7263 - val_loss: 1.0208 - val_acc: 0.7307\n",
      "2250/2250 [==============================] - 4s 2ms/sample - loss: 1.0208 - acc: 0.7307\n",
      "Train on 5250 samples, validate on 2250 samples\n",
      "5250/5250 [==============================] - 49s 9ms/sample - loss: 0.4899 - acc: 0.8274 - val_loss: 0.8992 - val_acc: 0.7364\n",
      "2250/2250 [==============================] - 4s 2ms/sample - loss: 0.8992 - acc: 0.7364\n",
      "Train on 5250 samples, validate on 2250 samples\n",
      "5250/5250 [==============================] - 49s 9ms/sample - loss: 0.2447 - acc: 0.9021 - val_loss: 1.2003 - val_acc: 0.6956\n",
      "2250/2250 [==============================] - 4s 2ms/sample - loss: 1.2003 - acc: 0.6956\n",
      "Train on 5250 samples, validate on 2250 samples\n",
      "5250/5250 [==============================] - 49s 9ms/sample - loss: 0.1577 - acc: 0.9413 - val_loss: 1.0065 - val_acc: 0.7742\n",
      "2250/2250 [==============================] - 4s 2ms/sample - loss: 1.0065 - acc: 0.7742\n",
      "Train on 5250 samples, validate on 2250 samples\n",
      "5250/5250 [==============================] - 49s 9ms/sample - loss: 0.1305 - acc: 0.9520 - val_loss: 1.0673 - val_acc: 0.7511\n",
      "2250/2250 [==============================] - 4s 2ms/sample - loss: 1.0673 - acc: 0.7511\n",
      "Train on 5250 samples, validate on 2250 samples\n",
      "5250/5250 [==============================] - 49s 9ms/sample - loss: 0.0858 - acc: 0.9710 - val_loss: 1.0251 - val_acc: 0.8036\n",
      "2250/2250 [==============================] - 4s 2ms/sample - loss: 1.0251 - acc: 0.8036\n",
      "==> Para el metodo ADAM se utilizo: 7 epocas para llegar a mas del 80% de acertividad\n"
     ]
    }
   ],
   "source": [
    "modelo_adam = keras.optimizers.Adam(learning_rate=0.0008)\n",
    "modelo.compile(optimizer=modelo_adam,loss='binary_crossentropy',metrics=['accuracy'])\n",
    "v_eA=[]\n",
    "v_aA=[]\n",
    "evaluacion(modelo,80,\"ADAM\",v_eA,v_aA)"
   ]
  },
  {
   "cell_type": "code",
   "execution_count": 13,
   "id": "9e5dacc5",
   "metadata": {},
   "outputs": [],
   "source": [
    "modelo.save(\"D:/UMSA/Documentos/CNN cancer de piel/MODELOS/7500/modelo\")"
   ]
  },
  {
   "cell_type": "code",
   "execution_count": 14,
   "id": "49f346ed",
   "metadata": {},
   "outputs": [],
   "source": [
    "modelo.save_weights(\"D:/UMSA/Documentos/CNN cancer de piel/PESOS/7500/modelo_pesos\")"
   ]
  },
  {
   "cell_type": "code",
   "execution_count": null,
   "id": "69fa779d",
   "metadata": {},
   "outputs": [],
   "source": []
  }
 ],
 "metadata": {
  "kernelspec": {
   "display_name": "Python 3 (ipykernel)",
   "language": "python",
   "name": "python3"
  },
  "language_info": {
   "codemirror_mode": {
    "name": "ipython",
    "version": 3
   },
   "file_extension": ".py",
   "mimetype": "text/x-python",
   "name": "python",
   "nbconvert_exporter": "python",
   "pygments_lexer": "ipython3",
   "version": "3.7.15"
  }
 },
 "nbformat": 4,
 "nbformat_minor": 5
}
