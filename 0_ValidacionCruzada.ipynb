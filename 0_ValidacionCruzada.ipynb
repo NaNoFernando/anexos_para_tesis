{
 "cells": [
  {
   "cell_type": "markdown",
   "id": "ba18637e",
   "metadata": {},
   "source": [
    "# Verificaremos si el modelo que estoy usando es el correcto"
   ]
  },
  {
   "cell_type": "code",
   "execution_count": 1,
   "id": "76002baf",
   "metadata": {},
   "outputs": [],
   "source": [
    "from tensorflow.keras.models import Sequential\n",
    "from tensorflow.keras.layers import Dense\n",
    "from tensorflow.keras.layers import Convolution2D\n",
    "from tensorflow.keras.layers import MaxPooling2D\n",
    "from tensorflow.keras.layers import Flatten\n",
    "import cv2\n",
    "import numpy as np\n",
    "import glob\n",
    "import os\n",
    "from random import shuffle"
   ]
  },
  {
   "cell_type": "code",
   "execution_count": 2,
   "id": "40f1fb11",
   "metadata": {},
   "outputs": [],
   "source": [
    "X_train=[]\n",
    "X_test=[]\n",
    "Y_test=[]\n",
    "Y_train=[]\n",
    "dataTr=[]\n",
    "for filename in glob.glob(os.path.join('data/train/malignant','*.jpg')):\n",
    "    dataTr.append([1,cv2.imread(filename)])\n",
    "for filename in glob.glob(os.path.join('data/train/benign','*.jpg')):\n",
    "    dataTr.append([0,cv2.imread(filename)])"
   ]
  },
  {
   "cell_type": "code",
   "execution_count": 3,
   "id": "f2875c53",
   "metadata": {},
   "outputs": [
    {
     "name": "stdout",
     "output_type": "stream",
     "text": [
      "en total tenemos: 2637 imagenes dentro de la carpeta train\n"
     ]
    }
   ],
   "source": [
    "shuffle(dataTr)\n",
    "print(\"en total tenemos: \"+str(len(dataTr))+ \" imagenes dentro de la carpeta train\")"
   ]
  },
  {
   "cell_type": "code",
   "execution_count": 4,
   "id": "1db398ed",
   "metadata": {},
   "outputs": [],
   "source": [
    "def creacion_modelo():\n",
    "    modelo=Sequential()\n",
    "    modelo.add(Convolution2D(32,(3,3),input_shape=(224,224,3),activation='relu'))\n",
    "    modelo.add(MaxPooling2D(pool_size=((2,2))))\n",
    "    modelo.add(Flatten())\n",
    "    modelo.add(Dense(128,activation='relu'))\n",
    "    modelo.add(Dense(50,activation='relu'))\n",
    "    modelo.add(Dense(1,activation='sigmoid'))\n",
    "    return modelo"
   ]
  },
  {
   "cell_type": "markdown",
   "id": "2fc99554",
   "metadata": {},
   "source": [
    "## metodos que ayudaran en el proceso de entrenamiento"
   ]
  },
  {
   "cell_type": "code",
   "execution_count": 5,
   "id": "032a480e",
   "metadata": {},
   "outputs": [],
   "source": [
    "def evaluacion(modelo,porcentaje,nombre,x_e,y_e,x_p,y_p):\n",
    "    prediccion=0\n",
    "    epocas=1\n",
    "    while(True):\n",
    "        if prediccion < porcentaje:\n",
    "            prediccion=(validacion(x_e,y_e,x_p,y_p,modelo,1))*100\n",
    "            epocas +=1\n",
    "        else:\n",
    "            print(\"==> Para el metodo \"+nombre+\" se utilizo: \"+str(epocas-1)+\" epocas para llegar a mas del \"+str(porcentaje)+\"% de acertividad\")\n",
    "            break\n",
    "    return (epocas, prediccion)"
   ]
  },
  {
   "cell_type": "code",
   "execution_count": 6,
   "id": "515f6fe0",
   "metadata": {},
   "outputs": [],
   "source": [
    "def validacion(x_e,y_e,x_p,y_p,model,epocas):\n",
    "    entre=model.fit(x_e,y_e,batch_size=32,epochs=epocas,validation_data=(x_p,y_p))\n",
    "    a=model.evaluate(x_p,y_p)\n",
    "    return a[1]"
   ]
  },
  {
   "cell_type": "markdown",
   "id": "e3caa08f",
   "metadata": {},
   "source": [
    "## creacion de modelos para cada prueba"
   ]
  },
  {
   "cell_type": "code",
   "execution_count": 7,
   "id": "871ad47d",
   "metadata": {},
   "outputs": [],
   "source": [
    "from tensorflow import keras"
   ]
  },
  {
   "cell_type": "code",
   "execution_count": 8,
   "id": "94b56692",
   "metadata": {},
   "outputs": [
    {
     "name": "stdout",
     "output_type": "stream",
     "text": [
      "WARNING:tensorflow:From C:\\Users\\Desktop\\.conda\\envs\\TESIS\\lib\\site-packages\\tensorflow_core\\python\\ops\\resource_variable_ops.py:1630: calling BaseResourceVariable.__init__ (from tensorflow.python.ops.resource_variable_ops) with constraint is deprecated and will be removed in a future version.\n",
      "Instructions for updating:\n",
      "If using Keras pass *_constraint arguments to layers.\n",
      "WARNING:tensorflow:From C:\\Users\\Desktop\\.conda\\envs\\TESIS\\lib\\site-packages\\tensorflow_core\\python\\ops\\nn_impl.py:183: where (from tensorflow.python.ops.array_ops) is deprecated and will be removed in a future version.\n",
      "Instructions for updating:\n",
      "Use tf.where in 2.0, which has the same broadcast rule as np.where\n"
     ]
    }
   ],
   "source": [
    "opt = keras.optimizers.Adam(learning_rate=0.0009)\n",
    "modelo1=creacion_modelo()\n",
    "modelo1.compile(optimizer=opt,loss='binary_crossentropy',metrics=['accuracy'])\n",
    "modelo2=creacion_modelo()\n",
    "modelo2.compile(optimizer=opt,loss='binary_crossentropy',metrics=['accuracy'])\n",
    "modelo3=creacion_modelo()\n",
    "modelo3.compile(optimizer=opt,loss='binary_crossentropy',metrics=['accuracy'])\n",
    "modelo4=creacion_modelo()\n",
    "modelo4.compile(optimizer=opt,loss='binary_crossentropy',metrics=['accuracy'])\n",
    "modelo5=creacion_modelo()\n",
    "modelo5.compile(optimizer=opt,loss='binary_crossentropy',metrics=['accuracy'])"
   ]
  },
  {
   "cell_type": "code",
   "execution_count": 9,
   "id": "c4affcfb",
   "metadata": {},
   "outputs": [],
   "source": [
    "def particion(datos):\n",
    "    imagenes=[]\n",
    "    etiquetas=[]\n",
    "    for i,j in datos:\n",
    "        imagenes.append(j)\n",
    "        etiquetas.append(i)\n",
    "    imagenes=np.array(imagenes)\n",
    "    etiquetas=np.array(etiquetas)\n",
    "    return (imagenes,etiquetas)"
   ]
  },
  {
   "cell_type": "markdown",
   "id": "a693024a",
   "metadata": {},
   "source": [
    "## validacion Cruzada"
   ]
  },
  {
   "cell_type": "code",
   "execution_count": 10,
   "id": "1a98e8f7",
   "metadata": {},
   "outputs": [
    {
     "name": "stdout",
     "output_type": "stream",
     "text": [
      "527 527 527 527 529\n"
     ]
    }
   ],
   "source": [
    "n=int(len(dataTr)/5)\n",
    "output=[dataTr[i:i + n] for i in range(0, len(dataTr), n)]\n",
    "porcion1=output[0]\n",
    "porcion2=output[1]\n",
    "porcion3=output[2]\n",
    "porcion4=output[3]\n",
    "porcion5=output[4]\n",
    "porcion5.extend(output[5])\n",
    "print(len(porcion1),len(porcion2),len(porcion3),len(porcion4),len(porcion5))"
   ]
  },
  {
   "cell_type": "code",
   "execution_count": 11,
   "id": "927da728",
   "metadata": {},
   "outputs": [],
   "source": [
    "x_p1,y_p1=particion(porcion1)\n",
    "x_p2,y_p2=particion(porcion2)\n",
    "x_p3,y_p3=particion(porcion3)\n",
    "x_p4,y_p4=particion(porcion4)\n",
    "x_p5,y_p5=particion(porcion5)"
   ]
  },
  {
   "cell_type": "code",
   "execution_count": 12,
   "id": "b42f31c3",
   "metadata": {},
   "outputs": [],
   "source": [
    "x_entre=[]\n",
    "y_entre=[]\n",
    "entre1=porcion4+porcion3+porcion2+porcion1\n",
    "entre2=porcion5+porcion3+porcion2+porcion1\n",
    "entre3=porcion5+porcion4+porcion2+porcion1\n",
    "entre4=porcion5+porcion4+porcion3+porcion1\n",
    "entre5=porcion5+porcion4+porcion3+porcion2"
   ]
  },
  {
   "cell_type": "code",
   "execution_count": null,
   "id": "91ee1085",
   "metadata": {},
   "outputs": [
    {
     "name": "stdout",
     "output_type": "stream",
     "text": [
      "Train on 2108 samples, validate on 529 samples\n"
     ]
    }
   ],
   "source": [
    "vector_epocas=[]\n",
    "vector_aserti=[]\n",
    "x_entre,y_entre=particion(entre1)\n",
    "val_epocas, val_asertividad=evaluacion(modelo1,80,\"ADAM\",x_entre,y_entre,x_p5,y_p5)\n",
    "vector_epocas.append(val_epocas)\n",
    "vector_aserti.append(val_asertividad)\n",
    "x_entre=[]\n",
    "y_entre=[]"
   ]
  },
  {
   "cell_type": "code",
   "execution_count": null,
   "id": "f5293ac7",
   "metadata": {},
   "outputs": [],
   "source": [
    "x_entre,y_entre=particion(entre2)\n",
    "val_epocas, val_asertividad=evaluacion(modelo2,80,\"ADAM\",x_entre,y_entre,x_p4,y_p4)\n",
    "vector_epocas.append(val_epocas)\n",
    "vector_aserti.append(val_asertividad)\n",
    "x_entre=[]\n",
    "y_entre=[]"
   ]
  },
  {
   "cell_type": "code",
   "execution_count": null,
   "id": "b6f54d62",
   "metadata": {},
   "outputs": [],
   "source": [
    "x_entre,y_entre=particion(entre3)\n",
    "val_epocas, val_asertividad=evaluacion(modelo3,80,\"ADAM\",x_entre,y_entre,x_p3,y_p3)\n",
    "vector_epocas.append(val_epocas)\n",
    "vector_aserti.append(val_asertividad)\n",
    "x_entre=[]\n",
    "y_entre=[]"
   ]
  },
  {
   "cell_type": "code",
   "execution_count": null,
   "id": "35602e75",
   "metadata": {},
   "outputs": [],
   "source": [
    "x_entre,y_entre=particion(entre4)\n",
    "val_epocas, val_asertividad=evaluacion(modelo4,80,\"ADAM\",x_entre,y_entre,x_p2,y_p2)\n",
    "vector_epocas.append(val_epocas)\n",
    "vector_aserti.append(val_asertividad)\n",
    "x_entre=[]\n",
    "y_entre=[]"
   ]
  },
  {
   "cell_type": "code",
   "execution_count": null,
   "id": "2f759813",
   "metadata": {},
   "outputs": [],
   "source": [
    "x_entre,y_entre=particion(entre5)\n",
    "val_epocas, val_asertividad=evaluacion(modelo5,80,\"ADAM\",x_entre,y_entre,x_p1,y_p1)\n",
    "vector_epocas.append(val_epocas)\n",
    "vector_aserti.append(val_asertividad)"
   ]
  },
  {
   "cell_type": "code",
   "execution_count": null,
   "id": "19ed81c2",
   "metadata": {},
   "outputs": [],
   "source": [
    "media = np.mean(vector_aserti)\n",
    "desviacion_estandart = np.std(vector_aserti)\n",
    "print(vector_aserti)\n",
    "print(vector_epocas)\n",
    "print(\"se tiene que como media el valor: \"+str(media))\n",
    "print(\"se tiene que como desviacion estandart: \"+str(desviacion_estandart))"
   ]
  },
  {
   "cell_type": "code",
   "execution_count": null,
   "id": "6acc0f6c",
   "metadata": {},
   "outputs": [],
   "source": [
    "%matplotlib inline\n",
    "import matplotlib.pyplot as mp"
   ]
  },
  {
   "cell_type": "code",
   "execution_count": null,
   "id": "b22745d5",
   "metadata": {},
   "outputs": [],
   "source": [
    "mp.plot([0.72778827, 0.84440225, 0.91081595, 0.9487666, 0.9411765],[1,2,3,4,5],\"gs\")"
   ]
  },
  {
   "cell_type": "code",
   "execution_count": null,
   "id": "499517e2",
   "metadata": {},
   "outputs": [],
   "source": []
  }
 ],
 "metadata": {
  "kernelspec": {
   "display_name": "Python 3 (ipykernel)",
   "language": "python",
   "name": "python3"
  },
  "language_info": {
   "codemirror_mode": {
    "name": "ipython",
    "version": 3
   },
   "file_extension": ".py",
   "mimetype": "text/x-python",
   "name": "python",
   "nbconvert_exporter": "python",
   "pygments_lexer": "ipython3",
   "version": "3.7.15"
  }
 },
 "nbformat": 4,
 "nbformat_minor": 5
}
