{
 "cells": [
  {
   "cell_type": "markdown",
   "id": "ba18637e",
   "metadata": {},
   "source": [
    "# Verificaremos si el modelo que estoy usando es el correcto"
   ]
  },
  {
   "cell_type": "code",
   "execution_count": 1,
   "id": "76002baf",
   "metadata": {},
   "outputs": [],
   "source": [
    "from tensorflow.keras.models import Sequential\n",
    "from tensorflow.keras.layers import Dense\n",
    "from tensorflow.keras.layers import Convolution2D\n",
    "from tensorflow.keras.layers import MaxPooling2D\n",
    "from tensorflow.keras.layers import Flatten\n",
    "import cv2\n",
    "import numpy as np\n",
    "import glob\n",
    "import os\n",
    "from random import shuffle"
   ]
  },
  {
   "cell_type": "code",
   "execution_count": 2,
   "id": "40f1fb11",
   "metadata": {},
   "outputs": [],
   "source": [
    "X_train=[]\n",
    "X_test=[]\n",
    "Y_test=[]\n",
    "Y_train=[]\n",
    "dataTr=[]\n",
    "for filename in glob.glob(os.path.join('D:/UMSA/TESIS/Tesis de grado/ProyectoNuevo/data/prueba/melanoma_escalado','*.jpg')):\n",
    "    dataTr.append([1,cv2.imread(filename)])\n",
    "for filename in glob.glob(os.path.join('D:/UMSA/TESIS/Tesis de grado/ProyectoNuevo/data/prueba/carcinoma_escalado','*.jpg')):\n",
    "    dataTr.append([0,cv2.imread(filename)])"
   ]
  },
  {
   "cell_type": "code",
   "execution_count": 3,
   "id": "f2875c53",
   "metadata": {},
   "outputs": [
    {
     "name": "stdout",
     "output_type": "stream",
     "text": [
      "en total tenemos: 5261 imagenes dentro de la carpeta train\n"
     ]
    }
   ],
   "source": [
    "shuffle(dataTr)\n",
    "print(\"en total tenemos: \"+str(len(dataTr))+ \" imagenes dentro de la carpeta train\")"
   ]
  },
  {
   "cell_type": "code",
   "execution_count": 4,
   "id": "1db398ed",
   "metadata": {},
   "outputs": [],
   "source": [
    "def creacion_modelo():\n",
    "    modelo=Sequential()\n",
    "    modelo.add(Convolution2D(4,(3,3),input_shape=(224,224,3),activation='relu'))\n",
    "    modelo.add(Convolution2D(8,(3,3),activation='relu'))\n",
    "    modelo.add(MaxPooling2D(pool_size=((2,2))))\n",
    "    modelo.add(Convolution2D(16,(3,3),activation='relu'))\n",
    "    modelo.add(Convolution2D(32,(3,3),activation='relu'))\n",
    "    modelo.add(MaxPooling2D(pool_size=((2,2))))\n",
    "    modelo.add(Flatten())\n",
    "    modelo.add(Dense(128,activation='relu'))\n",
    "    modelo.add(Dense(100,activation='relu'))\n",
    "    modelo.add(Dense(100,activation='relu'))\n",
    "    modelo.add(Dense(1,activation='sigmoid'))\n",
    "    return modelo"
   ]
  },
  {
   "cell_type": "markdown",
   "id": "2fc99554",
   "metadata": {},
   "source": [
    "## metodos que ayudaran en el proceso de entrenamiento"
   ]
  },
  {
   "cell_type": "code",
   "execution_count": 5,
   "id": "032a480e",
   "metadata": {},
   "outputs": [],
   "source": [
    "def evaluacion(modelo,porcentaje,nombre,x_e,y_e,x_p,y_p,v1,v2):\n",
    "    prediccion=0\n",
    "    epocas=1\n",
    "    while(True):\n",
    "        if prediccion < porcentaje:\n",
    "            prediccion=(validacion(x_e,y_e,x_p,y_p,modelo,1))*100\n",
    "            epocas +=1\n",
    "            v1.append(epocas-1)\n",
    "            v2.append(prediccion)\n",
    "        else:\n",
    "            print(\"==> Para el metodo \"+nombre+\" se utilizo: \"+str(epocas-1)+\" epocas para llegar a mas del \"+str(porcentaje)+\"% de acertividad\")\n",
    "            break"
   ]
  },
  {
   "cell_type": "code",
   "execution_count": 6,
   "id": "515f6fe0",
   "metadata": {},
   "outputs": [],
   "source": [
    "def validacion(x_e,y_e,x_p,y_p,model,epocas):\n",
    "    entre=model.fit(x_e,y_e,batch_size=32,epochs=epocas,validation_data=(x_p,y_p))\n",
    "    a=model.evaluate(x_p,y_p)\n",
    "    return a[1]"
   ]
  },
  {
   "cell_type": "markdown",
   "id": "e3caa08f",
   "metadata": {},
   "source": [
    "## creacion de modelos para cada prueba"
   ]
  },
  {
   "cell_type": "code",
   "execution_count": 7,
   "id": "871ad47d",
   "metadata": {},
   "outputs": [],
   "source": [
    "from tensorflow import keras"
   ]
  },
  {
   "cell_type": "code",
   "execution_count": 8,
   "id": "94b56692",
   "metadata": {},
   "outputs": [
    {
     "name": "stdout",
     "output_type": "stream",
     "text": [
      "WARNING:tensorflow:From C:\\Users\\Desktop\\.conda\\envs\\tesis\\lib\\site-packages\\tensorflow_core\\python\\ops\\resource_variable_ops.py:1630: calling BaseResourceVariable.__init__ (from tensorflow.python.ops.resource_variable_ops) with constraint is deprecated and will be removed in a future version.\n",
      "Instructions for updating:\n",
      "If using Keras pass *_constraint arguments to layers.\n",
      "WARNING:tensorflow:From C:\\Users\\Desktop\\.conda\\envs\\tesis\\lib\\site-packages\\tensorflow_core\\python\\ops\\nn_impl.py:183: where (from tensorflow.python.ops.array_ops) is deprecated and will be removed in a future version.\n",
      "Instructions for updating:\n",
      "Use tf.where in 2.0, which has the same broadcast rule as np.where\n"
     ]
    }
   ],
   "source": [
    "opt = keras.optimizers.Adam(learning_rate=0.0009)\n",
    "modelo=creacion_modelo()\n",
    "modelo.compile(optimizer=opt,loss='binary_crossentropy',metrics=['accuracy'])"
   ]
  },
  {
   "cell_type": "code",
   "execution_count": 9,
   "id": "c4affcfb",
   "metadata": {},
   "outputs": [],
   "source": [
    "def particion(datos):\n",
    "    imagenes=[]\n",
    "    etiquetas=[]\n",
    "    for i,j in datos:\n",
    "        imagenes.append(j)\n",
    "        etiquetas.append(i)\n",
    "    imagenes=np.array(imagenes)\n",
    "    etiquetas=np.array(etiquetas)\n",
    "    return (imagenes,etiquetas)"
   ]
  },
  {
   "cell_type": "markdown",
   "id": "a693024a",
   "metadata": {},
   "source": [
    "## validacion Cruzada"
   ]
  },
  {
   "cell_type": "code",
   "execution_count": 10,
   "id": "1a98e8f7",
   "metadata": {},
   "outputs": [
    {
     "name": "stdout",
     "output_type": "stream",
     "text": [
      "1052 1052 1052 1052 1053\n"
     ]
    }
   ],
   "source": [
    "n=int(len(dataTr)/5)\n",
    "output=[dataTr[i:i + n] for i in range(0, len(dataTr), n)]\n",
    "porcion1=output[0]\n",
    "porcion2=output[1]\n",
    "porcion3=output[2]\n",
    "porcion4=output[3]\n",
    "porcion5=output[4]\n",
    "porcion5.extend(output[5])\n",
    "print(len(porcion1),len(porcion2),len(porcion3),len(porcion4),len(porcion5))"
   ]
  },
  {
   "cell_type": "code",
   "execution_count": 11,
   "id": "927da728",
   "metadata": {},
   "outputs": [],
   "source": [
    "x_p1,y_p1=particion(porcion1)\n",
    "x_p2,y_p2=particion(porcion2)\n",
    "x_p3,y_p3=particion(porcion3)\n",
    "x_p4,y_p4=particion(porcion4)\n",
    "x_p5,y_p5=particion(porcion5)"
   ]
  },
  {
   "cell_type": "code",
   "execution_count": 12,
   "id": "b42f31c3",
   "metadata": {},
   "outputs": [],
   "source": [
    "x_entre=[]\n",
    "y_entre=[]\n",
    "entre1=porcion4+porcion3+porcion2+porcion1\n",
    "entre2=porcion5+porcion3+porcion2+porcion1\n",
    "entre3=porcion5+porcion4+porcion2+porcion1\n",
    "entre4=porcion5+porcion4+porcion3+porcion1\n",
    "entre5=porcion5+porcion4+porcion3+porcion2"
   ]
  },
  {
   "cell_type": "code",
   "execution_count": 13,
   "id": "91ee1085",
   "metadata": {},
   "outputs": [
    {
     "name": "stdout",
     "output_type": "stream",
     "text": [
      "Train on 4208 samples, validate on 1053 samples\n",
      "4208/4208 [==============================] - 42s 10ms/sample - loss: 2.6832 - acc: 0.6744 - val_loss: 0.4962 - val_acc: 0.7398\n",
      "1053/1053 [==============================] - 2s 2ms/sample - loss: 0.4962 - acc: 0.7398\n",
      "Train on 4208 samples, validate on 1053 samples\n",
      "4208/4208 [==============================] - 42s 10ms/sample - loss: 0.4489 - acc: 0.7875 - val_loss: 0.4536 - val_acc: 0.7702\n",
      "1053/1053 [==============================] - 2s 2ms/sample - loss: 0.4536 - acc: 0.7702\n",
      "Train on 4208 samples, validate on 1053 samples\n",
      "4208/4208 [==============================] - 42s 10ms/sample - loss: 0.2693 - acc: 0.8888 - val_loss: 0.4435 - val_acc: 0.8006\n",
      "1053/1053 [==============================] - 2s 2ms/sample - loss: 0.4435 - acc: 0.8006\n",
      "==> Para el metodo ADAM se utilizo: 3 epocas para llegar a mas del 80% de acertividad\n",
      "[1, 2, 3]\n",
      "[73.97910952568054, 77.01804637908936, 80.05697727203369]\n"
     ]
    }
   ],
   "source": [
    "v_e1=[]\n",
    "v_a1=[]\n",
    "x_entre,y_entre=particion(entre1)\n",
    "evaluacion(modelo,80,\"ADAM\",x_entre,y_entre,x_p5,y_p5,v_e1,v_a1)\n",
    "x_entre=[]\n",
    "y_entre=[]\n",
    "print(v_e1)\n",
    "print(v_a1)"
   ]
  },
  {
   "cell_type": "code",
   "execution_count": 14,
   "id": "f5293ac7",
   "metadata": {},
   "outputs": [
    {
     "name": "stdout",
     "output_type": "stream",
     "text": [
      "Train on 4209 samples, validate on 1052 samples\n",
      "4209/4209 [==============================] - 43s 10ms/sample - loss: 0.2410 - acc: 0.9116 - val_loss: 0.1529 - val_acc: 0.9610\n",
      "1052/1052 [==============================] - 2s 2ms/sample - loss: 0.1529 - acc: 0.9610\n",
      "==> Para el metodo ADAM se utilizo: 1 epocas para llegar a mas del 80% de acertividad\n",
      "[1]\n",
      "[96.10266089439392]\n"
     ]
    }
   ],
   "source": [
    "v_e2=[]\n",
    "v_a2=[]\n",
    "x_entre,y_entre=particion(entre2)\n",
    "evaluacion(modelo,80,\"ADAM\",x_entre,y_entre,x_p4,y_p4,v_e2,v_a2)\n",
    "x_entre=[]\n",
    "y_entre=[]\n",
    "print(v_e2)\n",
    "print(v_a2)"
   ]
  },
  {
   "cell_type": "code",
   "execution_count": 15,
   "id": "b6f54d62",
   "metadata": {},
   "outputs": [
    {
     "name": "stdout",
     "output_type": "stream",
     "text": [
      "Train on 4209 samples, validate on 1052 samples\n",
      "4209/4209 [==============================] - 43s 10ms/sample - loss: 0.1415 - acc: 0.9511 - val_loss: 0.1102 - val_acc: 0.9629\n",
      "1052/1052 [==============================] - 2s 2ms/sample - loss: 0.1102 - acc: 0.9629\n",
      "==> Para el metodo ADAM se utilizo: 1 epocas para llegar a mas del 80% de acertividad\n",
      "[1]\n",
      "[96.2927758693695]\n"
     ]
    }
   ],
   "source": [
    "v_e3=[]\n",
    "v_a3=[]\n",
    "x_entre,y_entre=particion(entre3)\n",
    "evaluacion(modelo,80,\"ADAM\",x_entre,y_entre,x_p3,y_p3,v_e3,v_a3)\n",
    "x_entre=[]\n",
    "y_entre=[]\n",
    "print(v_e3)\n",
    "print(v_a3)"
   ]
  },
  {
   "cell_type": "code",
   "execution_count": 16,
   "id": "35602e75",
   "metadata": {},
   "outputs": [
    {
     "name": "stdout",
     "output_type": "stream",
     "text": [
      "Train on 4209 samples, validate on 1052 samples\n",
      "4209/4209 [==============================] - 44s 10ms/sample - loss: 0.0745 - acc: 0.9777 - val_loss: 0.0310 - val_acc: 0.9943\n",
      "1052/1052 [==============================] - 2s 2ms/sample - loss: 0.0310 - acc: 0.9943\n",
      "==> Para el metodo ADAM se utilizo: 1 epocas para llegar a mas del 80% de acertividad\n",
      "[1]\n",
      "[99.42965507507324]\n"
     ]
    }
   ],
   "source": [
    "v_e4=[]\n",
    "v_a4=[]\n",
    "x_entre,y_entre=particion(entre4)\n",
    "evaluacion(modelo,80,\"ADAM\",x_entre,y_entre,x_p2,y_p2,v_e4,v_a4)\n",
    "x_entre=[]\n",
    "y_entre=[]\n",
    "print(v_e4)\n",
    "print(v_a4)"
   ]
  },
  {
   "cell_type": "code",
   "execution_count": 17,
   "id": "2f759813",
   "metadata": {},
   "outputs": [
    {
     "name": "stdout",
     "output_type": "stream",
     "text": [
      "Train on 4209 samples, validate on 1052 samples\n",
      "4209/4209 [==============================] - 44s 10ms/sample - loss: 0.0218 - acc: 0.9943 - val_loss: 0.0106 - val_acc: 0.9971\n",
      "1052/1052 [==============================] - 2s 2ms/sample - loss: 0.0106 - acc: 0.9971\n",
      "==> Para el metodo ADAM se utilizo: 1 epocas para llegar a mas del 80% de acertividad\n",
      "[1]\n",
      "[99.71482753753662]\n"
     ]
    }
   ],
   "source": [
    "v_e5=[]\n",
    "v_a5=[]\n",
    "x_entre,y_entre=particion(entre5)\n",
    "evaluacion(modelo,80,\"ADAM\",x_entre,y_entre,x_p1,y_p1,v_e5,v_a5)\n",
    "print(v_e5)\n",
    "print(v_a5)"
   ]
  },
  {
   "cell_type": "code",
   "execution_count": 18,
   "id": "19ed81c2",
   "metadata": {},
   "outputs": [
    {
     "name": "stdout",
     "output_type": "stream",
     "text": [
      "valores de asertividad: 80.05697727203369 96.10266089439392 96.2927758693695 99.42965507507324 99.71482753753662\n",
      "se tiene que como media el valor: 94.3% de asertividad\n",
      "se tiene que como desviacion estandart: +/- 7.3% de variacion\n"
     ]
    }
   ],
   "source": [
    "resultante=[]\n",
    "resultante.append(v_a1[-1])\n",
    "resultante.append(v_a2[-1])\n",
    "resultante.append(v_a3[-1])\n",
    "resultante.append(v_a4[-1])\n",
    "resultante.append(v_a5[-1])\n",
    "media =round(np.mean(resultante),1) \n",
    "desviacion_estandart = np.std(resultante)\n",
    "print(\"valores de asertividad: \"+str(v_a1[-1]),str(v_a2[-1]),str(v_a3[-1]),str(v_a4[-1]),str(v_a5[-1]))\n",
    "print(\"se tiene que como media el valor: \"+str(media)+\"% de asertividad\")\n",
    "print(\"se tiene que como desviacion estandart: +/- \"+str(round(desviacion_estandart,1))+\"% de variacion\")"
   ]
  },
  {
   "cell_type": "markdown",
   "id": "82a8b344",
   "metadata": {},
   "source": [
    "## Graficando los resultados"
   ]
  },
  {
   "cell_type": "code",
   "execution_count": 19,
   "id": "6acc0f6c",
   "metadata": {},
   "outputs": [],
   "source": [
    "#pip install matplotlib\n",
    "%matplotlib inline\n",
    "import matplotlib.pyplot as mp"
   ]
  },
  {
   "cell_type": "code",
   "execution_count": 20,
   "id": "b22745d5",
   "metadata": {},
   "outputs": [
    {
     "data": {
      "image/png": "[encoded data removed]",
      "text/plain": [
       "<Figure size 640x480 with 1 Axes>"
      ]
     },
     "metadata": {},
     "output_type": "display_data"
    }
   ],
   "source": [
    "mp.plot(v_a1,v_e1, marker='o', linestyle=':', color='b', label = \"Porcion 1\")\n",
    "mp.plot(v_a2,v_e2, marker='x', linestyle='-', color='g', label = \"Porcion 2\")\n",
    "mp.plot(v_a3,v_e3, marker='*', linestyle='--', color='r', label = \"Porcion 3\")\n",
    "mp.plot(v_a4,v_e4, marker='+', linestyle='-', color='c', label = \"Porcion 4\")\n",
    "mp.plot(v_a5,v_e5, marker='^', linestyle='-', color='k', label = \"Porcion 5\")\n",
    "\n",
    "mp.xticks(np.arange(70,100,2))\n",
    "mp.yticks(np.arange(0,4,1))\n",
    "mp.xlabel(\"porcentaje de asertividad\")\n",
    "mp.ylabel(\"Numero de epocas\")\n",
    "mp.legend(loc=\"upper left\")\n",
    "mp.title(\"Grafica de la porcion 1\")\n",
    "mp.grid(True)\n",
    "mp.show()\n"
   ]
  },
  {
   "cell_type": "code",
   "execution_count": 21,
   "id": "499517e2",
   "metadata": {},
   "outputs": [
    {
     "name": "stdout",
     "output_type": "stream",
     "text": [
      "[80.05697727203369, 96.10266089439392, 96.2927758693695, 99.42965507507324, 99.71482753753662]\n"
     ]
    }
   ],
   "source": [
    "print(resultante)"
   ]
  },
  {
   "cell_type": "code",
   "execution_count": null,
   "id": "2c27e562",
   "metadata": {},
   "outputs": [],
   "source": []
  }
 ],
 "metadata": {
  "kernelspec": {
   "display_name": "Python 3 (ipykernel)",
   "language": "python",
   "name": "python3"
  },
  "language_info": {
   "codemirror_mode": {
    "name": "ipython",
    "version": 3
   },
   "file_extension": ".py",
   "mimetype": "text/x-python",
   "name": "python",
   "nbconvert_exporter": "python",
   "pygments_lexer": "ipython3",
   "version": "3.7.15"
  }
 },
 "nbformat": 4,
 "nbformat_minor": 5
}
